{
 "cells": [
  {
   "cell_type": "markdown",
   "metadata": {},
   "source": [
    "# Entailment-based Zero-Shot Text Classification\n",
    "\n",
    "This notebook contains the code to run quick Entailment-based Zero-Shot Text Classification experiments, a dataset is provided with it"
   ]
  },
  {
   "cell_type": "code",
   "execution_count": 1,
   "metadata": {},
   "outputs": [],
   "source": [
    "import torch\n",
    "import pandas as pd\n",
    "from sklearn.metrics import accuracy_score, f1_score, recall_score, precision_score\n",
    "from tqdm import tqdm\n",
    "from transformers import pipeline"
   ]
  },
  {
   "cell_type": "markdown",
   "metadata": {},
   "source": [
    "## Define your classifier\n",
    "\n",
    "Select between ```facebook/bart-large-mnli``` and ```roberta-large-mnli```\n",
    "\n",
    "Just uncomment the code section you want"
   ]
  },
  {
   "cell_type": "code",
   "execution_count": 2,
   "metadata": {},
   "outputs": [
    {
     "name": "stdout",
     "output_type": "stream",
     "text": [
      "Using device: cuda\n"
     ]
    },
    {
     "name": "stderr",
     "output_type": "stream",
     "text": [
      "Some weights of the model checkpoint at roberta-large-mnli were not used when initializing RobertaForSequenceClassification: ['roberta.pooler.dense.bias', 'roberta.pooler.dense.weight']\n",
      "- This IS expected if you are initializing RobertaForSequenceClassification from the checkpoint of a model trained on another task or with another architecture (e.g. initializing a BertForSequenceClassification model from a BertForPreTraining model).\n",
      "- This IS NOT expected if you are initializing RobertaForSequenceClassification from the checkpoint of a model that you expect to be exactly identical (initializing a BertForSequenceClassification model from a BertForSequenceClassification model).\n"
     ]
    }
   ],
   "source": [
    "device = torch.device('cuda' if torch.cuda.is_available() else 'cpu')\n",
    "print('Using device:', device)\n",
    "\n",
    "# RoBERTa\n",
    "classifier = pipeline(\"zero-shot-classification\",\n",
    "                      model=\"roberta-large-mnli\", device=device) # You can set the device to 0 or 1 manually if you want\n",
    "\n",
    "# BART\n",
    "# classifier = pipeline(\"zero-shot-classification\",\n",
    "#                       model=\"facebook/bart-large-mnli\", device=device) # You can set the device to 0 or 1 manually if you want"
   ]
  },
  {
   "cell_type": "markdown",
   "metadata": {},
   "source": [
    "## Import your data\n",
    "\n",
    "Modify the ```DATAPATH``` to the path of dataset you want to test"
   ]
  },
  {
   "cell_type": "code",
   "execution_count": 3,
   "metadata": {},
   "outputs": [
    {
     "name": "stdout",
     "output_type": "stream",
     "text": [
      "The unique classes in the data are : ['offensive' 'ok' 'hateful']\n"
     ]
    }
   ],
   "source": [
    "DATAPATH = \"/data/ARENAS_Automatic_Extremist_Analysis/ARENAS_Automatic_Extremist_Analysis/Entailment/Davidson-test-rayane.csv\"\n",
    "df= pd.read_csv(DATAPATH)\n",
    "\n",
    "# If you want to replace the class names use the following line\n",
    "# df['class'] = df['class'].apply(lambda x: x.replace('ok', 'free'))\n",
    "\n",
    "\n",
    "unique_classes = df['class'].unique()\n",
    "print(\"The unique classes in the data are :\",unique_classes)"
   ]
  },
  {
   "cell_type": "markdown",
   "metadata": {},
   "source": [
    "## Inference\n",
    "\n",
    "You can modify the hypothesis template ```hypothesis_template``` To your desired format"
   ]
  },
  {
   "cell_type": "code",
   "execution_count": 5,
   "metadata": {},
   "outputs": [
    {
     "name": "stdout",
     "output_type": "stream",
     "text": [
      "The candidate labels are:  ['offensive' 'ok' 'hateful']\n"
     ]
    },
    {
     "name": "stderr",
     "output_type": "stream",
     "text": [
      "Classifying sequences:   0%|          | 10/2477 [00:02<05:23,  7.63it/s]/data/ARENAS_Automatic_Extremist_Analysis/ARENAS_Automatic_Extremist_Analysis/venv/lib/python3.10/site-packages/transformers/pipelines/base.py:1101: UserWarning: You seem to be using the pipelines sequentially on GPU. In order to maximize efficiency please use a dataset\n",
      "  warnings.warn(\n",
      "Classifying sequences: 100%|██████████| 2477/2477 [03:46<00:00, 10.94it/s]\n"
     ]
    }
   ],
   "source": [
    "hypothesis_template = \"This text has {} perspective.\"\n",
    "\n",
    "sequences_to_classify = list(df['text'])\n",
    "true_labels = list(df['class'])\n",
    "candidate_labels = unique_classes\n",
    "print(\"The candidate labels are: \", candidate_labels)\n",
    "\n",
    "predicted_labels = []\n",
    "for sequence in tqdm(sequences_to_classify, desc=\"Classifying sequences\"):\n",
    "    classifier_output = classifier(sequence, candidate_labels , hypothesis_template= hypothesis_template)\n",
    "    predicted_label = classifier_output['labels'][0]\n",
    "    predicted_labels.append(predicted_label)\n"
   ]
  },
  {
   "cell_type": "markdown",
   "metadata": {},
   "source": [
    "## Classification metrics"
   ]
  },
  {
   "cell_type": "code",
   "execution_count": 6,
   "metadata": {},
   "outputs": [
    {
     "name": "stdout",
     "output_type": "stream",
     "text": [
      "Accuracy: 0.6693580944691159\n",
      "Precision: 0.46720252786429256\n",
      "Recall: 0.4596520444939516\n",
      "Macro F1 Score: 0.4540398325547212\n"
     ]
    }
   ],
   "source": [
    "accuracy = accuracy_score(true_labels, predicted_labels)\n",
    "precision = precision_score(true_labels, predicted_labels, labels=candidate_labels, average='macro', zero_division=1)\n",
    "recall = recall_score(true_labels, predicted_labels, labels=candidate_labels, average='macro', zero_division=1)\n",
    "f1 = f1_score(true_labels, predicted_labels, labels=candidate_labels, average='macro', zero_division=1)\n",
    "print(\"Accuracy:\", accuracy)\n",
    "print(\"Precision:\", precision)\n",
    "print(\"Recall:\", recall)\n",
    "print(\"Macro F1 Score:\", f1)"
   ]
  },
  {
   "cell_type": "markdown",
   "metadata": {},
   "source": [
    "## Support \n",
    "\n",
    "If you have any issues or improvement suggestions please contact: rayane.ghilene@ensea.fr"
   ]
  },
  {
   "cell_type": "markdown",
   "metadata": {},
   "source": []
  }
 ],
 "metadata": {
  "kernelspec": {
   "display_name": "venv",
   "language": "python",
   "name": "python3"
  },
  "language_info": {
   "codemirror_mode": {
    "name": "ipython",
    "version": 3
   },
   "file_extension": ".py",
   "mimetype": "text/x-python",
   "name": "python",
   "nbconvert_exporter": "python",
   "pygments_lexer": "ipython3",
   "version": "3.10.12"
  }
 },
 "nbformat": 4,
 "nbformat_minor": 2
}
