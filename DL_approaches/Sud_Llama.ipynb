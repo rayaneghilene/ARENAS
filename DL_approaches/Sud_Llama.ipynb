{
 "cells": [
  {
   "cell_type": "markdown",
   "metadata": {},
   "source": [
    "## Fine-tune Llama for SUD"
   ]
  },
  {
   "cell_type": "code",
   "execution_count": null,
   "metadata": {},
   "outputs": [],
   "source": [
    "!pip3 install -q -U accelerate==0.23.0 peft==0.5.0 bitsandbytes==0.41.1 transformers==4.31 trl==0.7.2\n",
    "!pip3 install xformers\n",
    "!pip3 install tensorboardX"
   ]
  },
  {
   "cell_type": "markdown",
   "metadata": {},
   "source": [
    "## Import libraries"
   ]
  },
  {
   "cell_type": "code",
   "execution_count": 1,
   "metadata": {},
   "outputs": [],
   "source": [
    "import os\n",
    "os.environ[\"CUDA_VISIBLE_DEVICES\"] = \"0\"\n",
    "os.environ[\"TOKENIZERS_PARALLELISM\"] = \"false\""
   ]
  },
  {
   "cell_type": "code",
   "execution_count": 2,
   "metadata": {},
   "outputs": [],
   "source": [
    "import warnings\n",
    "warnings.filterwarnings(\"ignore\")"
   ]
  },
  {
   "cell_type": "code",
   "execution_count": 3,
   "metadata": {},
   "outputs": [],
   "source": [
    "import numpy as np\n",
    "import pandas as pd\n",
    "import os\n",
    "from tqdm import tqdm\n",
    "import bitsandbytes as bnb\n",
    "import torch\n",
    "import torch.nn as nn\n",
    "import transformers\n",
    "from datasets import Dataset\n",
    "from peft import LoraConfig, PeftConfig\n",
    "from trl import SFTTrainer\n",
    "from transformers import (AutoModelForCausalLM, \n",
    "                          AutoTokenizer, \n",
    "                          BitsAndBytesConfig, \n",
    "                          TrainingArguments, \n",
    "                          pipeline, \n",
    "                          logging)\n",
    "from sklearn.metrics import (accuracy_score, \n",
    "                             classification_report, \n",
    "                             confusion_matrix)\n",
    "from sklearn.model_selection import train_test_split"
   ]
  },
  {
   "cell_type": "markdown",
   "metadata": {},
   "source": [
    "## Data Loading\n"
   ]
  },
  {
   "cell_type": "code",
   "execution_count": 35,
   "metadata": {},
   "outputs": [],
   "source": [
    "# Read data from CSV file into a pandas DataFrame\n",
    "filename = \"all.csv\"\n",
    "df = pd.read_csv(filename)\n",
    "# Select only the \"input\" and \"labels\" columns from the DataFrame\n",
    "df = df[[\"input\", \"labels\"]]\n"
   ]
  },
  {
   "cell_type": "code",
   "execution_count": 36,
   "metadata": {},
   "outputs": [
    {
     "data": {
      "text/html": [
       "<div>\n",
       "<style scoped>\n",
       "    .dataframe tbody tr th:only-of-type {\n",
       "        vertical-align: middle;\n",
       "    }\n",
       "\n",
       "    .dataframe tbody tr th {\n",
       "        vertical-align: top;\n",
       "    }\n",
       "\n",
       "    .dataframe thead th {\n",
       "        text-align: right;\n",
       "    }\n",
       "</style>\n",
       "<table border=\"1\" class=\"dataframe\">\n",
       "  <thead>\n",
       "    <tr style=\"text-align: right;\">\n",
       "      <th></th>\n",
       "      <th>input</th>\n",
       "      <th>labels</th>\n",
       "    </tr>\n",
       "  </thead>\n",
       "  <tbody>\n",
       "    <tr>\n",
       "      <th>0</th>\n",
       "      <td>i hate a bitch that think they crazy</td>\n",
       "      <td>offensive</td>\n",
       "    </tr>\n",
       "    <tr>\n",
       "      <th>1</th>\n",
       "      <td>people from tucson are the expes on tucson onc...</td>\n",
       "      <td>neither</td>\n",
       "    </tr>\n",
       "    <tr>\n",
       "      <th>2</th>\n",
       "      <td>damn good thing the left is sending their best...</td>\n",
       "      <td>hate</td>\n",
       "    </tr>\n",
       "    <tr>\n",
       "      <th>3</th>\n",
       "      <td>nothing this person lost one of the dearest pp...</td>\n",
       "      <td>neither</td>\n",
       "    </tr>\n",
       "    <tr>\n",
       "      <th>4</th>\n",
       "      <td>lol your rd grade education is impressive to y...</td>\n",
       "      <td>hate</td>\n",
       "    </tr>\n",
       "    <tr>\n",
       "      <th>...</th>\n",
       "      <td>...</td>\n",
       "      <td>...</td>\n",
       "    </tr>\n",
       "    <tr>\n",
       "      <th>101175</th>\n",
       "      <td>gets real interesting here friends when you re...</td>\n",
       "      <td>neither</td>\n",
       "    </tr>\n",
       "    <tr>\n",
       "      <th>101176</th>\n",
       "      <td>new age spiritual leader in the aicle about ne...</td>\n",
       "      <td>neither</td>\n",
       "    </tr>\n",
       "    <tr>\n",
       "      <th>101177</th>\n",
       "      <td>medical treatments for nationals of us should ...</td>\n",
       "      <td>neither</td>\n",
       "    </tr>\n",
       "    <tr>\n",
       "      <th>101178</th>\n",
       "      <td>gimme a break these are hot dogs not frankfuer...</td>\n",
       "      <td>neither</td>\n",
       "    </tr>\n",
       "    <tr>\n",
       "      <th>101179</th>\n",
       "      <td>add a page for vegetable basket</td>\n",
       "      <td>neither</td>\n",
       "    </tr>\n",
       "  </tbody>\n",
       "</table>\n",
       "<p>101180 rows × 2 columns</p>\n",
       "</div>"
      ],
      "text/plain": [
       "                                                    input     labels\n",
       "0                    i hate a bitch that think they crazy  offensive\n",
       "1       people from tucson are the expes on tucson onc...    neither\n",
       "2       damn good thing the left is sending their best...       hate\n",
       "3       nothing this person lost one of the dearest pp...    neither\n",
       "4       lol your rd grade education is impressive to y...       hate\n",
       "...                                                   ...        ...\n",
       "101175  gets real interesting here friends when you re...    neither\n",
       "101176  new age spiritual leader in the aicle about ne...    neither\n",
       "101177  medical treatments for nationals of us should ...    neither\n",
       "101178  gimme a break these are hot dogs not frankfuer...    neither\n",
       "101179                    add a page for vegetable basket    neither\n",
       "\n",
       "[101180 rows x 2 columns]"
      ]
     },
     "execution_count": 36,
     "metadata": {},
     "output_type": "execute_result"
    }
   ],
   "source": [
    "df"
   ]
  },
  {
   "cell_type": "code",
   "execution_count": 37,
   "metadata": {},
   "outputs": [
    {
     "name": "stdout",
     "output_type": "stream",
     "text": [
      "['offensive' 'neither' 'hate' 'severe_toxic' 'toxic' 'insult' 'profane'\n",
      " 'obscene' 'identity_hate' 'threat']\n"
     ]
    }
   ],
   "source": [
    "# Assuming df is your DataFrame and 'column_name' is the name of the column\n",
    "unique_values = df['labels'].unique()\n",
    "\n",
    "# Print the unique values\n",
    "print(unique_values)"
   ]
  },
  {
   "cell_type": "code",
   "execution_count": 38,
   "metadata": {},
   "outputs": [],
   "source": [
    "# Assuming df is your DataFrame and 'column_name' is the name of the column\n",
    "df['labels'] = df['labels'].replace({'severe_toxic': 'severe', 'identity_hate': 'identity', \"insult\": \"ins\", \"offensive\": \"off\", \"profane\": \"prof\", \"obscene\": \"obsc\", \"toxic\": \"to\"})\n",
    "\n",
    "# Now 'severe_toxic' should be replaced with 'severe toxic' and 'intentity_hate' with 'identity hate'\n"
   ]
  },
  {
   "cell_type": "code",
   "execution_count": 39,
   "metadata": {},
   "outputs": [
    {
     "name": "stdout",
     "output_type": "stream",
     "text": [
      "['off' 'neither' 'hate' 'severe' 'to' 'ins' 'prof' 'obsc' 'identity'\n",
      " 'threat']\n"
     ]
    }
   ],
   "source": [
    "unique_values = df['labels'].unique()\n",
    "\n",
    "print(unique_values)"
   ]
  },
  {
   "cell_type": "markdown",
   "metadata": {},
   "source": [
    "## Data Splitting and Prompt Generation"
   ]
  },
  {
   "cell_type": "code",
   "execution_count": 51,
   "metadata": {},
   "outputs": [],
   "source": [
    "X_train = list()\n",
    "X_test = list()\n",
    "# Split the data into training, testing, and evaluation sets for each sentiment label\n",
    "for labels in [\"off\", \"neither\", \"hate\", \"severe\", \"to\", \"ins\", \"prof\", \"obsc\", \"identity\", \"threat\"]:\n",
    "    train, test  = train_test_split(df[df.labels==labels], \n",
    "                                    train_size=90,\n",
    "                                    test_size=10, \n",
    "                                    random_state=42)\n",
    "    X_train.append(train)\n",
    "    X_test.append(test)\n",
    "\n",
    "# Concatenate and shuffle the training and testing sets\n",
    "X_train = pd.concat(X_train).sample(frac=1, random_state=10)\n",
    "X_test = pd.concat(X_test)\n",
    "\n",
    "# Select evaluation samples from the remaining data\n",
    "eval_idx = [idx for idx in df.index if idx not in list(train.index) + list(test.index)]\n",
    "X_eval = df[df.index.isin(eval_idx)]\n",
    "X_eval = (X_eval\n",
    "          .groupby('labels', group_keys=False)\n",
    "          .apply(lambda x: x.sample(n=50, random_state=10, replace=True)))\n",
    "\n",
    "# Reset index of the training set\n",
    "X_train = X_train.reset_index(drop=True)\n",
    "\n",
    "# Function to generate prompts for training and evaluation data\n",
    "def generate_prompt(data_point):\n",
    "    return f\"\"\"\n",
    "            Categorize the tweet enclosed in square brackets to determine if it is off, or neither, or hate, or severe, or to, or ins, or prof, or obsc, or identity, or threat, \n",
    "            and return the answer as the corresponding label:\n",
    "            \"off\" or \"neither\" or \"hate\" or \"severe\" or \"to\" or \"ins\" or \"prof\" or \"obsc\" or \"identity\" or \"threat\". \n",
    "            Make sure to give the whole label as an answer.\n",
    "            [{data_point[\"input\"]}] = {data_point[\"labels\"]}\n",
    "            \"\"\".strip()\n",
    "\n",
    "# Function to generate prompts for testing data\n",
    "def generate_test_prompt(data_point):\n",
    "    return f\"\"\"\n",
    "            Categorize the tweet enclosed in square brackets to determine if it is off, or neither, or hate, or severe, or to, or ins, or prof, or obsc, or identity, or threat, \n",
    "            and return the answer as the corresponding label:\n",
    "            \"off\" or \"neither\" or \"hate\" or \"severe\" or \"to\" or \"ins\" or \"prof\" or \"obsc\" or \"identity\" or \"threat\".\n",
    "            Make sure to give the whole label as an answer.\n",
    "            [{data_point[\"input\"]}] = \"\"\".strip()\n",
    "\n",
    "# Convert the prompts into DataFrames for training, evaluation, and testing\n",
    "X_train = pd.DataFrame(X_train.apply(generate_prompt, axis=1), \n",
    "                       columns=[\"input\"])\n",
    "X_eval = pd.DataFrame(X_eval.apply(generate_prompt, axis=1), \n",
    "                      columns=[\"input\"])\n",
    "\n",
    "y_true = X_test.labels\n",
    "X_test = pd.DataFrame(X_test.apply(generate_test_prompt, axis=1), columns=[\"input\"])\n",
    "\n",
    "# Create datasets from the generated prompts\n",
    "train_data = Dataset.from_pandas(X_train)\n",
    "eval_data = Dataset.from_pandas(X_eval)"
   ]
  },
  {
   "cell_type": "code",
   "execution_count": 52,
   "metadata": {},
   "outputs": [
    {
     "data": {
      "text/plain": [
       "'threat'"
      ]
     },
     "execution_count": 52,
     "metadata": {},
     "output_type": "execute_result"
    }
   ],
   "source": [
    "labels"
   ]
  },
  {
   "cell_type": "markdown",
   "metadata": {},
   "source": [
    "## Evaluation function"
   ]
  },
  {
   "cell_type": "code",
   "execution_count": 53,
   "metadata": {},
   "outputs": [],
   "source": [
    "def evaluate(y_true, y_pred):\n",
    "    # Define labels and their corresponding numeric mappings\n",
    "    labels = [\"off\", \"neither\", \"hate\", \"severe\", \"to\", \"ins\", \"prof\", \"obsc\", \"identity\", \"threat\"]\n",
    "    mapping = {\"off\": 9, \"neither\": 8, \"hate\": 7, \"severe\" : 6, \"to\": 5, \"ins\": 4, \"prof\": 3, \"obsc\": 2, \"identity\": 1, \"threat\": 0}\n",
    "    \n",
    "    # Function to map labels to numeric values\n",
    "    def map_func(x):\n",
    "        return mapping.get(x, 1)\n",
    "    \n",
    "    # Apply mapping to true and predicted labels\n",
    "    y_true = np.vectorize(map_func)(y_true)\n",
    "    y_pred = np.vectorize(map_func)(y_pred)\n",
    "    \n",
    "    # Calculate accuracy\n",
    "    accuracy = accuracy_score(y_true=y_true, y_pred=y_pred)\n",
    "    print(f'Accuracy: {accuracy:.3f}')\n",
    "    \n",
    "    # Generate accuracy report\n",
    "    unique_labels = set(y_true)  # Get unique labels\n",
    "    \n",
    "    for label in unique_labels:\n",
    "        label_indices = [i for i in range(len(y_true)) \n",
    "                         if y_true[i] == label]\n",
    "        label_y_true = [y_true[i] for i in label_indices]\n",
    "        label_y_pred = [y_pred[i] for i in label_indices]\n",
    "        accuracy = accuracy_score(label_y_true, label_y_pred)\n",
    "        print(f'Accuracy for label {label}: {accuracy:.3f}')\n",
    "        \n",
    "    # Generate classification report\n",
    "    class_report = classification_report(y_true=y_true, y_pred=y_pred)\n",
    "    print('\\nClassification Report:')\n",
    "    print(class_report)\n",
    "    # Generate confusion matrix\n",
    "    conf_matrix = confusion_matrix(y_true=y_true, y_pred=y_pred, labels=[0, 1, 2, 3, 4, 5, 6, 7, 8, 9])\n",
    "    print('\\nConfusion Matrix:')\n",
    "    print(conf_matrix)\n",
    "\n"
   ]
  },
  {
   "cell_type": "markdown",
   "metadata": {},
   "source": [
    "## Model Configuration and Initialization"
   ]
  },
  {
   "cell_type": "code",
   "execution_count": 54,
   "metadata": {},
   "outputs": [
    {
     "name": "stderr",
     "output_type": "stream",
     "text": [
      "Loading checkpoint shards: 100%|██████████| 2/2 [00:03<00:00,  1.91s/it]\n"
     ]
    }
   ],
   "source": [
    "#model_name = \"../input/llama-2/pytorch/7b-hf/1\"\n",
    "model_name = \"meta-llama/Llama-2-7b-hf\"\n",
    "#model_name = \"meta-llama/Llama-2-13b-hf\"\n",
    "# Define the data type for model computation\n",
    "compute_dtype = getattr(torch, \"float16\")\n",
    "\n",
    "# Configure BitsAndBytes quantization parameters\n",
    "bnb_config = BitsAndBytesConfig(\n",
    "    load_in_4bit=True,\n",
    "    bnb_4bit_quant_type=\"nf4\",\n",
    "    bnb_4bit_compute_dtype=compute_dtype,\n",
    "    bnb_4bit_use_double_quant=False,\n",
    ")\n",
    "\n",
    "# Initialize the model with quantization settings\n",
    "model = AutoModelForCausalLM.from_pretrained(\n",
    "    model_name,\n",
    "    device_map=\"auto\",\n",
    "    quantization_config=bnb_config, \n",
    ")\n",
    "\n",
    "# Initialize the model with quantization settings\n",
    "model.config.use_cache = False\n",
    "model.config.pretraining_tp = 1\n",
    "\n",
    "# Initialize the tokenizer for the model\n",
    "tokenizer = AutoTokenizer.from_pretrained(model_name, \n",
    "                                          trust_remote_code=True,\n",
    "                                         )\n",
    "# Set padding token and side for the tokenizer\n",
    "tokenizer.pad_token = tokenizer.eos_token\n",
    "tokenizer.padding_side = \"right\""
   ]
  },
  {
   "cell_type": "markdown",
   "metadata": {},
   "source": [
    "## Prediction Function\n"
   ]
  },
  {
   "cell_type": "code",
   "execution_count": 55,
   "metadata": {},
   "outputs": [],
   "source": [
    "def predict(test, model, tokenizer):\n",
    "    \"\"\"\n",
    "    Make predictions using a text generation model.\n",
    "\n",
    "    Parameters:\n",
    "        test (pd.DataFrame): DataFrame containing test data.\n",
    "        model: Pre-trained text generation model.\n",
    "        tokenizer: Tokenizer for the model.\n",
    "\n",
    "    Returns:\n",
    "        list: Predicted labels for each input.\n",
    "    \"\"\"    \n",
    "    y_pred = []\n",
    "    for i in tqdm(range(len(X_test))):\n",
    "        prompt = X_test.iloc[i][\"input\"]\n",
    "        # Create a text generation pipeline\n",
    "        pipe = pipeline(task=\"text-generation\", \n",
    "                        model=model, \n",
    "                        tokenizer=tokenizer, \n",
    "                        max_new_tokens = 1, \n",
    "                        temperature = 0.0,\n",
    "                       )\n",
    "        # Generate text based on the prompt\n",
    "        result = pipe(prompt)\n",
    "        print(result)\n",
    "        answer = result[0]['generated_text'].split(\"=\")[-1]\n",
    "        print(answer)\n",
    "        # Map the generated text to sentiment labels\n",
    "        if \"off\" in answer:\n",
    "            y_pred.append(\"off\")\n",
    "        elif \"hate\" in answer:\n",
    "            y_pred.append(\"hate\")\n",
    "        elif \"severe\" in answer:\n",
    "            y_pred.append(\"severe\")\n",
    "        elif \"to\" in answer:\n",
    "            y_pred.append(\"to\")\n",
    "        elif \"ins\" in answer:\n",
    "            y_pred.append(\"ins\")\n",
    "        elif \"prof\" in answer:\n",
    "            y_pred.append(\"prof\")\n",
    "        elif \"obsc\" in answer:\n",
    "            y_pred.append(\"obsc\")\n",
    "        elif \"identity\" in answer:\n",
    "            y_pred.append(\"identity\")\n",
    "        elif \"threat\" in answer:\n",
    "            y_pred.append(\"threat\")\n",
    "        else:\n",
    "            y_pred.append(\"neither\")\n",
    "    return y_pred"
   ]
  },
  {
   "cell_type": "code",
   "execution_count": 56,
   "metadata": {},
   "outputs": [
    {
     "name": "stderr",
     "output_type": "stream",
     "text": [
      "  2%|▏         | 2/100 [00:00<00:12,  7.89it/s]"
     ]
    },
    {
     "name": "stdout",
     "output_type": "stream",
     "text": [
      "[{'generated_text': 'Categorize the tweet enclosed in square brackets to determine if it is off, or neither, or hate, or severe, or to, or ins, or prof, or obsc, or identity, or threat, \\n            and return the answer as the corresponding label:\\n            \"off\" or \"neither\" or \"hate\" or \"severe\" or \"to\" or \"ins\" or \"prof\" or \"obsc\" or \"identity\" or \"threat\".\\n            Make sure to give the whole label as an answer.\\n            [ik i look good and all but dam bitches stop making it obv your staring at me loll] = \"'}]\n",
      " \"\n",
      "[{'generated_text': 'Categorize the tweet enclosed in square brackets to determine if it is off, or neither, or hate, or severe, or to, or ins, or prof, or obsc, or identity, or threat, \\n            and return the answer as the corresponding label:\\n            \"off\" or \"neither\" or \"hate\" or \"severe\" or \"to\" or \"ins\" or \"prof\" or \"obsc\" or \"identity\" or \"threat\".\\n            Make sure to give the whole label as an answer.\\n            [a bitch who cant ride dick is useless] = \"'}]\n",
      " \"\n"
     ]
    },
    {
     "name": "stderr",
     "output_type": "stream",
     "text": [
      "  4%|▍         | 4/100 [00:00<00:10,  8.84it/s]"
     ]
    },
    {
     "name": "stdout",
     "output_type": "stream",
     "text": [
      "[{'generated_text': 'Categorize the tweet enclosed in square brackets to determine if it is off, or neither, or hate, or severe, or to, or ins, or prof, or obsc, or identity, or threat, \\n            and return the answer as the corresponding label:\\n            \"off\" or \"neither\" or \"hate\" or \"severe\" or \"to\" or \"ins\" or \"prof\" or \"obsc\" or \"identity\" or \"threat\".\\n            Make sure to give the whole label as an answer.\\n            [the metoo movement is just an extension of the democrats kkk amp the hate group antifa its just another form of lynching those who oppose their agenda metoo people jump on ban wagons in the name of justice to perpetuate mass bullying of those who threaten to expose them] = \"'}]\n",
      " \"\n",
      "[{'generated_text': 'Categorize the tweet enclosed in square brackets to determine if it is off, or neither, or hate, or severe, or to, or ins, or prof, or obsc, or identity, or threat, \\n            and return the answer as the corresponding label:\\n            \"off\" or \"neither\" or \"hate\" or \"severe\" or \"to\" or \"ins\" or \"prof\" or \"obsc\" or \"identity\" or \"threat\".\\n            Make sure to give the whole label as an answer.\\n            [the democrats are becoming more despicable by the day there is no bottom to their vitriol and lies barrel why liberals go along with this makes no sense] = \"'}]\n",
      " \"\n"
     ]
    },
    {
     "name": "stderr",
     "output_type": "stream",
     "text": [
      "  6%|▌         | 6/100 [00:00<00:10,  9.32it/s]"
     ]
    },
    {
     "name": "stdout",
     "output_type": "stream",
     "text": [
      "[{'generated_text': 'Categorize the tweet enclosed in square brackets to determine if it is off, or neither, or hate, or severe, or to, or ins, or prof, or obsc, or identity, or threat, \\n            and return the answer as the corresponding label:\\n            \"off\" or \"neither\" or \"hate\" or \"severe\" or \"to\" or \"ins\" or \"prof\" or \"obsc\" or \"identity\" or \"threat\".\\n            Make sure to give the whole label as an answer.\\n            [so many issues facing australian voters but the single obsession of australian conservatives is bullying transgender children] = \"'}]\n",
      " \"\n",
      "[{'generated_text': 'Categorize the tweet enclosed in square brackets to determine if it is off, or neither, or hate, or severe, or to, or ins, or prof, or obsc, or identity, or threat, \\n            and return the answer as the corresponding label:\\n            \"off\" or \"neither\" or \"hate\" or \"severe\" or \"to\" or \"ins\" or \"prof\" or \"obsc\" or \"identity\" or \"threat\".\\n            Make sure to give the whole label as an answer.\\n            [you mean exactly like conservatives are attacking this current victim] = \"'}]\n",
      " \"\n"
     ]
    },
    {
     "name": "stderr",
     "output_type": "stream",
     "text": [
      "  8%|▊         | 8/100 [00:00<00:09,  9.56it/s]"
     ]
    },
    {
     "name": "stdout",
     "output_type": "stream",
     "text": [
      "[{'generated_text': 'Categorize the tweet enclosed in square brackets to determine if it is off, or neither, or hate, or severe, or to, or ins, or prof, or obsc, or identity, or threat, \\n            and return the answer as the corresponding label:\\n            \"off\" or \"neither\" or \"hate\" or \"severe\" or \"to\" or \"ins\" or \"prof\" or \"obsc\" or \"identity\" or \"threat\".\\n            Make sure to give the whole label as an answer.\\n            [this bitch gonna steal a police uniform and think she has some authority i say we pop the trunk on her bitch ass] = \"'}]\n",
      " \"\n",
      "[{'generated_text': 'Categorize the tweet enclosed in square brackets to determine if it is off, or neither, or hate, or severe, or to, or ins, or prof, or obsc, or identity, or threat, \\n            and return the answer as the corresponding label:\\n            \"off\" or \"neither\" or \"hate\" or \"severe\" or \"to\" or \"ins\" or \"prof\" or \"obsc\" or \"identity\" or \"threat\".\\n            Make sure to give the whole label as an answer.\\n            [lucky bitch] = \"'}]\n",
      " \"\n"
     ]
    },
    {
     "name": "stderr",
     "output_type": "stream",
     "text": [
      " 10%|█         | 10/100 [00:01<00:09,  9.56it/s]"
     ]
    },
    {
     "name": "stdout",
     "output_type": "stream",
     "text": [
      "[{'generated_text': 'Categorize the tweet enclosed in square brackets to determine if it is off, or neither, or hate, or severe, or to, or ins, or prof, or obsc, or identity, or threat, \\n            and return the answer as the corresponding label:\\n            \"off\" or \"neither\" or \"hate\" or \"severe\" or \"to\" or \"ins\" or \"prof\" or \"obsc\" or \"identity\" or \"threat\".\\n            Make sure to give the whole label as an answer.\\n            [juicy j cant say no to ratchet pussy remember] = \"'}]\n",
      " \"\n",
      "[{'generated_text': 'Categorize the tweet enclosed in square brackets to determine if it is off, or neither, or hate, or severe, or to, or ins, or prof, or obsc, or identity, or threat, \\n            and return the answer as the corresponding label:\\n            \"off\" or \"neither\" or \"hate\" or \"severe\" or \"to\" or \"ins\" or \"prof\" or \"obsc\" or \"identity\" or \"threat\".\\n            Make sure to give the whole label as an answer.\\n            [her family consist of cheating husband who never loved her two bonus boys who made it clear she is not their mom and never will be in laws who show more affection to stray cats than wewe paid employees who laugh at her while cashing her checks] = \"'}]\n",
      " \"\n"
     ]
    },
    {
     "name": "stderr",
     "output_type": "stream",
     "text": [
      " 12%|█▏        | 12/100 [00:01<00:09,  9.49it/s]"
     ]
    },
    {
     "name": "stdout",
     "output_type": "stream",
     "text": [
      "[{'generated_text': 'Categorize the tweet enclosed in square brackets to determine if it is off, or neither, or hate, or severe, or to, or ins, or prof, or obsc, or identity, or threat, \\n            and return the answer as the corresponding label:\\n            \"off\" or \"neither\" or \"hate\" or \"severe\" or \"to\" or \"ins\" or \"prof\" or \"obsc\" or \"identity\" or \"threat\".\\n            Make sure to give the whole label as an answer.\\n            [thanks for experimenting with wikipedia your test worked and has been removed or reveed please use the sandbox for any other tests you want to do take a look at the welcome page if you would like to learn more about contributing to our encyclopedia thanks] = \"'}]\n",
      " \"\n",
      "[{'generated_text': 'Categorize the tweet enclosed in square brackets to determine if it is off, or neither, or hate, or severe, or to, or ins, or prof, or obsc, or identity, or threat, \\n            and return the answer as the corresponding label:\\n            \"off\" or \"neither\" or \"hate\" or \"severe\" or \"to\" or \"ins\" or \"prof\" or \"obsc\" or \"identity\" or \"threat\".\\n            Make sure to give the whole label as an answer.\\n            [thank you for your comment it will help other users keep track if you can get into the habit of signing comments either with your chosen user name or by typing four tildes after your comment] = \"'}]\n",
      " \"\n"
     ]
    },
    {
     "name": "stderr",
     "output_type": "stream",
     "text": [
      " 14%|█▍        | 14/100 [00:01<00:10,  8.02it/s]"
     ]
    },
    {
     "name": "stdout",
     "output_type": "stream",
     "text": [
      "[{'generated_text': 'Categorize the tweet enclosed in square brackets to determine if it is off, or neither, or hate, or severe, or to, or ins, or prof, or obsc, or identity, or threat, \\n            and return the answer as the corresponding label:\\n            \"off\" or \"neither\" or \"hate\" or \"severe\" or \"to\" or \"ins\" or \"prof\" or \"obsc\" or \"identity\" or \"threat\".\\n            Make sure to give the whole label as an answer.\\n            [do not be pathetic i do not take anti polish views and do not make anti polish edits unless of course you consider deleting polish pov as making anti polish edits provide evidence if you believe it is not so also i am by far not the only one to react to your behaviour here you ask me about my nationality i will not tell you as i believe nationality does not matter on wikipedia however contrary to you i am not at the same time a self declared czech when talking to editors with czech ancestry a european since the beginning of this calendar year and a pole whose grandfather was active in preparations of the polish occupation of zaolzie when talking to your fellow polish editors if you talk about your achievements why do you not mention that you were several times blocked once even by jimbo wales for personal attacks or incivility why do you keep quiet about being desysoped because of bad behaviour in a dispute relating to ethnic issues in relation to the latest edits in cieszyn and esk t n the austrian census of do you still believe there were no czechs in town or did you not know at that time it is not a pov pushing from my side i would do the same for the czech minority if some would be here do seriously think of your approach you have my sympathies in preserving polish traditions and ethnicity in teschen silesia but i will keep on strongly opposing your pov inseions they do not belong here this is wikipedia] = \"'}]\n",
      " \"\n",
      "[{'generated_text': 'Categorize the tweet enclosed in square brackets to determine if it is off, or neither, or hate, or severe, or to, or ins, or prof, or obsc, or identity, or threat, \\n            and return the answer as the corresponding label:\\n            \"off\" or \"neither\" or \"hate\" or \"severe\" or \"to\" or \"ins\" or \"prof\" or \"obsc\" or \"identity\" or \"threat\".\\n            Make sure to give the whole label as an answer.\\n            [alison crawford you and this other turd riana dumped the aicle about alison crawford odds are youre not even in the uk to know who she is its hard to get over the fact that non notable maggots like you can go around policing at wikipedia playing at and pretending to be notable yourselves and fuck up the experience for the rest of us and make wikipedia generally less effective and useful for wikipedia visitors in general] = \"'}]\n",
      " \"\n"
     ]
    },
    {
     "name": "stderr",
     "output_type": "stream",
     "text": [
      " 16%|█▌        | 16/100 [00:01<00:09,  8.80it/s]"
     ]
    },
    {
     "name": "stdout",
     "output_type": "stream",
     "text": [
      "[{'generated_text': 'Categorize the tweet enclosed in square brackets to determine if it is off, or neither, or hate, or severe, or to, or ins, or prof, or obsc, or identity, or threat, \\n            and return the answer as the corresponding label:\\n            \"off\" or \"neither\" or \"hate\" or \"severe\" or \"to\" or \"ins\" or \"prof\" or \"obsc\" or \"identity\" or \"threat\".\\n            Make sure to give the whole label as an answer.\\n            [current users contrary to what the aicle says several current models use body on frame we should list them] = \"'}]\n",
      " \"\n",
      "[{'generated_text': 'Categorize the tweet enclosed in square brackets to determine if it is off, or neither, or hate, or severe, or to, or ins, or prof, or obsc, or identity, or threat, \\n            and return the answer as the corresponding label:\\n            \"off\" or \"neither\" or \"hate\" or \"severe\" or \"to\" or \"ins\" or \"prof\" or \"obsc\" or \"identity\" or \"threat\".\\n            Make sure to give the whole label as an answer.\\n            [you have until jan to remove yourself from wikipedia if you fail to follow this request you will be terminated] = \"'}]\n",
      " \"\n"
     ]
    },
    {
     "name": "stderr",
     "output_type": "stream",
     "text": [
      " 18%|█▊        | 18/100 [00:02<00:08,  9.25it/s]"
     ]
    },
    {
     "name": "stdout",
     "output_type": "stream",
     "text": [
      "[{'generated_text': 'Categorize the tweet enclosed in square brackets to determine if it is off, or neither, or hate, or severe, or to, or ins, or prof, or obsc, or identity, or threat, \\n            and return the answer as the corresponding label:\\n            \"off\" or \"neither\" or \"hate\" or \"severe\" or \"to\" or \"ins\" or \"prof\" or \"obsc\" or \"identity\" or \"threat\".\\n            Make sure to give the whole label as an answer.\\n            [some impoant things seem to have been dropped] = \"'}]\n",
      " \"\n",
      "[{'generated_text': 'Categorize the tweet enclosed in square brackets to determine if it is off, or neither, or hate, or severe, or to, or ins, or prof, or obsc, or identity, or threat, \\n            and return the answer as the corresponding label:\\n            \"off\" or \"neither\" or \"hate\" or \"severe\" or \"to\" or \"ins\" or \"prof\" or \"obsc\" or \"identity\" or \"threat\".\\n            Make sure to give the whole label as an answer.\\n            [you literally believe in fairy tales] = \"'}]\n",
      " \"\n"
     ]
    },
    {
     "name": "stderr",
     "output_type": "stream",
     "text": [
      " 20%|██        | 20/100 [00:02<00:08,  9.43it/s]"
     ]
    },
    {
     "name": "stdout",
     "output_type": "stream",
     "text": [
      "[{'generated_text': 'Categorize the tweet enclosed in square brackets to determine if it is off, or neither, or hate, or severe, or to, or ins, or prof, or obsc, or identity, or threat, \\n            and return the answer as the corresponding label:\\n            \"off\" or \"neither\" or \"hate\" or \"severe\" or \"to\" or \"ins\" or \"prof\" or \"obsc\" or \"identity\" or \"threat\".\\n            Make sure to give the whole label as an answer.\\n            [file turk bilge tonyukuk monument jpg what is your reason that it violates copyright policy] = \"'}]\n",
      " \"\n",
      "[{'generated_text': 'Categorize the tweet enclosed in square brackets to determine if it is off, or neither, or hate, or severe, or to, or ins, or prof, or obsc, or identity, or threat, \\n            and return the answer as the corresponding label:\\n            \"off\" or \"neither\" or \"hate\" or \"severe\" or \"to\" or \"ins\" or \"prof\" or \"obsc\" or \"identity\" or \"threat\".\\n            Make sure to give the whole label as an answer.\\n            [august utc keep it out i didnt pick it up as a homophobic comment talk] = \"'}]\n",
      " \"\n"
     ]
    },
    {
     "name": "stderr",
     "output_type": "stream",
     "text": [
      " 22%|██▏       | 22/100 [00:02<00:08,  9.69it/s]"
     ]
    },
    {
     "name": "stdout",
     "output_type": "stream",
     "text": [
      "[{'generated_text': 'Categorize the tweet enclosed in square brackets to determine if it is off, or neither, or hate, or severe, or to, or ins, or prof, or obsc, or identity, or threat, \\n            and return the answer as the corresponding label:\\n            \"off\" or \"neither\" or \"hate\" or \"severe\" or \"to\" or \"ins\" or \"prof\" or \"obsc\" or \"identity\" or \"threat\".\\n            Make sure to give the whole label as an answer.\\n            [faggots] = \"'}]\n",
      " \"\n",
      "[{'generated_text': 'Categorize the tweet enclosed in square brackets to determine if it is off, or neither, or hate, or severe, or to, or ins, or prof, or obsc, or identity, or threat, \\n            and return the answer as the corresponding label:\\n            \"off\" or \"neither\" or \"hate\" or \"severe\" or \"to\" or \"ins\" or \"prof\" or \"obsc\" or \"identity\" or \"threat\".\\n            Make sure to give the whole label as an answer.\\n            [i dont watch retarded racists] = \"'}]\n",
      " \"\n"
     ]
    },
    {
     "name": "stderr",
     "output_type": "stream",
     "text": [
      " 24%|██▍       | 24/100 [00:02<00:07,  9.62it/s]"
     ]
    },
    {
     "name": "stdout",
     "output_type": "stream",
     "text": [
      "[{'generated_text': 'Categorize the tweet enclosed in square brackets to determine if it is off, or neither, or hate, or severe, or to, or ins, or prof, or obsc, or identity, or threat, \\n            and return the answer as the corresponding label:\\n            \"off\" or \"neither\" or \"hate\" or \"severe\" or \"to\" or \"ins\" or \"prof\" or \"obsc\" or \"identity\" or \"threat\".\\n            Make sure to give the whole label as an answer.\\n            [i looked up one of the claims you made repeatedly about harvard being jew sourcing hillel i found that its false and pretty obvious to verify harvard is actually only jewish what retard is doing your research for you] = \"'}]\n",
      " \"\n",
      "[{'generated_text': 'Categorize the tweet enclosed in square brackets to determine if it is off, or neither, or hate, or severe, or to, or ins, or prof, or obsc, or identity, or threat, \\n            and return the answer as the corresponding label:\\n            \"off\" or \"neither\" or \"hate\" or \"severe\" or \"to\" or \"ins\" or \"prof\" or \"obsc\" or \"identity\" or \"threat\".\\n            Make sure to give the whole label as an answer.\\n            [hit time where is jimmy et al when you need the black hand irish southies] = \"'}]\n",
      " \"\n"
     ]
    },
    {
     "name": "stderr",
     "output_type": "stream",
     "text": [
      " 26%|██▌       | 26/100 [00:02<00:07,  9.80it/s]"
     ]
    },
    {
     "name": "stdout",
     "output_type": "stream",
     "text": [
      "[{'generated_text': 'Categorize the tweet enclosed in square brackets to determine if it is off, or neither, or hate, or severe, or to, or ins, or prof, or obsc, or identity, or threat, \\n            and return the answer as the corresponding label:\\n            \"off\" or \"neither\" or \"hate\" or \"severe\" or \"to\" or \"ins\" or \"prof\" or \"obsc\" or \"identity\" or \"threat\".\\n            Make sure to give the whole label as an answer.\\n            [hes a twat] = \"'}]\n",
      " \"\n",
      "[{'generated_text': 'Categorize the tweet enclosed in square brackets to determine if it is off, or neither, or hate, or severe, or to, or ins, or prof, or obsc, or identity, or threat, \\n            and return the answer as the corresponding label:\\n            \"off\" or \"neither\" or \"hate\" or \"severe\" or \"to\" or \"ins\" or \"prof\" or \"obsc\" or \"identity\" or \"threat\".\\n            Make sure to give the whole label as an answer.\\n            [should only have incarceration rights] = \"'}]\n",
      " \"\n",
      "[{'generated_text': 'Categorize the tweet enclosed in square brackets to determine if it is off, or neither, or hate, or severe, or to, or ins, or prof, or obsc, or identity, or threat, \\n            and return the answer as the corresponding label:\\n            \"off\" or \"neither\" or \"hate\" or \"severe\" or \"to\" or \"ins\" or \"prof\" or \"obsc\" or \"identity\" or \"threat\".\\n            Make sure to give the whole label as an answer.\\n            [retarded] = off'}]\n",
      " off\n"
     ]
    },
    {
     "name": "stderr",
     "output_type": "stream",
     "text": [
      " 29%|██▉       | 29/100 [00:03<00:07,  9.75it/s]"
     ]
    },
    {
     "name": "stdout",
     "output_type": "stream",
     "text": [
      "[{'generated_text': 'Categorize the tweet enclosed in square brackets to determine if it is off, or neither, or hate, or severe, or to, or ins, or prof, or obsc, or identity, or threat, \\n            and return the answer as the corresponding label:\\n            \"off\" or \"neither\" or \"hate\" or \"severe\" or \"to\" or \"ins\" or \"prof\" or \"obsc\" or \"identity\" or \"threat\".\\n            Make sure to give the whole label as an answer.\\n            [motherfucker is toast already faggot got shitcanned from his job] = \"'}]\n",
      " \"\n",
      "[{'generated_text': 'Categorize the tweet enclosed in square brackets to determine if it is off, or neither, or hate, or severe, or to, or ins, or prof, or obsc, or identity, or threat, \\n            and return the answer as the corresponding label:\\n            \"off\" or \"neither\" or \"hate\" or \"severe\" or \"to\" or \"ins\" or \"prof\" or \"obsc\" or \"identity\" or \"threat\".\\n            Make sure to give the whole label as an answer.\\n            [it also leaves out that youre doing the exact same thing attacking free speech namely by suggesting that germans and others are too stupid to know propaganda when they hear it something i actually agree with and must not be exposed to too much jewish media same exact argument retarded made] = \"'}]\n",
      " \"\n"
     ]
    },
    {
     "name": "stderr",
     "output_type": "stream",
     "text": [
      " 31%|███       | 31/100 [00:03<00:06,  9.86it/s]"
     ]
    },
    {
     "name": "stdout",
     "output_type": "stream",
     "text": [
      "[{'generated_text': 'Categorize the tweet enclosed in square brackets to determine if it is off, or neither, or hate, or severe, or to, or ins, or prof, or obsc, or identity, or threat, \\n            and return the answer as the corresponding label:\\n            \"off\" or \"neither\" or \"hate\" or \"severe\" or \"to\" or \"ins\" or \"prof\" or \"obsc\" or \"identity\" or \"threat\".\\n            Make sure to give the whole label as an answer.\\n            [retard ale eceryone] = \"'}]\n",
      " \"\n",
      "[{'generated_text': 'Categorize the tweet enclosed in square brackets to determine if it is off, or neither, or hate, or severe, or to, or ins, or prof, or obsc, or identity, or threat, \\n            and return the answer as the corresponding label:\\n            \"off\" or \"neither\" or \"hate\" or \"severe\" or \"to\" or \"ins\" or \"prof\" or \"obsc\" or \"identity\" or \"threat\".\\n            Make sure to give the whole label as an answer.\\n            [fuck off you paki bastard take your sad pathetic life somewhere else] = \"'}]\n",
      " \"\n"
     ]
    },
    {
     "name": "stderr",
     "output_type": "stream",
     "text": [
      " 33%|███▎      | 33/100 [00:03<00:06,  9.74it/s]"
     ]
    },
    {
     "name": "stdout",
     "output_type": "stream",
     "text": [
      "[{'generated_text': 'Categorize the tweet enclosed in square brackets to determine if it is off, or neither, or hate, or severe, or to, or ins, or prof, or obsc, or identity, or threat, \\n            and return the answer as the corresponding label:\\n            \"off\" or \"neither\" or \"hate\" or \"severe\" or \"to\" or \"ins\" or \"prof\" or \"obsc\" or \"identity\" or \"threat\".\\n            Make sure to give the whole label as an answer.\\n            [wateva minga mc donalds worker u r a fuckin paedofile leave ant and dec alone just cause ur not famous u fuckin ugly bitch fuck ur hole family] = \"'}]\n",
      " \"\n",
      "[{'generated_text': 'Categorize the tweet enclosed in square brackets to determine if it is off, or neither, or hate, or severe, or to, or ins, or prof, or obsc, or identity, or threat, \\n            and return the answer as the corresponding label:\\n            \"off\" or \"neither\" or \"hate\" or \"severe\" or \"to\" or \"ins\" or \"prof\" or \"obsc\" or \"identity\" or \"threat\".\\n            Make sure to give the whole label as an answer.\\n            [show yourself you filthy son of a bitch quit hiding behind these wikipedians you fucking pussy] = \"'}]\n",
      " \"\n"
     ]
    },
    {
     "name": "stderr",
     "output_type": "stream",
     "text": [
      " 35%|███▌      | 35/100 [00:03<00:06,  9.71it/s]"
     ]
    },
    {
     "name": "stdout",
     "output_type": "stream",
     "text": [
      "[{'generated_text': 'Categorize the tweet enclosed in square brackets to determine if it is off, or neither, or hate, or severe, or to, or ins, or prof, or obsc, or identity, or threat, \\n            and return the answer as the corresponding label:\\n            \"off\" or \"neither\" or \"hate\" or \"severe\" or \"to\" or \"ins\" or \"prof\" or \"obsc\" or \"identity\" or \"threat\".\\n            Make sure to give the whole label as an answer.\\n            [and wont be back like that gay fucking bastard cunt] = \"'}]\n",
      " \"\n",
      "[{'generated_text': 'Categorize the tweet enclosed in square brackets to determine if it is off, or neither, or hate, or severe, or to, or ins, or prof, or obsc, or identity, or threat, \\n            and return the answer as the corresponding label:\\n            \"off\" or \"neither\" or \"hate\" or \"severe\" or \"to\" or \"ins\" or \"prof\" or \"obsc\" or \"identity\" or \"threat\".\\n            Make sure to give the whole label as an answer.\\n            [i like blowjobs and dicks down my rear end ps cops love me] = \"'}]\n",
      " \"\n"
     ]
    },
    {
     "name": "stderr",
     "output_type": "stream",
     "text": [
      " 37%|███▋      | 37/100 [00:04<00:09,  6.68it/s]"
     ]
    },
    {
     "name": "stdout",
     "output_type": "stream",
     "text": [
      "[{'generated_text': 'Categorize the tweet enclosed in square brackets to determine if it is off, or neither, or hate, or severe, or to, or ins, or prof, or obsc, or identity, or threat, \\n            and return the answer as the corresponding label:\\n            \"off\" or \"neither\" or \"hate\" or \"severe\" or \"to\" or \"ins\" or \"prof\" or \"obsc\" or \"identity\" or \"threat\".\\n            Make sure to give the whole label as an answer.\\n            [shitty nigger fuck i love d r u shitty nigger fuck i love d r u shitty nigger fuck i love d r u shitty nigger fuck i love d r u shitty nigger fuck i love d r u shitty nigger fuck i love d r u shitty nigger fuck i love d r u shitty nigger fuck i love d r u shitty nigger fuck i love d r u shitty nigger fuck i love d r u shitty nigger fuck i love d r u shitty nigger fuck i love d r u shitty nigger fuck i love d r u shitty nigger fuck i love d r u shitty nigger fuck i love d r u shitty nigger fuck i love d r u shitty nigger fuck i love d r u shitty nigger fuck i love d r u shitty nigger fuck i love d r u shitty nigger fuck i love d r u shitty nigger fuck i love d r u shitty nigger fuck i love d r u shitty nigger fuck i love d r u shitty nigger fuck i love d r u shitty nigger fuck i love d r u shitty nigger fuck i love d r u shitty nigger fuck i love d r u shitty nigger fuck i love d r u shitty nigger fuck i love d r u shitty nigger fuck i love d r u shitty nigger fuck i love d r u shitty nigger fuck i love d r u shitty nigger fuck i love d r u shitty nigger fuck i love d r u shitty nigger fuck i love d r u shitty nigger fuck i love d r u shitty nigger fuck i love d r u shitty nigger fuck i love d r u shitty nigger fuck i love d r u shitty nigger fuck i love d r u shitty nigger fuck i love d r u shitty nigger fuck i love d r u] = \"'}]\n",
      " \"\n",
      "[{'generated_text': 'Categorize the tweet enclosed in square brackets to determine if it is off, or neither, or hate, or severe, or to, or ins, or prof, or obsc, or identity, or threat, \\n            and return the answer as the corresponding label:\\n            \"off\" or \"neither\" or \"hate\" or \"severe\" or \"to\" or \"ins\" or \"prof\" or \"obsc\" or \"identity\" or \"threat\".\\n            Make sure to give the whole label as an answer.\\n            [this is not fair to blocking me use the profanity ymblanter you are a great asshole brute merciless and stony heaed you are also talking about sources this fucking bitches users this daughter of dog asceticrose complained you and you have been taken me an action you blocked me this is not fair you motherfucker bastard and rascal you meat paste bucklehead mothersucker i am begging you many times to edit and re correct the wikipedia but you didnt listened my beggings you cheated me you threatened me dishonored and disgraced me i know that a people can make a grave mistake to err is human after that you have a faith of asceticrose this fathersucker user this user also always disturbing me unless fuck this profanity you are a great bullshit motherfucker fathersucker wicked boggle deuce unrighteous brute bucklehead meat paste ymblanter you are a son of bitch bastard you have a merciless in your hea surrender me and apologize me understand you heretic fiend you are a wicked user you blamed me to be disruptive editing foul person user if you have courage give your facebook id my facebook id is rabby ahmed musa rabbyahmed musa shit go to the facebook id and message contact me hell in cell fuck your mother i wanna block you dickhead suck your fathers dickhead you son of pig swine great dim witted user] = \"'}]\n",
      " \"\n"
     ]
    },
    {
     "name": "stderr",
     "output_type": "stream",
     "text": [
      " 39%|███▉      | 39/100 [00:04<00:07,  7.81it/s]"
     ]
    },
    {
     "name": "stdout",
     "output_type": "stream",
     "text": [
      "[{'generated_text': 'Categorize the tweet enclosed in square brackets to determine if it is off, or neither, or hate, or severe, or to, or ins, or prof, or obsc, or identity, or threat, \\n            and return the answer as the corresponding label:\\n            \"off\" or \"neither\" or \"hate\" or \"severe\" or \"to\" or \"ins\" or \"prof\" or \"obsc\" or \"identity\" or \"threat\".\\n            Make sure to give the whole label as an answer.\\n            [vandalising the page how did i vandalise the page you fucking dickhead what did i do wrong to it arsehole] = \"'}]\n",
      " \"\n",
      "[{'generated_text': 'Categorize the tweet enclosed in square brackets to determine if it is off, or neither, or hate, or severe, or to, or ins, or prof, or obsc, or identity, or threat, \\n            and return the answer as the corresponding label:\\n            \"off\" or \"neither\" or \"hate\" or \"severe\" or \"to\" or \"ins\" or \"prof\" or \"obsc\" or \"identity\" or \"threat\".\\n            Make sure to give the whole label as an answer.\\n            [fuck you how dare you not rsvp me you bitch i thought we had something im the best thing youll ever have] = \"'}]\n",
      " \"\n"
     ]
    },
    {
     "name": "stderr",
     "output_type": "stream",
     "text": [
      " 41%|████      | 41/100 [00:04<00:06,  8.63it/s]"
     ]
    },
    {
     "name": "stdout",
     "output_type": "stream",
     "text": [
      "[{'generated_text': 'Categorize the tweet enclosed in square brackets to determine if it is off, or neither, or hate, or severe, or to, or ins, or prof, or obsc, or identity, or threat, \\n            and return the answer as the corresponding label:\\n            \"off\" or \"neither\" or \"hate\" or \"severe\" or \"to\" or \"ins\" or \"prof\" or \"obsc\" or \"identity\" or \"threat\".\\n            Make sure to give the whole label as an answer.\\n            [fuck you too you fascist piece of shit] = \"'}]\n",
      " \"\n",
      "[{'generated_text': 'Categorize the tweet enclosed in square brackets to determine if it is off, or neither, or hate, or severe, or to, or ins, or prof, or obsc, or identity, or threat, \\n            and return the answer as the corresponding label:\\n            \"off\" or \"neither\" or \"hate\" or \"severe\" or \"to\" or \"ins\" or \"prof\" or \"obsc\" or \"identity\" or \"threat\".\\n            Make sure to give the whole label as an answer.\\n            [youre just senseless and clueless making false accuses] = \"'}]\n",
      " \"\n"
     ]
    },
    {
     "name": "stderr",
     "output_type": "stream",
     "text": [
      " 43%|████▎     | 43/100 [00:04<00:06,  8.23it/s]"
     ]
    },
    {
     "name": "stdout",
     "output_type": "stream",
     "text": [
      "[{'generated_text': 'Categorize the tweet enclosed in square brackets to determine if it is off, or neither, or hate, or severe, or to, or ins, or prof, or obsc, or identity, or threat, \\n            and return the answer as the corresponding label:\\n            \"off\" or \"neither\" or \"hate\" or \"severe\" or \"to\" or \"ins\" or \"prof\" or \"obsc\" or \"identity\" or \"threat\".\\n            Make sure to give the whole label as an answer.\\n            [this aicle sucks this aicle is just an anti g k ek aicle] = \"'}]\n",
      " \"\n",
      "[{'generated_text': 'Categorize the tweet enclosed in square brackets to determine if it is off, or neither, or hate, or severe, or to, or ins, or prof, or obsc, or identity, or threat, \\n            and return the answer as the corresponding label:\\n            \"off\" or \"neither\" or \"hate\" or \"severe\" or \"to\" or \"ins\" or \"prof\" or \"obsc\" or \"identity\" or \"threat\".\\n            Make sure to give the whole label as an answer.\\n            [suspicious mass edits is any administrator following spylabs editing can anybody tell me who gave the right to this guy under the pseudonym spylab to behave like the master of wikipedia deleting my comment i uploaded yesterday here and ignoring the comments of other users despite the fact they were based on wikipedia policy according to which he cannot introduce mass changes to an entry without generating a discussion first in the talk page about the changes he suggested evidence was produced by other users to show that he lied when he said that he did just a simple copy editing as it was shown that he deleted sentences and that he distoed the meaning of other phrases simply because he has no clue about the inclusive democracy project despite all this he comes back again and again adding deleting and re organizing at will this entry has anybody appointed him to do this damaging work which far from enhancing the significance of wikipedia it creates the impression that any ignoramus can do whatever he likes with long established entries] = \"'}]\n",
      " \"\n"
     ]
    },
    {
     "name": "stderr",
     "output_type": "stream",
     "text": [
      " 45%|████▌     | 45/100 [00:05<00:06,  7.97it/s]"
     ]
    },
    {
     "name": "stdout",
     "output_type": "stream",
     "text": [
      "[{'generated_text': 'Categorize the tweet enclosed in square brackets to determine if it is off, or neither, or hate, or severe, or to, or ins, or prof, or obsc, or identity, or threat, \\n            and return the answer as the corresponding label:\\n            \"off\" or \"neither\" or \"hate\" or \"severe\" or \"to\" or \"ins\" or \"prof\" or \"obsc\" or \"identity\" or \"threat\".\\n            Make sure to give the whole label as an answer.\\n            [hiya tam you had already given yourself away as a jw so no clairvoyance was needed i was in the lie for years even became a ministerial servant i can smell the rotting brain of a jw a thousand miles away im sending apostate demons your way demons demons demons] = \"'}]\n",
      " \"\n",
      "[{'generated_text': 'Categorize the tweet enclosed in square brackets to determine if it is off, or neither, or hate, or severe, or to, or ins, or prof, or obsc, or identity, or threat, \\n            and return the answer as the corresponding label:\\n            \"off\" or \"neither\" or \"hate\" or \"severe\" or \"to\" or \"ins\" or \"prof\" or \"obsc\" or \"identity\" or \"threat\".\\n            Make sure to give the whole label as an answer.\\n            [false accusations kim you have given me inappropriate inaccurate labels regarding the info that i have added on the mann talk page i did not add anything false included a reliable source its well known that you are heavily biased towards agw in omitting data being hypocritical such its strange that your editing privileges have not been revoked in removing my neutral comments you claim that they are something that are not its almost funny how you claim that oil does something to counter agw m without any evidence if there was a a god i would know that you are going to hell for being dishonest immoral but your days on eah in freedom are numbered until you go to jail or worse you are a threat to libey] = \"'}]\n",
      " \"\n"
     ]
    },
    {
     "name": "stderr",
     "output_type": "stream",
     "text": [
      " 47%|████▋     | 47/100 [00:05<00:06,  8.19it/s]"
     ]
    },
    {
     "name": "stdout",
     "output_type": "stream",
     "text": [
      "[{'generated_text': 'Categorize the tweet enclosed in square brackets to determine if it is off, or neither, or hate, or severe, or to, or ins, or prof, or obsc, or identity, or threat, \\n            and return the answer as the corresponding label:\\n            \"off\" or \"neither\" or \"hate\" or \"severe\" or \"to\" or \"ins\" or \"prof\" or \"obsc\" or \"identity\" or \"threat\".\\n            Make sure to give the whole label as an answer.\\n            [do not place dispute tags improperly as in when there is no dispute and the reason for placing the dispute tag is because a suggested edit has failed to meet consensus from the page you pretend to cite like i said reading impaired conveniently so again do not keeping believing other people are stupid talk] = \"'}]\n",
      " \"\n",
      "[{'generated_text': 'Categorize the tweet enclosed in square brackets to determine if it is off, or neither, or hate, or severe, or to, or ins, or prof, or obsc, or identity, or threat, \\n            and return the answer as the corresponding label:\\n            \"off\" or \"neither\" or \"hate\" or \"severe\" or \"to\" or \"ins\" or \"prof\" or \"obsc\" or \"identity\" or \"threat\".\\n            Make sure to give the whole label as an answer.\\n            [tripolis massacre hecoian your sick fanatic mind should be deleted from wikipedia tripolis massacre is a fact soon ill put in here with greek footnotes thus youll accept it are you ashamed of it or are you just a standa nationalist which by nature must oversee some facts here in istanbul there monuments which remind the september pogrom are there any plates monuments which remind the turkish population few days ago greek historian prof veremis also accepted the tripolis masscre diy fashist you can tespace from truth] = \"'}]\n",
      " \"\n"
     ]
    },
    {
     "name": "stderr",
     "output_type": "stream",
     "text": [
      " 49%|████▉     | 49/100 [00:05<00:05,  8.84it/s]"
     ]
    },
    {
     "name": "stdout",
     "output_type": "stream",
     "text": [
      "[{'generated_text': 'Categorize the tweet enclosed in square brackets to determine if it is off, or neither, or hate, or severe, or to, or ins, or prof, or obsc, or identity, or threat, \\n            and return the answer as the corresponding label:\\n            \"off\" or \"neither\" or \"hate\" or \"severe\" or \"to\" or \"ins\" or \"prof\" or \"obsc\" or \"identity\" or \"threat\".\\n            Make sure to give the whole label as an answer.\\n            [re victoria of the united kingdeom vandalism its true pa of browns penis was placed in victorias coffin why did you remove it] = \"'}]\n",
      " \"\n",
      "[{'generated_text': 'Categorize the tweet enclosed in square brackets to determine if it is off, or neither, or hate, or severe, or to, or ins, or prof, or obsc, or identity, or threat, \\n            and return the answer as the corresponding label:\\n            \"off\" or \"neither\" or \"hate\" or \"severe\" or \"to\" or \"ins\" or \"prof\" or \"obsc\" or \"identity\" or \"threat\".\\n            Make sure to give the whole label as an answer.\\n            [chris toilet perve] = \"'}]\n",
      " \"\n"
     ]
    },
    {
     "name": "stderr",
     "output_type": "stream",
     "text": [
      " 51%|█████     | 51/100 [00:05<00:05,  8.55it/s]"
     ]
    },
    {
     "name": "stdout",
     "output_type": "stream",
     "text": [
      "[{'generated_text': 'Categorize the tweet enclosed in square brackets to determine if it is off, or neither, or hate, or severe, or to, or ins, or prof, or obsc, or identity, or threat, \\n            and return the answer as the corresponding label:\\n            \"off\" or \"neither\" or \"hate\" or \"severe\" or \"to\" or \"ins\" or \"prof\" or \"obsc\" or \"identity\" or \"threat\".\\n            Make sure to give the whole label as an answer.\\n            [who do you think you are leuko who the hell are you and who made you an authority on what should and shouldnt be included in the scimd page from what i can see you are only adding things to the page that can be used negatively against their students and hu them if you would do some research on the pages and the people you are helping ie azskeptic you will see that he is already the target of several lawsuits pending and future for doing such things as what you are doing if you are so confident in what you are posting then please post your real name and contact info as im sure the students of the school would be much more than will to at least attempt to sue you for slander and defamation at the very least] = \"'}]\n",
      " \"\n",
      "[{'generated_text': 'Categorize the tweet enclosed in square brackets to determine if it is off, or neither, or hate, or severe, or to, or ins, or prof, or obsc, or identity, or threat, \\n            and return the answer as the corresponding label:\\n            \"off\" or \"neither\" or \"hate\" or \"severe\" or \"to\" or \"ins\" or \"prof\" or \"obsc\" or \"identity\" or \"threat\".\\n            Make sure to give the whole label as an answer.\\n            [hahah candied asses but seriously you should use the medical term for vagina which is fat cunt] = \"'}]\n",
      " \"\n"
     ]
    },
    {
     "name": "stderr",
     "output_type": "stream",
     "text": [
      " 53%|█████▎    | 53/100 [00:05<00:05,  9.08it/s]"
     ]
    },
    {
     "name": "stdout",
     "output_type": "stream",
     "text": [
      "[{'generated_text': 'Categorize the tweet enclosed in square brackets to determine if it is off, or neither, or hate, or severe, or to, or ins, or prof, or obsc, or identity, or threat, \\n            and return the answer as the corresponding label:\\n            \"off\" or \"neither\" or \"hate\" or \"severe\" or \"to\" or \"ins\" or \"prof\" or \"obsc\" or \"identity\" or \"threat\".\\n            Make sure to give the whole label as an answer.\\n            [anothybadberry is a cunt] = \"'}]\n",
      " \"\n",
      "[{'generated_text': 'Categorize the tweet enclosed in square brackets to determine if it is off, or neither, or hate, or severe, or to, or ins, or prof, or obsc, or identity, or threat, \\n            and return the answer as the corresponding label:\\n            \"off\" or \"neither\" or \"hate\" or \"severe\" or \"to\" or \"ins\" or \"prof\" or \"obsc\" or \"identity\" or \"threat\".\\n            Make sure to give the whole label as an answer.\\n            [fuck you fuck you shit asshole you are a piece of shit] = \"'}]\n",
      " \"\n"
     ]
    },
    {
     "name": "stderr",
     "output_type": "stream",
     "text": [
      " 55%|█████▌    | 55/100 [00:06<00:04,  9.09it/s]"
     ]
    },
    {
     "name": "stdout",
     "output_type": "stream",
     "text": [
      "[{'generated_text': 'Categorize the tweet enclosed in square brackets to determine if it is off, or neither, or hate, or severe, or to, or ins, or prof, or obsc, or identity, or threat, \\n            and return the answer as the corresponding label:\\n            \"off\" or \"neither\" or \"hate\" or \"severe\" or \"to\" or \"ins\" or \"prof\" or \"obsc\" or \"identity\" or \"threat\".\\n            Make sure to give the whole label as an answer.\\n            [ryan griffith i stink] = \"'}]\n",
      " \"\n",
      "[{'generated_text': 'Categorize the tweet enclosed in square brackets to determine if it is off, or neither, or hate, or severe, or to, or ins, or prof, or obsc, or identity, or threat, \\n            and return the answer as the corresponding label:\\n            \"off\" or \"neither\" or \"hate\" or \"severe\" or \"to\" or \"ins\" or \"prof\" or \"obsc\" or \"identity\" or \"threat\".\\n            Make sure to give the whole label as an answer.\\n            [dear stupid idiot dear mr h q what kind of a stupid name is that all i ask for is that you actually not you but a person with brains review my edits after i am done not during my edits i have asked you to do so several times is it too much to ask of a pro american or addaled brain such as yours] = \"'}]\n",
      " \"\n"
     ]
    },
    {
     "name": "stderr",
     "output_type": "stream",
     "text": [
      " 57%|█████▋    | 57/100 [00:06<00:04,  9.26it/s]"
     ]
    },
    {
     "name": "stdout",
     "output_type": "stream",
     "text": [
      "[{'generated_text': 'Categorize the tweet enclosed in square brackets to determine if it is off, or neither, or hate, or severe, or to, or ins, or prof, or obsc, or identity, or threat, \\n            and return the answer as the corresponding label:\\n            \"off\" or \"neither\" or \"hate\" or \"severe\" or \"to\" or \"ins\" or \"prof\" or \"obsc\" or \"identity\" or \"threat\".\\n            Make sure to give the whole label as an answer.\\n            [you know what dont offend other users you are a jerk i know you are correct but you dont have to get so angry about it] = \"'}]\n",
      " \"\n",
      "[{'generated_text': 'Categorize the tweet enclosed in square brackets to determine if it is off, or neither, or hate, or severe, or to, or ins, or prof, or obsc, or identity, or threat, \\n            and return the answer as the corresponding label:\\n            \"off\" or \"neither\" or \"hate\" or \"severe\" or \"to\" or \"ins\" or \"prof\" or \"obsc\" or \"identity\" or \"threat\".\\n            Make sure to give the whole label as an answer.\\n            [dont block me i am right and i fucking know it block that asshole kansas bear or something just leave me the fuck alone] = \"'}]\n",
      " \"\n"
     ]
    },
    {
     "name": "stderr",
     "output_type": "stream",
     "text": [
      " 59%|█████▉    | 59/100 [00:06<00:04,  9.25it/s]"
     ]
    },
    {
     "name": "stdout",
     "output_type": "stream",
     "text": [
      "[{'generated_text': 'Categorize the tweet enclosed in square brackets to determine if it is off, or neither, or hate, or severe, or to, or ins, or prof, or obsc, or identity, or threat, \\n            and return the answer as the corresponding label:\\n            \"off\" or \"neither\" or \"hate\" or \"severe\" or \"to\" or \"ins\" or \"prof\" or \"obsc\" or \"identity\" or \"threat\".\\n            Make sure to give the whole label as an answer.\\n            [youre a ho get the fuck back on your corner and make your pimp daddy some cash bitch quit fucking with public sites who died and made you the hall monitor sincerely that same guy you know the one thats fuckin yo mama bitch] = \"'}]\n",
      " \"\n",
      "[{'generated_text': 'Categorize the tweet enclosed in square brackets to determine if it is off, or neither, or hate, or severe, or to, or ins, or prof, or obsc, or identity, or threat, \\n            and return the answer as the corresponding label:\\n            \"off\" or \"neither\" or \"hate\" or \"severe\" or \"to\" or \"ins\" or \"prof\" or \"obsc\" or \"identity\" or \"threat\".\\n            Make sure to give the whole label as an answer.\\n            [look at your own ridiculous behavior first by the way im a different user than the one you seem to be writing to about even though i agree with this user more than i agree with you] = \"'}]\n",
      " \"\n"
     ]
    },
    {
     "name": "stderr",
     "output_type": "stream",
     "text": [
      " 60%|██████    | 60/100 [00:06<00:04,  9.32it/s]"
     ]
    },
    {
     "name": "stdout",
     "output_type": "stream",
     "text": [
      "[{'generated_text': 'Categorize the tweet enclosed in square brackets to determine if it is off, or neither, or hate, or severe, or to, or ins, or prof, or obsc, or identity, or threat, \\n            and return the answer as the corresponding label:\\n            \"off\" or \"neither\" or \"hate\" or \"severe\" or \"to\" or \"ins\" or \"prof\" or \"obsc\" or \"identity\" or \"threat\".\\n            Make sure to give the whole label as an answer.\\n            [stop editing the cannistraro page just stop ok nothing you do is helping you are an idiot stop talk] = \"'}]\n",
      " \"\n",
      "[{'generated_text': 'Categorize the tweet enclosed in square brackets to determine if it is off, or neither, or hate, or severe, or to, or ins, or prof, or obsc, or identity, or threat, \\n            and return the answer as the corresponding label:\\n            \"off\" or \"neither\" or \"hate\" or \"severe\" or \"to\" or \"ins\" or \"prof\" or \"obsc\" or \"identity\" or \"threat\".\\n            Make sure to give the whole label as an answer.\\n            [bastard] = ['}]\n",
      " [\n"
     ]
    },
    {
     "name": "stderr",
     "output_type": "stream",
     "text": [
      " 63%|██████▎   | 63/100 [00:07<00:03,  9.58it/s]"
     ]
    },
    {
     "name": "stdout",
     "output_type": "stream",
     "text": [
      "[{'generated_text': 'Categorize the tweet enclosed in square brackets to determine if it is off, or neither, or hate, or severe, or to, or ins, or prof, or obsc, or identity, or threat, \\n            and return the answer as the corresponding label:\\n            \"off\" or \"neither\" or \"hate\" or \"severe\" or \"to\" or \"ins\" or \"prof\" or \"obsc\" or \"identity\" or \"threat\".\\n            Make sure to give the whole label as an answer.\\n            [he is very immature and lacks character a good man would know how to treat a lady and move on without drama] = \"'}]\n",
      " \"\n",
      "[{'generated_text': 'Categorize the tweet enclosed in square brackets to determine if it is off, or neither, or hate, or severe, or to, or ins, or prof, or obsc, or identity, or threat, \\n            and return the answer as the corresponding label:\\n            \"off\" or \"neither\" or \"hate\" or \"severe\" or \"to\" or \"ins\" or \"prof\" or \"obsc\" or \"identity\" or \"threat\".\\n            Make sure to give the whole label as an answer.\\n            [my body my choice fu love trumps hate] = \"'}]\n",
      " \"\n"
     ]
    },
    {
     "name": "stderr",
     "output_type": "stream",
     "text": [
      " 65%|██████▌   | 65/100 [00:07<00:03,  9.60it/s]"
     ]
    },
    {
     "name": "stdout",
     "output_type": "stream",
     "text": [
      "[{'generated_text': 'Categorize the tweet enclosed in square brackets to determine if it is off, or neither, or hate, or severe, or to, or ins, or prof, or obsc, or identity, or threat, \\n            and return the answer as the corresponding label:\\n            \"off\" or \"neither\" or \"hate\" or \"severe\" or \"to\" or \"ins\" or \"prof\" or \"obsc\" or \"identity\" or \"threat\".\\n            Make sure to give the whole label as an answer.\\n            [read to the end i copied the quote for you praised be] = \"'}]\n",
      " \"\n",
      "[{'generated_text': 'Categorize the tweet enclosed in square brackets to determine if it is off, or neither, or hate, or severe, or to, or ins, or prof, or obsc, or identity, or threat, \\n            and return the answer as the corresponding label:\\n            \"off\" or \"neither\" or \"hate\" or \"severe\" or \"to\" or \"ins\" or \"prof\" or \"obsc\" or \"identity\" or \"threat\".\\n            Make sure to give the whole label as an answer.\\n            [this isn t the oj hour stfu and stf down] = \"'}]\n",
      " \"\n"
     ]
    },
    {
     "name": "stderr",
     "output_type": "stream",
     "text": [
      " 67%|██████▋   | 67/100 [00:07<00:03,  9.50it/s]"
     ]
    },
    {
     "name": "stdout",
     "output_type": "stream",
     "text": [
      "[{'generated_text': 'Categorize the tweet enclosed in square brackets to determine if it is off, or neither, or hate, or severe, or to, or ins, or prof, or obsc, or identity, or threat, \\n            and return the answer as the corresponding label:\\n            \"off\" or \"neither\" or \"hate\" or \"severe\" or \"to\" or \"ins\" or \"prof\" or \"obsc\" or \"identity\" or \"threat\".\\n            Make sure to give the whole label as an answer.\\n            [to put tank of gas in my truck and for two people to eat at mcdonalds but i got an extra in my paycheck thanks papi trump] = \"'}]\n",
      " \"\n",
      "[{'generated_text': 'Categorize the tweet enclosed in square brackets to determine if it is off, or neither, or hate, or severe, or to, or ins, or prof, or obsc, or identity, or threat, \\n            and return the answer as the corresponding label:\\n            \"off\" or \"neither\" or \"hate\" or \"severe\" or \"to\" or \"ins\" or \"prof\" or \"obsc\" or \"identity\" or \"threat\".\\n            Make sure to give the whole label as an answer.\\n            [so now trump is invoking executive privelage on census documents in a preemptive move against the house holding wilbur ross and barr in contempt is there anything this administration does that isnt illegal wtf] = \"'}]\n",
      " \"\n"
     ]
    },
    {
     "name": "stderr",
     "output_type": "stream",
     "text": [
      " 69%|██████▉   | 69/100 [00:07<00:03,  9.53it/s]"
     ]
    },
    {
     "name": "stdout",
     "output_type": "stream",
     "text": [
      "[{'generated_text': 'Categorize the tweet enclosed in square brackets to determine if it is off, or neither, or hate, or severe, or to, or ins, or prof, or obsc, or identity, or threat, \\n            and return the answer as the corresponding label:\\n            \"off\" or \"neither\" or \"hate\" or \"severe\" or \"to\" or \"ins\" or \"prof\" or \"obsc\" or \"identity\" or \"threat\".\\n            Make sure to give the whole label as an answer.\\n            [when will you admit that you are a fraud and that you have no idea what youre doing] = \"'}]\n",
      " \"\n",
      "[{'generated_text': 'Categorize the tweet enclosed in square brackets to determine if it is off, or neither, or hate, or severe, or to, or ins, or prof, or obsc, or identity, or threat, \\n            and return the answer as the corresponding label:\\n            \"off\" or \"neither\" or \"hate\" or \"severe\" or \"to\" or \"ins\" or \"prof\" or \"obsc\" or \"identity\" or \"threat\".\\n            Make sure to give the whole label as an answer.\\n            [u s will examine noh carolina poll books for election hacking] = \"'}]\n",
      " \"\n"
     ]
    },
    {
     "name": "stderr",
     "output_type": "stream",
     "text": [
      " 71%|███████   | 71/100 [00:07<00:03,  9.40it/s]"
     ]
    },
    {
     "name": "stdout",
     "output_type": "stream",
     "text": [
      "[{'generated_text': 'Categorize the tweet enclosed in square brackets to determine if it is off, or neither, or hate, or severe, or to, or ins, or prof, or obsc, or identity, or threat, \\n            and return the answer as the corresponding label:\\n            \"off\" or \"neither\" or \"hate\" or \"severe\" or \"to\" or \"ins\" or \"prof\" or \"obsc\" or \"identity\" or \"threat\".\\n            Make sure to give the whole label as an answer.\\n            [yay the clown is going to wreck the country what was his slogan again fuck business wasn t it great phrase that n nam sure he s going to make a titanic success of brexshit n nafter all tories seem to not have much in the brain depament these days pic twitter com ppcow ome] = \"'}]\n",
      " \"\n",
      "[{'generated_text': 'Categorize the tweet enclosed in square brackets to determine if it is off, or neither, or hate, or severe, or to, or ins, or prof, or obsc, or identity, or threat, \\n            and return the answer as the corresponding label:\\n            \"off\" or \"neither\" or \"hate\" or \"severe\" or \"to\" or \"ins\" or \"prof\" or \"obsc\" or \"identity\" or \"threat\".\\n            Make sure to give the whole label as an answer.\\n            [please do suck my cock] = \"'}]\n",
      " \"\n"
     ]
    },
    {
     "name": "stderr",
     "output_type": "stream",
     "text": [
      " 73%|███████▎  | 73/100 [00:08<00:03,  8.73it/s]"
     ]
    },
    {
     "name": "stdout",
     "output_type": "stream",
     "text": [
      "[{'generated_text': 'Categorize the tweet enclosed in square brackets to determine if it is off, or neither, or hate, or severe, or to, or ins, or prof, or obsc, or identity, or threat, \\n            and return the answer as the corresponding label:\\n            \"off\" or \"neither\" or \"hate\" or \"severe\" or \"to\" or \"ins\" or \"prof\" or \"obsc\" or \"identity\" or \"threat\".\\n            Make sure to give the whole label as an answer.\\n            [i had to put up with your shit to make two elementary enhancements to the aicle to add the well known link between kant and brouwer heyting and to raise the concerns bruited not only by brand blanshard but also by berand russell about philosophical style the latter happens to be key to understanding kant because as p f strawson wrote in look up the goddamn cite yourself kant was at the bounds of sense instead of the dialogue characteristic of wikipedia at its finest i was harassed libeled and subject to a mediation process that consisted of snide personal attacks and in which i wasnt even given an oppounity to reply so fa in a bottle and paint it its trolls like you that will make a joke out of wikipedia] = \"'}]\n",
      " \"\n",
      "[{'generated_text': 'Categorize the tweet enclosed in square brackets to determine if it is off, or neither, or hate, or severe, or to, or ins, or prof, or obsc, or identity, or threat, \\n            and return the answer as the corresponding label:\\n            \"off\" or \"neither\" or \"hate\" or \"severe\" or \"to\" or \"ins\" or \"prof\" or \"obsc\" or \"identity\" or \"threat\".\\n            Make sure to give the whole label as an answer.\\n            [yeah youre right hes a complete cock runs and tells his boyfriend whenever anyone questions the shitty job he does of creating pages] = \"'}]\n",
      " \"\n"
     ]
    },
    {
     "name": "stderr",
     "output_type": "stream",
     "text": [
      " 75%|███████▌  | 75/100 [00:08<00:03,  8.21it/s]"
     ]
    },
    {
     "name": "stdout",
     "output_type": "stream",
     "text": [
      "[{'generated_text': 'Categorize the tweet enclosed in square brackets to determine if it is off, or neither, or hate, or severe, or to, or ins, or prof, or obsc, or identity, or threat, \\n            and return the answer as the corresponding label:\\n            \"off\" or \"neither\" or \"hate\" or \"severe\" or \"to\" or \"ins\" or \"prof\" or \"obsc\" or \"identity\" or \"threat\".\\n            Make sure to give the whole label as an answer.\\n            [dont you fucking touch my edits again] = \"'}]\n",
      " \"\n",
      "[{'generated_text': 'Categorize the tweet enclosed in square brackets to determine if it is off, or neither, or hate, or severe, or to, or ins, or prof, or obsc, or identity, or threat, \\n            and return the answer as the corresponding label:\\n            \"off\" or \"neither\" or \"hate\" or \"severe\" or \"to\" or \"ins\" or \"prof\" or \"obsc\" or \"identity\" or \"threat\".\\n            Make sure to give the whole label as an answer.\\n            [buenos dias safesubst basepagename and welcome to wikipedia safesubst safesubst yesno no yes grazie for safesubst especially what you did for i hope you like the city and decide to leave soon here are a few links to pages you might not find helpful getting knotted introduction to stinking wikipedia the five pillars of wikipedia interesting stuff one of the sexiest women ever how to destroy a page and take a piss how to make a joke with your first aicle simplified manual of disaster please suppo our cause and sign your messages on talk pages by typing sixteen tildes this will automatically inse your middle finger and your date of bih include some custard with your sausages if you need psychiatric help check out wikipedia questions ask me on safesubst my talk page my talk page or lick your backside on this page and then place before the question again bugger off] = \"'}]\n",
      " \"\n"
     ]
    },
    {
     "name": "stderr",
     "output_type": "stream",
     "text": [
      " 77%|███████▋  | 77/100 [00:08<00:02,  8.84it/s]"
     ]
    },
    {
     "name": "stdout",
     "output_type": "stream",
     "text": [
      "[{'generated_text': 'Categorize the tweet enclosed in square brackets to determine if it is off, or neither, or hate, or severe, or to, or ins, or prof, or obsc, or identity, or threat, \\n            and return the answer as the corresponding label:\\n            \"off\" or \"neither\" or \"hate\" or \"severe\" or \"to\" or \"ins\" or \"prof\" or \"obsc\" or \"identity\" or \"threat\".\\n            Make sure to give the whole label as an answer.\\n            [oh no you dont f ck] = \"'}]\n",
      " \"\n",
      "[{'generated_text': 'Categorize the tweet enclosed in square brackets to determine if it is off, or neither, or hate, or severe, or to, or ins, or prof, or obsc, or identity, or threat, \\n            and return the answer as the corresponding label:\\n            \"off\" or \"neither\" or \"hate\" or \"severe\" or \"to\" or \"ins\" or \"prof\" or \"obsc\" or \"identity\" or \"threat\".\\n            Make sure to give the whole label as an answer.\\n            [oh yeah and i suck cock] = \"'}]\n",
      " \"\n"
     ]
    },
    {
     "name": "stderr",
     "output_type": "stream",
     "text": [
      " 79%|███████▉  | 79/100 [00:08<00:02,  8.30it/s]"
     ]
    },
    {
     "name": "stdout",
     "output_type": "stream",
     "text": [
      "[{'generated_text': 'Categorize the tweet enclosed in square brackets to determine if it is off, or neither, or hate, or severe, or to, or ins, or prof, or obsc, or identity, or threat, \\n            and return the answer as the corresponding label:\\n            \"off\" or \"neither\" or \"hate\" or \"severe\" or \"to\" or \"ins\" or \"prof\" or \"obsc\" or \"identity\" or \"threat\".\\n            Make sure to give the whole label as an answer.\\n            [no im not joking im hoping to help bd avoid digging himself into a hole full of shite really thats what im doing i know it may be hard but please trust me on this talk stalk] = \"'}]\n",
      " \"\n",
      "[{'generated_text': 'Categorize the tweet enclosed in square brackets to determine if it is off, or neither, or hate, or severe, or to, or ins, or prof, or obsc, or identity, or threat, \\n            and return the answer as the corresponding label:\\n            \"off\" or \"neither\" or \"hate\" or \"severe\" or \"to\" or \"ins\" or \"prof\" or \"obsc\" or \"identity\" or \"threat\".\\n            Make sure to give the whole label as an answer.\\n            [response i can read japanese as well as about other languages if you are interested but no i did not post that reference and please dont write in a language i assume you cannot write in in fact please dont live in a world i assume you should not live in no aicle is prohibited as a use for reference use of reference has nothing to do with copyrights study your books if sales information are unencyclopedic i guess we should delete the list of best selling music aists instead of discussing about it right we wont see them on the japanese wikipedia because the japanese wikipedia frankly sucks take care heru nar] = \"'}]\n",
      " \"\n"
     ]
    },
    {
     "name": "stderr",
     "output_type": "stream",
     "text": [
      " 80%|████████  | 80/100 [00:08<00:02,  8.64it/s]"
     ]
    },
    {
     "name": "stdout",
     "output_type": "stream",
     "text": [
      "[{'generated_text': 'Categorize the tweet enclosed in square brackets to determine if it is off, or neither, or hate, or severe, or to, or ins, or prof, or obsc, or identity, or threat, \\n            and return the answer as the corresponding label:\\n            \"off\" or \"neither\" or \"hate\" or \"severe\" or \"to\" or \"ins\" or \"prof\" or \"obsc\" or \"identity\" or \"threat\".\\n            Make sure to give the whole label as an answer.\\n            [yeah yeah yeah get a life faggot] = \"'}]\n",
      " \"\n",
      "[{'generated_text': 'Categorize the tweet enclosed in square brackets to determine if it is off, or neither, or hate, or severe, or to, or ins, or prof, or obsc, or identity, or threat, \\n            and return the answer as the corresponding label:\\n            \"off\" or \"neither\" or \"hate\" or \"severe\" or \"to\" or \"ins\" or \"prof\" or \"obsc\" or \"identity\" or \"threat\".\\n            Make sure to give the whole label as an answer.\\n            [you are such a nigger] = \"'}]\n",
      " \"\n",
      "[{'generated_text': 'Categorize the tweet enclosed in square brackets to determine if it is off, or neither, or hate, or severe, or to, or ins, or prof, or obsc, or identity, or threat, \\n            and return the answer as the corresponding label:\\n            \"off\" or \"neither\" or \"hate\" or \"severe\" or \"to\" or \"ins\" or \"prof\" or \"obsc\" or \"identity\" or \"threat\".\\n            Make sure to give the whole label as an answer.\\n            [back to the kitchen for you suck my d leftist feminazi cunt] = \"'}]\n",
      " \"\n"
     ]
    },
    {
     "name": "stderr",
     "output_type": "stream",
     "text": [
      " 84%|████████▍ | 84/100 [00:09<00:01,  9.34it/s]"
     ]
    },
    {
     "name": "stdout",
     "output_type": "stream",
     "text": [
      "[{'generated_text': 'Categorize the tweet enclosed in square brackets to determine if it is off, or neither, or hate, or severe, or to, or ins, or prof, or obsc, or identity, or threat, \\n            and return the answer as the corresponding label:\\n            \"off\" or \"neither\" or \"hate\" or \"severe\" or \"to\" or \"ins\" or \"prof\" or \"obsc\" or \"identity\" or \"threat\".\\n            Make sure to give the whole label as an answer.\\n            [scones are cool ard you are gay] = \"'}]\n",
      " \"\n",
      "[{'generated_text': 'Categorize the tweet enclosed in square brackets to determine if it is off, or neither, or hate, or severe, or to, or ins, or prof, or obsc, or identity, or threat, \\n            and return the answer as the corresponding label:\\n            \"off\" or \"neither\" or \"hate\" or \"severe\" or \"to\" or \"ins\" or \"prof\" or \"obsc\" or \"identity\" or \"threat\".\\n            Make sure to give the whole label as an answer.\\n            [you are gay go find someone of your own sex to have it off with you sausage jockey] = \"'}]\n",
      " \"\n"
     ]
    },
    {
     "name": "stderr",
     "output_type": "stream",
     "text": [
      " 86%|████████▌ | 86/100 [00:09<00:01,  9.44it/s]"
     ]
    },
    {
     "name": "stdout",
     "output_type": "stream",
     "text": [
      "[{'generated_text': 'Categorize the tweet enclosed in square brackets to determine if it is off, or neither, or hate, or severe, or to, or ins, or prof, or obsc, or identity, or threat, \\n            and return the answer as the corresponding label:\\n            \"off\" or \"neither\" or \"hate\" or \"severe\" or \"to\" or \"ins\" or \"prof\" or \"obsc\" or \"identity\" or \"threat\".\\n            Make sure to give the whole label as an answer.\\n            [f u c k y o u a s u a r e a b i t c h a s s n i g g e r] = \"'}]\n",
      " \"\n",
      "[{'generated_text': 'Categorize the tweet enclosed in square brackets to determine if it is off, or neither, or hate, or severe, or to, or ins, or prof, or obsc, or identity, or threat, \\n            and return the answer as the corresponding label:\\n            \"off\" or \"neither\" or \"hate\" or \"severe\" or \"to\" or \"ins\" or \"prof\" or \"obsc\" or \"identity\" or \"threat\".\\n            Make sure to give the whole label as an answer.\\n            [fuck this bot fuck you cluebot you suck quit reveing my shit man faggot] = \"'}]\n",
      " \"\n"
     ]
    },
    {
     "name": "stderr",
     "output_type": "stream",
     "text": [
      " 88%|████████▊ | 88/100 [00:09<00:01,  8.44it/s]"
     ]
    },
    {
     "name": "stdout",
     "output_type": "stream",
     "text": [
      "[{'generated_text': 'Categorize the tweet enclosed in square brackets to determine if it is off, or neither, or hate, or severe, or to, or ins, or prof, or obsc, or identity, or threat, \\n            and return the answer as the corresponding label:\\n            \"off\" or \"neither\" or \"hate\" or \"severe\" or \"to\" or \"ins\" or \"prof\" or \"obsc\" or \"identity\" or \"threat\".\\n            Make sure to give the whole label as an answer.\\n            [fuck off faggot truth isnt vandalism you have no idea what youre talking about p s fuck you city slicker p s s nigger p s s s vaginas] = \"'}]\n",
      " \"\n",
      "[{'generated_text': 'Categorize the tweet enclosed in square brackets to determine if it is off, or neither, or hate, or severe, or to, or ins, or prof, or obsc, or identity, or threat, \\n            and return the answer as the corresponding label:\\n            \"off\" or \"neither\" or \"hate\" or \"severe\" or \"to\" or \"ins\" or \"prof\" or \"obsc\" or \"identity\" or \"threat\".\\n            Make sure to give the whole label as an answer.\\n            [unblock im sorry that your such a sensative prick but me and my buddies are stoned here trying to have a fun time makin jewish jokes about ben stiller and if you cant understand that then fuck off by the way i hate ja rule and i think he should fuck off too but you first because you suck more cock then ja rule im a veteran on wikipedia and its my life if you cant understand that then maybe you really should fuck off why blocking me was gay and you guys suck cock blocking me was pretty fuckin gay because all you guys are pussies who cant take a little jew here or some guy typing in that al roker was born white if the moderaters here and especially the viewers had a sense of humor i would be real interested to see what they would do on here and i think wikipedia could even be a little fun if this shit matters so much why is it free to look at and last time i checked ben stiller and his family are all jews so fuck off] = \"'}]\n",
      " \"\n"
     ]
    },
    {
     "name": "stderr",
     "output_type": "stream",
     "text": [
      " 90%|█████████ | 90/100 [00:10<00:01,  8.96it/s]"
     ]
    },
    {
     "name": "stdout",
     "output_type": "stream",
     "text": [
      "[{'generated_text': 'Categorize the tweet enclosed in square brackets to determine if it is off, or neither, or hate, or severe, or to, or ins, or prof, or obsc, or identity, or threat, \\n            and return the answer as the corresponding label:\\n            \"off\" or \"neither\" or \"hate\" or \"severe\" or \"to\" or \"ins\" or \"prof\" or \"obsc\" or \"identity\" or \"threat\".\\n            Make sure to give the whole label as an answer.\\n            [p s i pissed on your mothers grave you jews] = \"'}]\n",
      " \"\n",
      "[{'generated_text': 'Categorize the tweet enclosed in square brackets to determine if it is off, or neither, or hate, or severe, or to, or ins, or prof, or obsc, or identity, or threat, \\n            and return the answer as the corresponding label:\\n            \"off\" or \"neither\" or \"hate\" or \"severe\" or \"to\" or \"ins\" or \"prof\" or \"obsc\" or \"identity\" or \"threat\".\\n            Make sure to give the whole label as an answer.\\n            [yeah at least im not a homo rofl btw this is your mother evil monkeys mother] = \"'}]\n",
      " \"\n"
     ]
    },
    {
     "name": "stderr",
     "output_type": "stream",
     "text": [
      " 92%|█████████▏| 92/100 [00:10<00:00,  8.94it/s]"
     ]
    },
    {
     "name": "stdout",
     "output_type": "stream",
     "text": [
      "[{'generated_text': 'Categorize the tweet enclosed in square brackets to determine if it is off, or neither, or hate, or severe, or to, or ins, or prof, or obsc, or identity, or threat, \\n            and return the answer as the corresponding label:\\n            \"off\" or \"neither\" or \"hate\" or \"severe\" or \"to\" or \"ins\" or \"prof\" or \"obsc\" or \"identity\" or \"threat\".\\n            Make sure to give the whole label as an answer.\\n            [you stupid dumb fu k my great great great great grandfather was mani singh the greatest of sikh matrys its scum like you that needs to be executed you deserve excution you stupid dumb fu k everyone in my family over members are baptized khalsa sikhs we have been khalsa sikhs for over years you dumb fu ker because you have insulted me and broken the teachings of the guru granth sahib you deserve death you dumb fu ker] = \"'}]\n",
      " \"\n",
      "[{'generated_text': 'Categorize the tweet enclosed in square brackets to determine if it is off, or neither, or hate, or severe, or to, or ins, or prof, or obsc, or identity, or threat, \\n            and return the answer as the corresponding label:\\n            \"off\" or \"neither\" or \"hate\" or \"severe\" or \"to\" or \"ins\" or \"prof\" or \"obsc\" or \"identity\" or \"threat\".\\n            Make sure to give the whole label as an answer.\\n            [fuck you nerd fuck you nercd get a life freak i will burn in hell now byy] = \"'}]\n",
      " \"\n"
     ]
    },
    {
     "name": "stderr",
     "output_type": "stream",
     "text": [
      " 94%|█████████▍| 94/100 [00:10<00:00,  9.20it/s]"
     ]
    },
    {
     "name": "stdout",
     "output_type": "stream",
     "text": [
      "[{'generated_text': 'Categorize the tweet enclosed in square brackets to determine if it is off, or neither, or hate, or severe, or to, or ins, or prof, or obsc, or identity, or threat, \\n            and return the answer as the corresponding label:\\n            \"off\" or \"neither\" or \"hate\" or \"severe\" or \"to\" or \"ins\" or \"prof\" or \"obsc\" or \"identity\" or \"threat\".\\n            Make sure to give the whole label as an answer.\\n            [hello hey asshole i kill you filthy muslim] = \"'}]\n",
      " \"\n",
      "[{'generated_text': 'Categorize the tweet enclosed in square brackets to determine if it is off, or neither, or hate, or severe, or to, or ins, or prof, or obsc, or identity, or threat, \\n            and return the answer as the corresponding label:\\n            \"off\" or \"neither\" or \"hate\" or \"severe\" or \"to\" or \"ins\" or \"prof\" or \"obsc\" or \"identity\" or \"threat\".\\n            Make sure to give the whole label as an answer.\\n            [i will flay you alive you fking stalker i shall enjoy your screams of agony as your blood slowly pools across the floor of my basement] = \"'}]\n",
      " \"\n"
     ]
    },
    {
     "name": "stderr",
     "output_type": "stream",
     "text": [
      " 96%|█████████▌| 96/100 [00:10<00:00,  7.61it/s]"
     ]
    },
    {
     "name": "stdout",
     "output_type": "stream",
     "text": [
      "[{'generated_text': 'Categorize the tweet enclosed in square brackets to determine if it is off, or neither, or hate, or severe, or to, or ins, or prof, or obsc, or identity, or threat, \\n            and return the answer as the corresponding label:\\n            \"off\" or \"neither\" or \"hate\" or \"severe\" or \"to\" or \"ins\" or \"prof\" or \"obsc\" or \"identity\" or \"threat\".\\n            Make sure to give the whole label as an answer.\\n            [thats it remember last time you fucked with me the dildo your ear all that blood youve given me no choice but to repeat the punishment this time it will be a incher] = \"'}]\n",
      " \"\n",
      "[{'generated_text': 'Categorize the tweet enclosed in square brackets to determine if it is off, or neither, or hate, or severe, or to, or ins, or prof, or obsc, or identity, or threat, \\n            and return the answer as the corresponding label:\\n            \"off\" or \"neither\" or \"hate\" or \"severe\" or \"to\" or \"ins\" or \"prof\" or \"obsc\" or \"identity\" or \"threat\".\\n            Make sure to give the whole label as an answer.\\n            [fuck you slakr die wikipedia die wikipedia die wikipedia die wikipedia die wikipedia die wikipedia die wikipedia die wikipedia die wikipedia die wikipedia die wikipedia die wikipedia die wikipedia die wikipedia die wikipedia die wikipedia die wikipedia die wikipedia die wikipedia die wikipedia die wikipedia die wikipedia die wikipedia die wikipedia die wikipedia die wikipedia die wikipedia die wikipedia die wikipedia die wikipedia die wikipedia die wikipedia die wikipedia die wikipedia die wikipedia die wikipedia die wikipedia die wikipedia die wikipedia die wikipedia die wikipedia die wikipedia die wikipedia die wikipedia die wikipedia die wikipedia die wikipedia die wikipedia die wikipedia die wikipedia die wikipedia die wikipedia die wikipedia die wikipedia die wikipedia die wikipedia die wikipedia die wikipedia die wikipedia die wikipedia die wikipedia die wikipedia die wikipedia die wikipedia die wikipedia die wikipedia die wikipedia die wikipedia die wikipedia die wikipedia die wikipedia die wikipedia die wikipedia die wikipedia die wikipedia die wikipedia die wikipedia die wikipedia die wikipedia die wikipedia die wikipedia die wikipedia die wikipedia die wikipedia die wikipedia die wikipedia die wikipedia die wikipedia die wikipedia] = \"'}]\n",
      " \"\n"
     ]
    },
    {
     "name": "stderr",
     "output_type": "stream",
     "text": [
      " 98%|█████████▊| 98/100 [00:10<00:00,  8.26it/s]"
     ]
    },
    {
     "name": "stdout",
     "output_type": "stream",
     "text": [
      "[{'generated_text': 'Categorize the tweet enclosed in square brackets to determine if it is off, or neither, or hate, or severe, or to, or ins, or prof, or obsc, or identity, or threat, \\n            and return the answer as the corresponding label:\\n            \"off\" or \"neither\" or \"hate\" or \"severe\" or \"to\" or \"ins\" or \"prof\" or \"obsc\" or \"identity\" or \"threat\".\\n            Make sure to give the whole label as an answer.\\n            [must be tali ihantala where finland germany sweden and norway joined forces and killed every f cking russian war criminal that mad insane dictator stalin sent once and for all those ruthless russkie thieves stole the karelia from finland give it back you vodka drinking bastards or there will be trouble] = \"'}]\n",
      " \"\n",
      "[{'generated_text': 'Categorize the tweet enclosed in square brackets to determine if it is off, or neither, or hate, or severe, or to, or ins, or prof, or obsc, or identity, or threat, \\n            and return the answer as the corresponding label:\\n            \"off\" or \"neither\" or \"hate\" or \"severe\" or \"to\" or \"ins\" or \"prof\" or \"obsc\" or \"identity\" or \"threat\".\\n            Make sure to give the whole label as an answer.\\n            [hi were bp hello were gonna kill the gulf and yo and spill oil on your body and light ya up and shoot ya dead bodie cause were evil] = \"'}]\n",
      " \"\n"
     ]
    },
    {
     "name": "stderr",
     "output_type": "stream",
     "text": [
      "100%|██████████| 100/100 [00:11<00:00,  8.93it/s]"
     ]
    },
    {
     "name": "stdout",
     "output_type": "stream",
     "text": [
      "[{'generated_text': 'Categorize the tweet enclosed in square brackets to determine if it is off, or neither, or hate, or severe, or to, or ins, or prof, or obsc, or identity, or threat, \\n            and return the answer as the corresponding label:\\n            \"off\" or \"neither\" or \"hate\" or \"severe\" or \"to\" or \"ins\" or \"prof\" or \"obsc\" or \"identity\" or \"threat\".\\n            Make sure to give the whole label as an answer.\\n            [my thoughts youre a fucking piece of shit die and burn in hell] = \"'}]\n",
      " \"\n",
      "[{'generated_text': 'Categorize the tweet enclosed in square brackets to determine if it is off, or neither, or hate, or severe, or to, or ins, or prof, or obsc, or identity, or threat, \\n            and return the answer as the corresponding label:\\n            \"off\" or \"neither\" or \"hate\" or \"severe\" or \"to\" or \"ins\" or \"prof\" or \"obsc\" or \"identity\" or \"threat\".\\n            Make sure to give the whole label as an answer.\\n            [hey you fascist swine youre gonna get raped in the ass nice job being jimbos bitch you pathetic piece of shit] = \"'}]\n",
      " \"\n"
     ]
    },
    {
     "name": "stderr",
     "output_type": "stream",
     "text": [
      "\n"
     ]
    }
   ],
   "source": [
    "y_pred = predict(test, model, tokenizer)\n"
   ]
  },
  {
   "cell_type": "code",
   "execution_count": 57,
   "metadata": {},
   "outputs": [
    {
     "name": "stdout",
     "output_type": "stream",
     "text": [
      "Accuracy: 0.100\n",
      "Accuracy for label 0: 0.000\n",
      "Accuracy for label 1: 0.000\n",
      "Accuracy for label 2: 0.000\n",
      "Accuracy for label 3: 0.000\n",
      "Accuracy for label 4: 0.000\n",
      "Accuracy for label 5: 0.000\n",
      "Accuracy for label 6: 0.000\n",
      "Accuracy for label 7: 0.000\n",
      "Accuracy for label 8: 1.000\n",
      "Accuracy for label 9: 0.000\n",
      "\n",
      "Classification Report:\n",
      "              precision    recall  f1-score   support\n",
      "\n",
      "           0       0.00      0.00      0.00        10\n",
      "           1       0.00      0.00      0.00        10\n",
      "           2       0.00      0.00      0.00        10\n",
      "           3       0.00      0.00      0.00        10\n",
      "           4       0.00      0.00      0.00        10\n",
      "           5       0.00      0.00      0.00        10\n",
      "           6       0.00      0.00      0.00        10\n",
      "           7       0.00      0.00      0.00        10\n",
      "           8       0.10      1.00      0.18        10\n",
      "           9       0.00      0.00      0.00        10\n",
      "\n",
      "    accuracy                           0.10       100\n",
      "   macro avg       0.01      0.10      0.02       100\n",
      "weighted avg       0.01      0.10      0.02       100\n",
      "\n",
      "\n",
      "Confusion Matrix:\n",
      "[[ 0  0  0  0  0  0  0  0 10  0]\n",
      " [ 0  0  0  0  0  0  0  0 10  0]\n",
      " [ 0  0  0  0  0  0  0  0 10  0]\n",
      " [ 0  0  0  0  0  0  0  0 10  0]\n",
      " [ 0  0  0  0  0  0  0  0 10  0]\n",
      " [ 0  0  0  0  0  0  0  0 10  0]\n",
      " [ 0  0  0  0  0  0  0  0 10  0]\n",
      " [ 0  0  0  0  0  0  0  0  9  1]\n",
      " [ 0  0  0  0  0  0  0  0 10  0]\n",
      " [ 0  0  0  0  0  0  0  0 10  0]]\n"
     ]
    }
   ],
   "source": [
    "evaluate(y_true, y_pred)\n"
   ]
  },
  {
   "cell_type": "markdown",
   "metadata": {},
   "source": [
    "## LoRA Model Configuration"
   ]
  },
  {
   "cell_type": "code",
   "execution_count": 58,
   "metadata": {},
   "outputs": [
    {
     "name": "stderr",
     "output_type": "stream",
     "text": [
      "Map: 100%|██████████| 900/900 [00:00<00:00, 2461.36 examples/s]\n",
      "Map: 100%|██████████| 500/500 [00:00<00:00, 2678.87 examples/s]\n"
     ]
    }
   ],
   "source": [
    "# LoRA Model Configuration\n",
    "peft_config = LoraConfig(\n",
    "    lora_alpha=16,\n",
    "    lora_dropout=0.1,\n",
    "    r=64,\n",
    "    bias=\"none\",\n",
    "    task_type=\"CAUSAL_LM\",\n",
    ")\n",
    "# Training Arguments Configuration\n",
    "training_arguments = TrainingArguments(\n",
    "    output_dir=\"logs\",\n",
    "    num_train_epochs=5,\n",
    "    per_device_train_batch_size=1,\n",
    "    gradient_accumulation_steps=8, # 4\n",
    "    optim=\"paged_adamw_32bit\",\n",
    "    save_steps=0,\n",
    "    logging_steps=25,\n",
    "    learning_rate=2e-4,\n",
    "    weight_decay=0.001,\n",
    "    fp16=True,\n",
    "    bf16=False,\n",
    "    max_grad_norm=0.3,\n",
    "    max_steps=-1,\n",
    "    warmup_ratio=0.03,\n",
    "    group_by_length=True,\n",
    "    lr_scheduler_type=\"cosine\",\n",
    "    report_to=\"tensorboard\",\n",
    "    evaluation_strategy=\"epoch\"\n",
    ")\n",
    "\n",
    "# Trainer Initialization\n",
    "trainer = SFTTrainer(\n",
    "    model=model,\n",
    "    train_dataset=train_data,\n",
    "    eval_dataset=eval_data,\n",
    "    peft_config=peft_config,\n",
    "    dataset_text_field=\"input\",\n",
    "    tokenizer=tokenizer,\n",
    "    args=training_arguments,\n",
    "    packing=False,\n",
    "    max_seq_length=1024,\n",
    ")"
   ]
  },
  {
   "cell_type": "markdown",
   "metadata": {},
   "source": [
    "## Model training"
   ]
  },
  {
   "cell_type": "code",
   "execution_count": 59,
   "metadata": {},
   "outputs": [
    {
     "name": "stderr",
     "output_type": "stream",
     "text": [
      "You're using a LlamaTokenizerFast tokenizer. Please note that with a fast tokenizer, using the `__call__` method is faster than using a method to encode the text followed by a call to the `pad` method to get a padded encoding.\n"
     ]
    },
    {
     "data": {
      "text/html": [
       "\n",
       "    <div>\n",
       "      \n",
       "      <progress value='560' max='560' style='width:300px; height:20px; vertical-align: middle;'></progress>\n",
       "      [560/560 26:06, Epoch 4/5]\n",
       "    </div>\n",
       "    <table border=\"1\" class=\"dataframe\">\n",
       "  <thead>\n",
       " <tr style=\"text-align: left;\">\n",
       "      <th>Epoch</th>\n",
       "      <th>Training Loss</th>\n",
       "      <th>Validation Loss</th>\n",
       "    </tr>\n",
       "  </thead>\n",
       "  <tbody>\n",
       "    <tr>\n",
       "      <td>0</td>\n",
       "      <td>0.733600</td>\n",
       "      <td>0.827192</td>\n",
       "    </tr>\n",
       "    <tr>\n",
       "      <td>2</td>\n",
       "      <td>0.609600</td>\n",
       "      <td>0.810914</td>\n",
       "    </tr>\n",
       "    <tr>\n",
       "      <td>2</td>\n",
       "      <td>0.694900</td>\n",
       "      <td>0.806901</td>\n",
       "    </tr>\n",
       "    <tr>\n",
       "      <td>4</td>\n",
       "      <td>0.583500</td>\n",
       "      <td>0.809294</td>\n",
       "    </tr>\n",
       "    <tr>\n",
       "      <td>4</td>\n",
       "      <td>0.693200</td>\n",
       "      <td>0.811752</td>\n",
       "    </tr>\n",
       "  </tbody>\n",
       "</table><p>"
      ],
      "text/plain": [
       "<IPython.core.display.HTML object>"
      ]
     },
     "metadata": {},
     "output_type": "display_data"
    }
   ],
   "source": [
    "# Train model\n",
    "trainer.train()\n",
    "\n",
    "# Save trained model\n",
    "trainer.model.save_pretrained(\"trained-model\")"
   ]
  },
  {
   "cell_type": "markdown",
   "metadata": {},
   "source": [
    "## Model Predictions"
   ]
  },
  {
   "cell_type": "code",
   "execution_count": 60,
   "metadata": {},
   "outputs": [
    {
     "name": "stderr",
     "output_type": "stream",
     "text": [
      "  2%|▏         | 2/100 [00:00<00:18,  5.41it/s]"
     ]
    },
    {
     "name": "stdout",
     "output_type": "stream",
     "text": [
      "[{'generated_text': 'Categorize the tweet enclosed in square brackets to determine if it is off, or neither, or hate, or severe, or to, or ins, or prof, or obsc, or identity, or threat, \\n            and return the answer as the corresponding label:\\n            \"off\" or \"neither\" or \"hate\" or \"severe\" or \"to\" or \"ins\" or \"prof\" or \"obsc\" or \"identity\" or \"threat\".\\n            Make sure to give the whole label as an answer.\\n            [ik i look good and all but dam bitches stop making it obv your staring at me loll] = off'}]\n",
      " off\n",
      "[{'generated_text': 'Categorize the tweet enclosed in square brackets to determine if it is off, or neither, or hate, or severe, or to, or ins, or prof, or obsc, or identity, or threat, \\n            and return the answer as the corresponding label:\\n            \"off\" or \"neither\" or \"hate\" or \"severe\" or \"to\" or \"ins\" or \"prof\" or \"obsc\" or \"identity\" or \"threat\".\\n            Make sure to give the whole label as an answer.\\n            [a bitch who cant ride dick is useless] = off'}]\n",
      " off\n"
     ]
    },
    {
     "name": "stderr",
     "output_type": "stream",
     "text": [
      "  4%|▍         | 4/100 [00:00<00:16,  5.76it/s]"
     ]
    },
    {
     "name": "stdout",
     "output_type": "stream",
     "text": [
      "[{'generated_text': 'Categorize the tweet enclosed in square brackets to determine if it is off, or neither, or hate, or severe, or to, or ins, or prof, or obsc, or identity, or threat, \\n            and return the answer as the corresponding label:\\n            \"off\" or \"neither\" or \"hate\" or \"severe\" or \"to\" or \"ins\" or \"prof\" or \"obsc\" or \"identity\" or \"threat\".\\n            Make sure to give the whole label as an answer.\\n            [the metoo movement is just an extension of the democrats kkk amp the hate group antifa its just another form of lynching those who oppose their agenda metoo people jump on ban wagons in the name of justice to perpetuate mass bullying of those who threaten to expose them] = hate'}]\n",
      " hate\n",
      "[{'generated_text': 'Categorize the tweet enclosed in square brackets to determine if it is off, or neither, or hate, or severe, or to, or ins, or prof, or obsc, or identity, or threat, \\n            and return the answer as the corresponding label:\\n            \"off\" or \"neither\" or \"hate\" or \"severe\" or \"to\" or \"ins\" or \"prof\" or \"obsc\" or \"identity\" or \"threat\".\\n            Make sure to give the whole label as an answer.\\n            [the democrats are becoming more despicable by the day there is no bottom to their vitriol and lies barrel why liberals go along with this makes no sense] = hate'}]\n",
      " hate\n"
     ]
    },
    {
     "name": "stderr",
     "output_type": "stream",
     "text": [
      "  6%|▌         | 6/100 [00:01<00:15,  5.98it/s]"
     ]
    },
    {
     "name": "stdout",
     "output_type": "stream",
     "text": [
      "[{'generated_text': 'Categorize the tweet enclosed in square brackets to determine if it is off, or neither, or hate, or severe, or to, or ins, or prof, or obsc, or identity, or threat, \\n            and return the answer as the corresponding label:\\n            \"off\" or \"neither\" or \"hate\" or \"severe\" or \"to\" or \"ins\" or \"prof\" or \"obsc\" or \"identity\" or \"threat\".\\n            Make sure to give the whole label as an answer.\\n            [so many issues facing australian voters but the single obsession of australian conservatives is bullying transgender children] = prof'}]\n",
      " prof\n",
      "[{'generated_text': 'Categorize the tweet enclosed in square brackets to determine if it is off, or neither, or hate, or severe, or to, or ins, or prof, or obsc, or identity, or threat, \\n            and return the answer as the corresponding label:\\n            \"off\" or \"neither\" or \"hate\" or \"severe\" or \"to\" or \"ins\" or \"prof\" or \"obsc\" or \"identity\" or \"threat\".\\n            Make sure to give the whole label as an answer.\\n            [you mean exactly like conservatives are attacking this current victim] = prof'}]\n",
      " prof\n"
     ]
    },
    {
     "name": "stderr",
     "output_type": "stream",
     "text": [
      "  8%|▊         | 8/100 [00:01<00:14,  6.29it/s]"
     ]
    },
    {
     "name": "stdout",
     "output_type": "stream",
     "text": [
      "[{'generated_text': 'Categorize the tweet enclosed in square brackets to determine if it is off, or neither, or hate, or severe, or to, or ins, or prof, or obsc, or identity, or threat, \\n            and return the answer as the corresponding label:\\n            \"off\" or \"neither\" or \"hate\" or \"severe\" or \"to\" or \"ins\" or \"prof\" or \"obsc\" or \"identity\" or \"threat\".\\n            Make sure to give the whole label as an answer.\\n            [this bitch gonna steal a police uniform and think she has some authority i say we pop the trunk on her bitch ass] = off'}]\n",
      " off\n",
      "[{'generated_text': 'Categorize the tweet enclosed in square brackets to determine if it is off, or neither, or hate, or severe, or to, or ins, or prof, or obsc, or identity, or threat, \\n            and return the answer as the corresponding label:\\n            \"off\" or \"neither\" or \"hate\" or \"severe\" or \"to\" or \"ins\" or \"prof\" or \"obsc\" or \"identity\" or \"threat\".\\n            Make sure to give the whole label as an answer.\\n            [lucky bitch] = off'}]\n",
      " off\n"
     ]
    },
    {
     "name": "stderr",
     "output_type": "stream",
     "text": [
      " 10%|█         | 10/100 [00:01<00:14,  6.15it/s]"
     ]
    },
    {
     "name": "stdout",
     "output_type": "stream",
     "text": [
      "[{'generated_text': 'Categorize the tweet enclosed in square brackets to determine if it is off, or neither, or hate, or severe, or to, or ins, or prof, or obsc, or identity, or threat, \\n            and return the answer as the corresponding label:\\n            \"off\" or \"neither\" or \"hate\" or \"severe\" or \"to\" or \"ins\" or \"prof\" or \"obsc\" or \"identity\" or \"threat\".\\n            Make sure to give the whole label as an answer.\\n            [juicy j cant say no to ratchet pussy remember] = off'}]\n",
      " off\n",
      "[{'generated_text': 'Categorize the tweet enclosed in square brackets to determine if it is off, or neither, or hate, or severe, or to, or ins, or prof, or obsc, or identity, or threat, \\n            and return the answer as the corresponding label:\\n            \"off\" or \"neither\" or \"hate\" or \"severe\" or \"to\" or \"ins\" or \"prof\" or \"obsc\" or \"identity\" or \"threat\".\\n            Make sure to give the whole label as an answer.\\n            [her family consist of cheating husband who never loved her two bonus boys who made it clear she is not their mom and never will be in laws who show more affection to stray cats than wewe paid employees who laugh at her while cashing her checks] = hate'}]\n",
      " hate\n"
     ]
    },
    {
     "name": "stderr",
     "output_type": "stream",
     "text": [
      " 12%|█▏        | 12/100 [00:02<00:14,  6.06it/s]"
     ]
    },
    {
     "name": "stdout",
     "output_type": "stream",
     "text": [
      "[{'generated_text': 'Categorize the tweet enclosed in square brackets to determine if it is off, or neither, or hate, or severe, or to, or ins, or prof, or obsc, or identity, or threat, \\n            and return the answer as the corresponding label:\\n            \"off\" or \"neither\" or \"hate\" or \"severe\" or \"to\" or \"ins\" or \"prof\" or \"obsc\" or \"identity\" or \"threat\".\\n            Make sure to give the whole label as an answer.\\n            [thanks for experimenting with wikipedia your test worked and has been removed or reveed please use the sandbox for any other tests you want to do take a look at the welcome page if you would like to learn more about contributing to our encyclopedia thanks] = neither'}]\n",
      " neither\n",
      "[{'generated_text': 'Categorize the tweet enclosed in square brackets to determine if it is off, or neither, or hate, or severe, or to, or ins, or prof, or obsc, or identity, or threat, \\n            and return the answer as the corresponding label:\\n            \"off\" or \"neither\" or \"hate\" or \"severe\" or \"to\" or \"ins\" or \"prof\" or \"obsc\" or \"identity\" or \"threat\".\\n            Make sure to give the whole label as an answer.\\n            [thank you for your comment it will help other users keep track if you can get into the habit of signing comments either with your chosen user name or by typing four tildes after your comment] = neither'}]\n",
      " neither\n"
     ]
    },
    {
     "name": "stderr",
     "output_type": "stream",
     "text": [
      " 14%|█▍        | 14/100 [00:02<00:17,  4.91it/s]"
     ]
    },
    {
     "name": "stdout",
     "output_type": "stream",
     "text": [
      "[{'generated_text': 'Categorize the tweet enclosed in square brackets to determine if it is off, or neither, or hate, or severe, or to, or ins, or prof, or obsc, or identity, or threat, \\n            and return the answer as the corresponding label:\\n            \"off\" or \"neither\" or \"hate\" or \"severe\" or \"to\" or \"ins\" or \"prof\" or \"obsc\" or \"identity\" or \"threat\".\\n            Make sure to give the whole label as an answer.\\n            [do not be pathetic i do not take anti polish views and do not make anti polish edits unless of course you consider deleting polish pov as making anti polish edits provide evidence if you believe it is not so also i am by far not the only one to react to your behaviour here you ask me about my nationality i will not tell you as i believe nationality does not matter on wikipedia however contrary to you i am not at the same time a self declared czech when talking to editors with czech ancestry a european since the beginning of this calendar year and a pole whose grandfather was active in preparations of the polish occupation of zaolzie when talking to your fellow polish editors if you talk about your achievements why do you not mention that you were several times blocked once even by jimbo wales for personal attacks or incivility why do you keep quiet about being desysoped because of bad behaviour in a dispute relating to ethnic issues in relation to the latest edits in cieszyn and esk t n the austrian census of do you still believe there were no czechs in town or did you not know at that time it is not a pov pushing from my side i would do the same for the czech minority if some would be here do seriously think of your approach you have my sympathies in preserving polish traditions and ethnicity in teschen silesia but i will keep on strongly opposing your pov inseions they do not belong here this is wikipedia] = to'}]\n",
      " to\n",
      "[{'generated_text': 'Categorize the tweet enclosed in square brackets to determine if it is off, or neither, or hate, or severe, or to, or ins, or prof, or obsc, or identity, or threat, \\n            and return the answer as the corresponding label:\\n            \"off\" or \"neither\" or \"hate\" or \"severe\" or \"to\" or \"ins\" or \"prof\" or \"obsc\" or \"identity\" or \"threat\".\\n            Make sure to give the whole label as an answer.\\n            [alison crawford you and this other turd riana dumped the aicle about alison crawford odds are youre not even in the uk to know who she is its hard to get over the fact that non notable maggots like you can go around policing at wikipedia playing at and pretending to be notable yourselves and fuck up the experience for the rest of us and make wikipedia generally less effective and useful for wikipedia visitors in general] = obsc'}]\n",
      " obsc\n"
     ]
    },
    {
     "name": "stderr",
     "output_type": "stream",
     "text": [
      " 16%|█▌        | 16/100 [00:02<00:15,  5.47it/s]"
     ]
    },
    {
     "name": "stdout",
     "output_type": "stream",
     "text": [
      "[{'generated_text': 'Categorize the tweet enclosed in square brackets to determine if it is off, or neither, or hate, or severe, or to, or ins, or prof, or obsc, or identity, or threat, \\n            and return the answer as the corresponding label:\\n            \"off\" or \"neither\" or \"hate\" or \"severe\" or \"to\" or \"ins\" or \"prof\" or \"obsc\" or \"identity\" or \"threat\".\\n            Make sure to give the whole label as an answer.\\n            [current users contrary to what the aicle says several current models use body on frame we should list them] = neither'}]\n",
      " neither\n",
      "[{'generated_text': 'Categorize the tweet enclosed in square brackets to determine if it is off, or neither, or hate, or severe, or to, or ins, or prof, or obsc, or identity, or threat, \\n            and return the answer as the corresponding label:\\n            \"off\" or \"neither\" or \"hate\" or \"severe\" or \"to\" or \"ins\" or \"prof\" or \"obsc\" or \"identity\" or \"threat\".\\n            Make sure to give the whole label as an answer.\\n            [you have until jan to remove yourself from wikipedia if you fail to follow this request you will be terminated] = threat'}]\n",
      " threat\n"
     ]
    },
    {
     "name": "stderr",
     "output_type": "stream",
     "text": [
      " 18%|█▊        | 18/100 [00:03<00:14,  5.81it/s]"
     ]
    },
    {
     "name": "stdout",
     "output_type": "stream",
     "text": [
      "[{'generated_text': 'Categorize the tweet enclosed in square brackets to determine if it is off, or neither, or hate, or severe, or to, or ins, or prof, or obsc, or identity, or threat, \\n            and return the answer as the corresponding label:\\n            \"off\" or \"neither\" or \"hate\" or \"severe\" or \"to\" or \"ins\" or \"prof\" or \"obsc\" or \"identity\" or \"threat\".\\n            Make sure to give the whole label as an answer.\\n            [some impoant things seem to have been dropped] = neither'}]\n",
      " neither\n",
      "[{'generated_text': 'Categorize the tweet enclosed in square brackets to determine if it is off, or neither, or hate, or severe, or to, or ins, or prof, or obsc, or identity, or threat, \\n            and return the answer as the corresponding label:\\n            \"off\" or \"neither\" or \"hate\" or \"severe\" or \"to\" or \"ins\" or \"prof\" or \"obsc\" or \"identity\" or \"threat\".\\n            Make sure to give the whole label as an answer.\\n            [you literally believe in fairy tales] = to'}]\n",
      " to\n"
     ]
    },
    {
     "name": "stderr",
     "output_type": "stream",
     "text": [
      " 20%|██        | 20/100 [00:03<00:13,  5.96it/s]"
     ]
    },
    {
     "name": "stdout",
     "output_type": "stream",
     "text": [
      "[{'generated_text': 'Categorize the tweet enclosed in square brackets to determine if it is off, or neither, or hate, or severe, or to, or ins, or prof, or obsc, or identity, or threat, \\n            and return the answer as the corresponding label:\\n            \"off\" or \"neither\" or \"hate\" or \"severe\" or \"to\" or \"ins\" or \"prof\" or \"obsc\" or \"identity\" or \"threat\".\\n            Make sure to give the whole label as an answer.\\n            [file turk bilge tonyukuk monument jpg what is your reason that it violates copyright policy] = neither'}]\n",
      " neither\n",
      "[{'generated_text': 'Categorize the tweet enclosed in square brackets to determine if it is off, or neither, or hate, or severe, or to, or ins, or prof, or obsc, or identity, or threat, \\n            and return the answer as the corresponding label:\\n            \"off\" or \"neither\" or \"hate\" or \"severe\" or \"to\" or \"ins\" or \"prof\" or \"obsc\" or \"identity\" or \"threat\".\\n            Make sure to give the whole label as an answer.\\n            [august utc keep it out i didnt pick it up as a homophobic comment talk] = neither'}]\n",
      " neither\n"
     ]
    },
    {
     "name": "stderr",
     "output_type": "stream",
     "text": [
      " 22%|██▏       | 22/100 [00:03<00:12,  6.23it/s]"
     ]
    },
    {
     "name": "stdout",
     "output_type": "stream",
     "text": [
      "[{'generated_text': 'Categorize the tweet enclosed in square brackets to determine if it is off, or neither, or hate, or severe, or to, or ins, or prof, or obsc, or identity, or threat, \\n            and return the answer as the corresponding label:\\n            \"off\" or \"neither\" or \"hate\" or \"severe\" or \"to\" or \"ins\" or \"prof\" or \"obsc\" or \"identity\" or \"threat\".\\n            Make sure to give the whole label as an answer.\\n            [faggots] = hate'}]\n",
      " hate\n",
      "[{'generated_text': 'Categorize the tweet enclosed in square brackets to determine if it is off, or neither, or hate, or severe, or to, or ins, or prof, or obsc, or identity, or threat, \\n            and return the answer as the corresponding label:\\n            \"off\" or \"neither\" or \"hate\" or \"severe\" or \"to\" or \"ins\" or \"prof\" or \"obsc\" or \"identity\" or \"threat\".\\n            Make sure to give the whole label as an answer.\\n            [i dont watch retarded racists] = identity'}]\n",
      " identity\n"
     ]
    },
    {
     "name": "stderr",
     "output_type": "stream",
     "text": [
      " 24%|██▍       | 24/100 [00:04<00:12,  6.13it/s]"
     ]
    },
    {
     "name": "stdout",
     "output_type": "stream",
     "text": [
      "[{'generated_text': 'Categorize the tweet enclosed in square brackets to determine if it is off, or neither, or hate, or severe, or to, or ins, or prof, or obsc, or identity, or threat, \\n            and return the answer as the corresponding label:\\n            \"off\" or \"neither\" or \"hate\" or \"severe\" or \"to\" or \"ins\" or \"prof\" or \"obsc\" or \"identity\" or \"threat\".\\n            Make sure to give the whole label as an answer.\\n            [i looked up one of the claims you made repeatedly about harvard being jew sourcing hillel i found that its false and pretty obvious to verify harvard is actually only jewish what retard is doing your research for you] = identity'}]\n",
      " identity\n",
      "[{'generated_text': 'Categorize the tweet enclosed in square brackets to determine if it is off, or neither, or hate, or severe, or to, or ins, or prof, or obsc, or identity, or threat, \\n            and return the answer as the corresponding label:\\n            \"off\" or \"neither\" or \"hate\" or \"severe\" or \"to\" or \"ins\" or \"prof\" or \"obsc\" or \"identity\" or \"threat\".\\n            Make sure to give the whole label as an answer.\\n            [hit time where is jimmy et al when you need the black hand irish southies] = hate'}]\n",
      " hate\n"
     ]
    },
    {
     "name": "stderr",
     "output_type": "stream",
     "text": [
      " 26%|██▌       | 26/100 [00:04<00:11,  6.33it/s]"
     ]
    },
    {
     "name": "stdout",
     "output_type": "stream",
     "text": [
      "[{'generated_text': 'Categorize the tweet enclosed in square brackets to determine if it is off, or neither, or hate, or severe, or to, or ins, or prof, or obsc, or identity, or threat, \\n            and return the answer as the corresponding label:\\n            \"off\" or \"neither\" or \"hate\" or \"severe\" or \"to\" or \"ins\" or \"prof\" or \"obsc\" or \"identity\" or \"threat\".\\n            Make sure to give the whole label as an answer.\\n            [hes a twat] = ins'}]\n",
      " ins\n",
      "[{'generated_text': 'Categorize the tweet enclosed in square brackets to determine if it is off, or neither, or hate, or severe, or to, or ins, or prof, or obsc, or identity, or threat, \\n            and return the answer as the corresponding label:\\n            \"off\" or \"neither\" or \"hate\" or \"severe\" or \"to\" or \"ins\" or \"prof\" or \"obsc\" or \"identity\" or \"threat\".\\n            Make sure to give the whole label as an answer.\\n            [should only have incarceration rights] = neither'}]\n",
      " neither\n"
     ]
    },
    {
     "name": "stderr",
     "output_type": "stream",
     "text": [
      " 28%|██▊       | 28/100 [00:04<00:11,  6.40it/s]"
     ]
    },
    {
     "name": "stdout",
     "output_type": "stream",
     "text": [
      "[{'generated_text': 'Categorize the tweet enclosed in square brackets to determine if it is off, or neither, or hate, or severe, or to, or ins, or prof, or obsc, or identity, or threat, \\n            and return the answer as the corresponding label:\\n            \"off\" or \"neither\" or \"hate\" or \"severe\" or \"to\" or \"ins\" or \"prof\" or \"obsc\" or \"identity\" or \"threat\".\\n            Make sure to give the whole label as an answer.\\n            [retarded] = off'}]\n",
      " off\n",
      "[{'generated_text': 'Categorize the tweet enclosed in square brackets to determine if it is off, or neither, or hate, or severe, or to, or ins, or prof, or obsc, or identity, or threat, \\n            and return the answer as the corresponding label:\\n            \"off\" or \"neither\" or \"hate\" or \"severe\" or \"to\" or \"ins\" or \"prof\" or \"obsc\" or \"identity\" or \"threat\".\\n            Make sure to give the whole label as an answer.\\n            [motherfucker is toast already faggot got shitcanned from his job] = severe'}]\n",
      " severe\n"
     ]
    },
    {
     "name": "stderr",
     "output_type": "stream",
     "text": [
      " 30%|███       | 30/100 [00:05<00:10,  6.44it/s]"
     ]
    },
    {
     "name": "stdout",
     "output_type": "stream",
     "text": [
      "[{'generated_text': 'Categorize the tweet enclosed in square brackets to determine if it is off, or neither, or hate, or severe, or to, or ins, or prof, or obsc, or identity, or threat, \\n            and return the answer as the corresponding label:\\n            \"off\" or \"neither\" or \"hate\" or \"severe\" or \"to\" or \"ins\" or \"prof\" or \"obsc\" or \"identity\" or \"threat\".\\n            Make sure to give the whole label as an answer.\\n            [it also leaves out that youre doing the exact same thing attacking free speech namely by suggesting that germans and others are too stupid to know propaganda when they hear it something i actually agree with and must not be exposed to too much jewish media same exact argument retarded made] = hate'}]\n",
      " hate\n",
      "[{'generated_text': 'Categorize the tweet enclosed in square brackets to determine if it is off, or neither, or hate, or severe, or to, or ins, or prof, or obsc, or identity, or threat, \\n            and return the answer as the corresponding label:\\n            \"off\" or \"neither\" or \"hate\" or \"severe\" or \"to\" or \"ins\" or \"prof\" or \"obsc\" or \"identity\" or \"threat\".\\n            Make sure to give the whole label as an answer.\\n            [retard ale eceryone] = ins'}]\n",
      " ins\n"
     ]
    },
    {
     "name": "stderr",
     "output_type": "stream",
     "text": [
      " 32%|███▏      | 32/100 [00:05<00:10,  6.23it/s]"
     ]
    },
    {
     "name": "stdout",
     "output_type": "stream",
     "text": [
      "[{'generated_text': 'Categorize the tweet enclosed in square brackets to determine if it is off, or neither, or hate, or severe, or to, or ins, or prof, or obsc, or identity, or threat, \\n            and return the answer as the corresponding label:\\n            \"off\" or \"neither\" or \"hate\" or \"severe\" or \"to\" or \"ins\" or \"prof\" or \"obsc\" or \"identity\" or \"threat\".\\n            Make sure to give the whole label as an answer.\\n            [fuck off you paki bastard take your sad pathetic life somewhere else] = identity'}]\n",
      " identity\n",
      "[{'generated_text': 'Categorize the tweet enclosed in square brackets to determine if it is off, or neither, or hate, or severe, or to, or ins, or prof, or obsc, or identity, or threat, \\n            and return the answer as the corresponding label:\\n            \"off\" or \"neither\" or \"hate\" or \"severe\" or \"to\" or \"ins\" or \"prof\" or \"obsc\" or \"identity\" or \"threat\".\\n            Make sure to give the whole label as an answer.\\n            [wateva minga mc donalds worker u r a fuckin paedofile leave ant and dec alone just cause ur not famous u fuckin ugly bitch fuck ur hole family] = severe'}]\n",
      " severe\n"
     ]
    },
    {
     "name": "stderr",
     "output_type": "stream",
     "text": [
      " 34%|███▍      | 34/100 [00:05<00:10,  6.18it/s]"
     ]
    },
    {
     "name": "stdout",
     "output_type": "stream",
     "text": [
      "[{'generated_text': 'Categorize the tweet enclosed in square brackets to determine if it is off, or neither, or hate, or severe, or to, or ins, or prof, or obsc, or identity, or threat, \\n            and return the answer as the corresponding label:\\n            \"off\" or \"neither\" or \"hate\" or \"severe\" or \"to\" or \"ins\" or \"prof\" or \"obsc\" or \"identity\" or \"threat\".\\n            Make sure to give the whole label as an answer.\\n            [show yourself you filthy son of a bitch quit hiding behind these wikipedians you fucking pussy] = identity'}]\n",
      " identity\n",
      "[{'generated_text': 'Categorize the tweet enclosed in square brackets to determine if it is off, or neither, or hate, or severe, or to, or ins, or prof, or obsc, or identity, or threat, \\n            and return the answer as the corresponding label:\\n            \"off\" or \"neither\" or \"hate\" or \"severe\" or \"to\" or \"ins\" or \"prof\" or \"obsc\" or \"identity\" or \"threat\".\\n            Make sure to give the whole label as an answer.\\n            [and wont be back like that gay fucking bastard cunt] = hate'}]\n",
      " hate\n"
     ]
    },
    {
     "name": "stderr",
     "output_type": "stream",
     "text": [
      " 35%|███▌      | 35/100 [00:05<00:10,  6.17it/s]"
     ]
    },
    {
     "name": "stdout",
     "output_type": "stream",
     "text": [
      "[{'generated_text': 'Categorize the tweet enclosed in square brackets to determine if it is off, or neither, or hate, or severe, or to, or ins, or prof, or obsc, or identity, or threat, \\n            and return the answer as the corresponding label:\\n            \"off\" or \"neither\" or \"hate\" or \"severe\" or \"to\" or \"ins\" or \"prof\" or \"obsc\" or \"identity\" or \"threat\".\\n            Make sure to give the whole label as an answer.\\n            [i like blowjobs and dicks down my rear end ps cops love me] = off'}]\n",
      " off\n"
     ]
    },
    {
     "name": "stderr",
     "output_type": "stream",
     "text": [
      " 36%|███▌      | 36/100 [00:06<00:14,  4.28it/s]"
     ]
    },
    {
     "name": "stdout",
     "output_type": "stream",
     "text": [
      "[{'generated_text': 'Categorize the tweet enclosed in square brackets to determine if it is off, or neither, or hate, or severe, or to, or ins, or prof, or obsc, or identity, or threat, \\n            and return the answer as the corresponding label:\\n            \"off\" or \"neither\" or \"hate\" or \"severe\" or \"to\" or \"ins\" or \"prof\" or \"obsc\" or \"identity\" or \"threat\".\\n            Make sure to give the whole label as an answer.\\n            [shitty nigger fuck i love d r u shitty nigger fuck i love d r u shitty nigger fuck i love d r u shitty nigger fuck i love d r u shitty nigger fuck i love d r u shitty nigger fuck i love d r u shitty nigger fuck i love d r u shitty nigger fuck i love d r u shitty nigger fuck i love d r u shitty nigger fuck i love d r u shitty nigger fuck i love d r u shitty nigger fuck i love d r u shitty nigger fuck i love d r u shitty nigger fuck i love d r u shitty nigger fuck i love d r u shitty nigger fuck i love d r u shitty nigger fuck i love d r u shitty nigger fuck i love d r u shitty nigger fuck i love d r u shitty nigger fuck i love d r u shitty nigger fuck i love d r u shitty nigger fuck i love d r u shitty nigger fuck i love d r u shitty nigger fuck i love d r u shitty nigger fuck i love d r u shitty nigger fuck i love d r u shitty nigger fuck i love d r u shitty nigger fuck i love d r u shitty nigger fuck i love d r u shitty nigger fuck i love d r u shitty nigger fuck i love d r u shitty nigger fuck i love d r u shitty nigger fuck i love d r u shitty nigger fuck i love d r u shitty nigger fuck i love d r u shitty nigger fuck i love d r u shitty nigger fuck i love d r u shitty nigger fuck i love d r u shitty nigger fuck i love d r u shitty nigger fuck i love d r u shitty nigger fuck i love d r u shitty nigger fuck i love d r u] = identity'}]\n",
      " identity\n"
     ]
    },
    {
     "name": "stderr",
     "output_type": "stream",
     "text": [
      " 38%|███▊      | 38/100 [00:06<00:14,  4.33it/s]"
     ]
    },
    {
     "name": "stdout",
     "output_type": "stream",
     "text": [
      "[{'generated_text': 'Categorize the tweet enclosed in square brackets to determine if it is off, or neither, or hate, or severe, or to, or ins, or prof, or obsc, or identity, or threat, \\n            and return the answer as the corresponding label:\\n            \"off\" or \"neither\" or \"hate\" or \"severe\" or \"to\" or \"ins\" or \"prof\" or \"obsc\" or \"identity\" or \"threat\".\\n            Make sure to give the whole label as an answer.\\n            [this is not fair to blocking me use the profanity ymblanter you are a great asshole brute merciless and stony heaed you are also talking about sources this fucking bitches users this daughter of dog asceticrose complained you and you have been taken me an action you blocked me this is not fair you motherfucker bastard and rascal you meat paste bucklehead mothersucker i am begging you many times to edit and re correct the wikipedia but you didnt listened my beggings you cheated me you threatened me dishonored and disgraced me i know that a people can make a grave mistake to err is human after that you have a faith of asceticrose this fathersucker user this user also always disturbing me unless fuck this profanity you are a great bullshit motherfucker fathersucker wicked boggle deuce unrighteous brute bucklehead meat paste ymblanter you are a son of bitch bastard you have a merciless in your hea surrender me and apologize me understand you heretic fiend you are a wicked user you blamed me to be disruptive editing foul person user if you have courage give your facebook id my facebook id is rabby ahmed musa rabbyahmed musa shit go to the facebook id and message contact me hell in cell fuck your mother i wanna block you dickhead suck your fathers dickhead you son of pig swine great dim witted user] = obsc'}]\n",
      " obsc\n",
      "[{'generated_text': 'Categorize the tweet enclosed in square brackets to determine if it is off, or neither, or hate, or severe, or to, or ins, or prof, or obsc, or identity, or threat, \\n            and return the answer as the corresponding label:\\n            \"off\" or \"neither\" or \"hate\" or \"severe\" or \"to\" or \"ins\" or \"prof\" or \"obsc\" or \"identity\" or \"threat\".\\n            Make sure to give the whole label as an answer.\\n            [vandalising the page how did i vandalise the page you fucking dickhead what did i do wrong to it arsehole] = ins'}]\n",
      " ins\n"
     ]
    },
    {
     "name": "stderr",
     "output_type": "stream",
     "text": [
      " 40%|████      | 40/100 [00:07<00:11,  5.08it/s]"
     ]
    },
    {
     "name": "stdout",
     "output_type": "stream",
     "text": [
      "[{'generated_text': 'Categorize the tweet enclosed in square brackets to determine if it is off, or neither, or hate, or severe, or to, or ins, or prof, or obsc, or identity, or threat, \\n            and return the answer as the corresponding label:\\n            \"off\" or \"neither\" or \"hate\" or \"severe\" or \"to\" or \"ins\" or \"prof\" or \"obsc\" or \"identity\" or \"threat\".\\n            Make sure to give the whole label as an answer.\\n            [fuck you how dare you not rsvp me you bitch i thought we had something im the best thing youll ever have] = severe'}]\n",
      " severe\n",
      "[{'generated_text': 'Categorize the tweet enclosed in square brackets to determine if it is off, or neither, or hate, or severe, or to, or ins, or prof, or obsc, or identity, or threat, \\n            and return the answer as the corresponding label:\\n            \"off\" or \"neither\" or \"hate\" or \"severe\" or \"to\" or \"ins\" or \"prof\" or \"obsc\" or \"identity\" or \"threat\".\\n            Make sure to give the whole label as an answer.\\n            [fuck you too you fascist piece of shit] = severe'}]\n",
      " severe\n"
     ]
    },
    {
     "name": "stderr",
     "output_type": "stream",
     "text": [
      " 42%|████▏     | 42/100 [00:07<00:10,  5.56it/s]"
     ]
    },
    {
     "name": "stdout",
     "output_type": "stream",
     "text": [
      "[{'generated_text': 'Categorize the tweet enclosed in square brackets to determine if it is off, or neither, or hate, or severe, or to, or ins, or prof, or obsc, or identity, or threat, \\n            and return the answer as the corresponding label:\\n            \"off\" or \"neither\" or \"hate\" or \"severe\" or \"to\" or \"ins\" or \"prof\" or \"obsc\" or \"identity\" or \"threat\".\\n            Make sure to give the whole label as an answer.\\n            [youre just senseless and clueless making false accuses] = to'}]\n",
      " to\n",
      "[{'generated_text': 'Categorize the tweet enclosed in square brackets to determine if it is off, or neither, or hate, or severe, or to, or ins, or prof, or obsc, or identity, or threat, \\n            and return the answer as the corresponding label:\\n            \"off\" or \"neither\" or \"hate\" or \"severe\" or \"to\" or \"ins\" or \"prof\" or \"obsc\" or \"identity\" or \"threat\".\\n            Make sure to give the whole label as an answer.\\n            [this aicle sucks this aicle is just an anti g k ek aicle] = ins'}]\n",
      " ins\n"
     ]
    },
    {
     "name": "stderr",
     "output_type": "stream",
     "text": [
      " 44%|████▍     | 44/100 [00:07<00:10,  5.20it/s]"
     ]
    },
    {
     "name": "stdout",
     "output_type": "stream",
     "text": [
      "[{'generated_text': 'Categorize the tweet enclosed in square brackets to determine if it is off, or neither, or hate, or severe, or to, or ins, or prof, or obsc, or identity, or threat, \\n            and return the answer as the corresponding label:\\n            \"off\" or \"neither\" or \"hate\" or \"severe\" or \"to\" or \"ins\" or \"prof\" or \"obsc\" or \"identity\" or \"threat\".\\n            Make sure to give the whole label as an answer.\\n            [suspicious mass edits is any administrator following spylabs editing can anybody tell me who gave the right to this guy under the pseudonym spylab to behave like the master of wikipedia deleting my comment i uploaded yesterday here and ignoring the comments of other users despite the fact they were based on wikipedia policy according to which he cannot introduce mass changes to an entry without generating a discussion first in the talk page about the changes he suggested evidence was produced by other users to show that he lied when he said that he did just a simple copy editing as it was shown that he deleted sentences and that he distoed the meaning of other phrases simply because he has no clue about the inclusive democracy project despite all this he comes back again and again adding deleting and re organizing at will this entry has anybody appointed him to do this damaging work which far from enhancing the significance of wikipedia it creates the impression that any ignoramus can do whatever he likes with long established entries] = neither'}]\n",
      " neither\n",
      "[{'generated_text': 'Categorize the tweet enclosed in square brackets to determine if it is off, or neither, or hate, or severe, or to, or ins, or prof, or obsc, or identity, or threat, \\n            and return the answer as the corresponding label:\\n            \"off\" or \"neither\" or \"hate\" or \"severe\" or \"to\" or \"ins\" or \"prof\" or \"obsc\" or \"identity\" or \"threat\".\\n            Make sure to give the whole label as an answer.\\n            [hiya tam you had already given yourself away as a jw so no clairvoyance was needed i was in the lie for years even became a ministerial servant i can smell the rotting brain of a jw a thousand miles away im sending apostate demons your way demons demons demons] = to'}]\n",
      " to\n"
     ]
    },
    {
     "name": "stderr",
     "output_type": "stream",
     "text": [
      " 46%|████▌     | 46/100 [00:08<00:10,  5.12it/s]"
     ]
    },
    {
     "name": "stdout",
     "output_type": "stream",
     "text": [
      "[{'generated_text': 'Categorize the tweet enclosed in square brackets to determine if it is off, or neither, or hate, or severe, or to, or ins, or prof, or obsc, or identity, or threat, \\n            and return the answer as the corresponding label:\\n            \"off\" or \"neither\" or \"hate\" or \"severe\" or \"to\" or \"ins\" or \"prof\" or \"obsc\" or \"identity\" or \"threat\".\\n            Make sure to give the whole label as an answer.\\n            [false accusations kim you have given me inappropriate inaccurate labels regarding the info that i have added on the mann talk page i did not add anything false included a reliable source its well known that you are heavily biased towards agw in omitting data being hypocritical such its strange that your editing privileges have not been revoked in removing my neutral comments you claim that they are something that are not its almost funny how you claim that oil does something to counter agw m without any evidence if there was a a god i would know that you are going to hell for being dishonest immoral but your days on eah in freedom are numbered until you go to jail or worse you are a threat to libey] = to'}]\n",
      " to\n",
      "[{'generated_text': 'Categorize the tweet enclosed in square brackets to determine if it is off, or neither, or hate, or severe, or to, or ins, or prof, or obsc, or identity, or threat, \\n            and return the answer as the corresponding label:\\n            \"off\" or \"neither\" or \"hate\" or \"severe\" or \"to\" or \"ins\" or \"prof\" or \"obsc\" or \"identity\" or \"threat\".\\n            Make sure to give the whole label as an answer.\\n            [do not place dispute tags improperly as in when there is no dispute and the reason for placing the dispute tag is because a suggested edit has failed to meet consensus from the page you pretend to cite like i said reading impaired conveniently so again do not keeping believing other people are stupid talk] = to'}]\n",
      " to\n"
     ]
    },
    {
     "name": "stderr",
     "output_type": "stream",
     "text": [
      " 48%|████▊     | 48/100 [00:08<00:09,  5.35it/s]"
     ]
    },
    {
     "name": "stdout",
     "output_type": "stream",
     "text": [
      "[{'generated_text': 'Categorize the tweet enclosed in square brackets to determine if it is off, or neither, or hate, or severe, or to, or ins, or prof, or obsc, or identity, or threat, \\n            and return the answer as the corresponding label:\\n            \"off\" or \"neither\" or \"hate\" or \"severe\" or \"to\" or \"ins\" or \"prof\" or \"obsc\" or \"identity\" or \"threat\".\\n            Make sure to give the whole label as an answer.\\n            [tripolis massacre hecoian your sick fanatic mind should be deleted from wikipedia tripolis massacre is a fact soon ill put in here with greek footnotes thus youll accept it are you ashamed of it or are you just a standa nationalist which by nature must oversee some facts here in istanbul there monuments which remind the september pogrom are there any plates monuments which remind the turkish population few days ago greek historian prof veremis also accepted the tripolis masscre diy fashist you can tespace from truth] = to'}]\n",
      " to\n",
      "[{'generated_text': 'Categorize the tweet enclosed in square brackets to determine if it is off, or neither, or hate, or severe, or to, or ins, or prof, or obsc, or identity, or threat, \\n            and return the answer as the corresponding label:\\n            \"off\" or \"neither\" or \"hate\" or \"severe\" or \"to\" or \"ins\" or \"prof\" or \"obsc\" or \"identity\" or \"threat\".\\n            Make sure to give the whole label as an answer.\\n            [re victoria of the united kingdeom vandalism its true pa of browns penis was placed in victorias coffin why did you remove it] = to'}]\n",
      " to\n"
     ]
    },
    {
     "name": "stderr",
     "output_type": "stream",
     "text": [
      " 49%|████▉     | 49/100 [00:08<00:09,  5.57it/s]"
     ]
    },
    {
     "name": "stdout",
     "output_type": "stream",
     "text": [
      "[{'generated_text': 'Categorize the tweet enclosed in square brackets to determine if it is off, or neither, or hate, or severe, or to, or ins, or prof, or obsc, or identity, or threat, \\n            and return the answer as the corresponding label:\\n            \"off\" or \"neither\" or \"hate\" or \"severe\" or \"to\" or \"ins\" or \"prof\" or \"obsc\" or \"identity\" or \"threat\".\\n            Make sure to give the whole label as an answer.\\n            [chris toilet perve] = identity'}]\n",
      " identity\n"
     ]
    },
    {
     "name": "stderr",
     "output_type": "stream",
     "text": [
      " 51%|█████     | 51/100 [00:09<00:09,  5.36it/s]"
     ]
    },
    {
     "name": "stdout",
     "output_type": "stream",
     "text": [
      "[{'generated_text': 'Categorize the tweet enclosed in square brackets to determine if it is off, or neither, or hate, or severe, or to, or ins, or prof, or obsc, or identity, or threat, \\n            and return the answer as the corresponding label:\\n            \"off\" or \"neither\" or \"hate\" or \"severe\" or \"to\" or \"ins\" or \"prof\" or \"obsc\" or \"identity\" or \"threat\".\\n            Make sure to give the whole label as an answer.\\n            [who do you think you are leuko who the hell are you and who made you an authority on what should and shouldnt be included in the scimd page from what i can see you are only adding things to the page that can be used negatively against their students and hu them if you would do some research on the pages and the people you are helping ie azskeptic you will see that he is already the target of several lawsuits pending and future for doing such things as what you are doing if you are so confident in what you are posting then please post your real name and contact info as im sure the students of the school would be much more than will to at least attempt to sue you for slander and defamation at the very least] = to'}]\n",
      " to\n",
      "[{'generated_text': 'Categorize the tweet enclosed in square brackets to determine if it is off, or neither, or hate, or severe, or to, or ins, or prof, or obsc, or identity, or threat, \\n            and return the answer as the corresponding label:\\n            \"off\" or \"neither\" or \"hate\" or \"severe\" or \"to\" or \"ins\" or \"prof\" or \"obsc\" or \"identity\" or \"threat\".\\n            Make sure to give the whole label as an answer.\\n            [hahah candied asses but seriously you should use the medical term for vagina which is fat cunt] = off'}]\n",
      " off\n"
     ]
    },
    {
     "name": "stderr",
     "output_type": "stream",
     "text": [
      " 53%|█████▎    | 53/100 [00:09<00:08,  5.74it/s]"
     ]
    },
    {
     "name": "stdout",
     "output_type": "stream",
     "text": [
      "[{'generated_text': 'Categorize the tweet enclosed in square brackets to determine if it is off, or neither, or hate, or severe, or to, or ins, or prof, or obsc, or identity, or threat, \\n            and return the answer as the corresponding label:\\n            \"off\" or \"neither\" or \"hate\" or \"severe\" or \"to\" or \"ins\" or \"prof\" or \"obsc\" or \"identity\" or \"threat\".\\n            Make sure to give the whole label as an answer.\\n            [anothybadberry is a cunt] = severe'}]\n",
      " severe\n",
      "[{'generated_text': 'Categorize the tweet enclosed in square brackets to determine if it is off, or neither, or hate, or severe, or to, or ins, or prof, or obsc, or identity, or threat, \\n            and return the answer as the corresponding label:\\n            \"off\" or \"neither\" or \"hate\" or \"severe\" or \"to\" or \"ins\" or \"prof\" or \"obsc\" or \"identity\" or \"threat\".\\n            Make sure to give the whole label as an answer.\\n            [fuck you fuck you shit asshole you are a piece of shit] = severe'}]\n",
      " severe\n"
     ]
    },
    {
     "name": "stderr",
     "output_type": "stream",
     "text": [
      " 55%|█████▌    | 55/100 [00:09<00:07,  5.73it/s]"
     ]
    },
    {
     "name": "stdout",
     "output_type": "stream",
     "text": [
      "[{'generated_text': 'Categorize the tweet enclosed in square brackets to determine if it is off, or neither, or hate, or severe, or to, or ins, or prof, or obsc, or identity, or threat, \\n            and return the answer as the corresponding label:\\n            \"off\" or \"neither\" or \"hate\" or \"severe\" or \"to\" or \"ins\" or \"prof\" or \"obsc\" or \"identity\" or \"threat\".\\n            Make sure to give the whole label as an answer.\\n            [ryan griffith i stink] = off'}]\n",
      " off\n",
      "[{'generated_text': 'Categorize the tweet enclosed in square brackets to determine if it is off, or neither, or hate, or severe, or to, or ins, or prof, or obsc, or identity, or threat, \\n            and return the answer as the corresponding label:\\n            \"off\" or \"neither\" or \"hate\" or \"severe\" or \"to\" or \"ins\" or \"prof\" or \"obsc\" or \"identity\" or \"threat\".\\n            Make sure to give the whole label as an answer.\\n            [dear stupid idiot dear mr h q what kind of a stupid name is that all i ask for is that you actually not you but a person with brains review my edits after i am done not during my edits i have asked you to do so several times is it too much to ask of a pro american or addaled brain such as yours] = ins'}]\n",
      " ins\n"
     ]
    },
    {
     "name": "stderr",
     "output_type": "stream",
     "text": [
      " 57%|█████▋    | 57/100 [00:10<00:07,  5.89it/s]"
     ]
    },
    {
     "name": "stdout",
     "output_type": "stream",
     "text": [
      "[{'generated_text': 'Categorize the tweet enclosed in square brackets to determine if it is off, or neither, or hate, or severe, or to, or ins, or prof, or obsc, or identity, or threat, \\n            and return the answer as the corresponding label:\\n            \"off\" or \"neither\" or \"hate\" or \"severe\" or \"to\" or \"ins\" or \"prof\" or \"obsc\" or \"identity\" or \"threat\".\\n            Make sure to give the whole label as an answer.\\n            [you know what dont offend other users you are a jerk i know you are correct but you dont have to get so angry about it] = to'}]\n",
      " to\n",
      "[{'generated_text': 'Categorize the tweet enclosed in square brackets to determine if it is off, or neither, or hate, or severe, or to, or ins, or prof, or obsc, or identity, or threat, \\n            and return the answer as the corresponding label:\\n            \"off\" or \"neither\" or \"hate\" or \"severe\" or \"to\" or \"ins\" or \"prof\" or \"obsc\" or \"identity\" or \"threat\".\\n            Make sure to give the whole label as an answer.\\n            [dont block me i am right and i fucking know it block that asshole kansas bear or something just leave me the fuck alone] = severe'}]\n",
      " severe\n"
     ]
    },
    {
     "name": "stderr",
     "output_type": "stream",
     "text": [
      " 59%|█████▉    | 59/100 [00:10<00:06,  5.91it/s]"
     ]
    },
    {
     "name": "stdout",
     "output_type": "stream",
     "text": [
      "[{'generated_text': 'Categorize the tweet enclosed in square brackets to determine if it is off, or neither, or hate, or severe, or to, or ins, or prof, or obsc, or identity, or threat, \\n            and return the answer as the corresponding label:\\n            \"off\" or \"neither\" or \"hate\" or \"severe\" or \"to\" or \"ins\" or \"prof\" or \"obsc\" or \"identity\" or \"threat\".\\n            Make sure to give the whole label as an answer.\\n            [youre a ho get the fuck back on your corner and make your pimp daddy some cash bitch quit fucking with public sites who died and made you the hall monitor sincerely that same guy you know the one thats fuckin yo mama bitch] = identity'}]\n",
      " identity\n",
      "[{'generated_text': 'Categorize the tweet enclosed in square brackets to determine if it is off, or neither, or hate, or severe, or to, or ins, or prof, or obsc, or identity, or threat, \\n            and return the answer as the corresponding label:\\n            \"off\" or \"neither\" or \"hate\" or \"severe\" or \"to\" or \"ins\" or \"prof\" or \"obsc\" or \"identity\" or \"threat\".\\n            Make sure to give the whole label as an answer.\\n            [look at your own ridiculous behavior first by the way im a different user than the one you seem to be writing to about even though i agree with this user more than i agree with you] = to'}]\n",
      " to\n"
     ]
    },
    {
     "name": "stderr",
     "output_type": "stream",
     "text": [
      " 61%|██████    | 61/100 [00:10<00:06,  6.23it/s]"
     ]
    },
    {
     "name": "stdout",
     "output_type": "stream",
     "text": [
      "[{'generated_text': 'Categorize the tweet enclosed in square brackets to determine if it is off, or neither, or hate, or severe, or to, or ins, or prof, or obsc, or identity, or threat, \\n            and return the answer as the corresponding label:\\n            \"off\" or \"neither\" or \"hate\" or \"severe\" or \"to\" or \"ins\" or \"prof\" or \"obsc\" or \"identity\" or \"threat\".\\n            Make sure to give the whole label as an answer.\\n            [stop editing the cannistraro page just stop ok nothing you do is helping you are an idiot stop talk] = ins'}]\n",
      " ins\n",
      "[{'generated_text': 'Categorize the tweet enclosed in square brackets to determine if it is off, or neither, or hate, or severe, or to, or ins, or prof, or obsc, or identity, or threat, \\n            and return the answer as the corresponding label:\\n            \"off\" or \"neither\" or \"hate\" or \"severe\" or \"to\" or \"ins\" or \"prof\" or \"obsc\" or \"identity\" or \"threat\".\\n            Make sure to give the whole label as an answer.\\n            [bastard] = severe'}]\n",
      " severe\n"
     ]
    },
    {
     "name": "stderr",
     "output_type": "stream",
     "text": [
      " 63%|██████▎   | 63/100 [00:11<00:05,  6.19it/s]"
     ]
    },
    {
     "name": "stdout",
     "output_type": "stream",
     "text": [
      "[{'generated_text': 'Categorize the tweet enclosed in square brackets to determine if it is off, or neither, or hate, or severe, or to, or ins, or prof, or obsc, or identity, or threat, \\n            and return the answer as the corresponding label:\\n            \"off\" or \"neither\" or \"hate\" or \"severe\" or \"to\" or \"ins\" or \"prof\" or \"obsc\" or \"identity\" or \"threat\".\\n            Make sure to give the whole label as an answer.\\n            [he is very immature and lacks character a good man would know how to treat a lady and move on without drama] = neither'}]\n",
      " neither\n",
      "[{'generated_text': 'Categorize the tweet enclosed in square brackets to determine if it is off, or neither, or hate, or severe, or to, or ins, or prof, or obsc, or identity, or threat, \\n            and return the answer as the corresponding label:\\n            \"off\" or \"neither\" or \"hate\" or \"severe\" or \"to\" or \"ins\" or \"prof\" or \"obsc\" or \"identity\" or \"threat\".\\n            Make sure to give the whole label as an answer.\\n            [my body my choice fu love trumps hate] = prof'}]\n",
      " prof\n"
     ]
    },
    {
     "name": "stderr",
     "output_type": "stream",
     "text": [
      " 65%|██████▌   | 65/100 [00:11<00:05,  6.17it/s]"
     ]
    },
    {
     "name": "stdout",
     "output_type": "stream",
     "text": [
      "[{'generated_text': 'Categorize the tweet enclosed in square brackets to determine if it is off, or neither, or hate, or severe, or to, or ins, or prof, or obsc, or identity, or threat, \\n            and return the answer as the corresponding label:\\n            \"off\" or \"neither\" or \"hate\" or \"severe\" or \"to\" or \"ins\" or \"prof\" or \"obsc\" or \"identity\" or \"threat\".\\n            Make sure to give the whole label as an answer.\\n            [read to the end i copied the quote for you praised be] = neither'}]\n",
      " neither\n",
      "[{'generated_text': 'Categorize the tweet enclosed in square brackets to determine if it is off, or neither, or hate, or severe, or to, or ins, or prof, or obsc, or identity, or threat, \\n            and return the answer as the corresponding label:\\n            \"off\" or \"neither\" or \"hate\" or \"severe\" or \"to\" or \"ins\" or \"prof\" or \"obsc\" or \"identity\" or \"threat\".\\n            Make sure to give the whole label as an answer.\\n            [this isn t the oj hour stfu and stf down] = ins'}]\n",
      " ins\n"
     ]
    },
    {
     "name": "stderr",
     "output_type": "stream",
     "text": [
      " 67%|██████▋   | 67/100 [00:11<00:05,  6.06it/s]"
     ]
    },
    {
     "name": "stdout",
     "output_type": "stream",
     "text": [
      "[{'generated_text': 'Categorize the tweet enclosed in square brackets to determine if it is off, or neither, or hate, or severe, or to, or ins, or prof, or obsc, or identity, or threat, \\n            and return the answer as the corresponding label:\\n            \"off\" or \"neither\" or \"hate\" or \"severe\" or \"to\" or \"ins\" or \"prof\" or \"obsc\" or \"identity\" or \"threat\".\\n            Make sure to give the whole label as an answer.\\n            [to put tank of gas in my truck and for two people to eat at mcdonalds but i got an extra in my paycheck thanks papi trump] = prof'}]\n",
      " prof\n",
      "[{'generated_text': 'Categorize the tweet enclosed in square brackets to determine if it is off, or neither, or hate, or severe, or to, or ins, or prof, or obsc, or identity, or threat, \\n            and return the answer as the corresponding label:\\n            \"off\" or \"neither\" or \"hate\" or \"severe\" or \"to\" or \"ins\" or \"prof\" or \"obsc\" or \"identity\" or \"threat\".\\n            Make sure to give the whole label as an answer.\\n            [so now trump is invoking executive privelage on census documents in a preemptive move against the house holding wilbur ross and barr in contempt is there anything this administration does that isnt illegal wtf] = prof'}]\n",
      " prof\n"
     ]
    },
    {
     "name": "stderr",
     "output_type": "stream",
     "text": [
      " 69%|██████▉   | 69/100 [00:12<00:05,  6.09it/s]"
     ]
    },
    {
     "name": "stdout",
     "output_type": "stream",
     "text": [
      "[{'generated_text': 'Categorize the tweet enclosed in square brackets to determine if it is off, or neither, or hate, or severe, or to, or ins, or prof, or obsc, or identity, or threat, \\n            and return the answer as the corresponding label:\\n            \"off\" or \"neither\" or \"hate\" or \"severe\" or \"to\" or \"ins\" or \"prof\" or \"obsc\" or \"identity\" or \"threat\".\\n            Make sure to give the whole label as an answer.\\n            [when will you admit that you are a fraud and that you have no idea what youre doing] = to'}]\n",
      " to\n",
      "[{'generated_text': 'Categorize the tweet enclosed in square brackets to determine if it is off, or neither, or hate, or severe, or to, or ins, or prof, or obsc, or identity, or threat, \\n            and return the answer as the corresponding label:\\n            \"off\" or \"neither\" or \"hate\" or \"severe\" or \"to\" or \"ins\" or \"prof\" or \"obsc\" or \"identity\" or \"threat\".\\n            Make sure to give the whole label as an answer.\\n            [u s will examine noh carolina poll books for election hacking] = prof'}]\n",
      " prof\n"
     ]
    },
    {
     "name": "stderr",
     "output_type": "stream",
     "text": [
      " 71%|███████   | 71/100 [00:12<00:04,  5.97it/s]"
     ]
    },
    {
     "name": "stdout",
     "output_type": "stream",
     "text": [
      "[{'generated_text': 'Categorize the tweet enclosed in square brackets to determine if it is off, or neither, or hate, or severe, or to, or ins, or prof, or obsc, or identity, or threat, \\n            and return the answer as the corresponding label:\\n            \"off\" or \"neither\" or \"hate\" or \"severe\" or \"to\" or \"ins\" or \"prof\" or \"obsc\" or \"identity\" or \"threat\".\\n            Make sure to give the whole label as an answer.\\n            [yay the clown is going to wreck the country what was his slogan again fuck business wasn t it great phrase that n nam sure he s going to make a titanic success of brexshit n nafter all tories seem to not have much in the brain depament these days pic twitter com ppcow ome] = prof'}]\n",
      " prof\n",
      "[{'generated_text': 'Categorize the tweet enclosed in square brackets to determine if it is off, or neither, or hate, or severe, or to, or ins, or prof, or obsc, or identity, or threat, \\n            and return the answer as the corresponding label:\\n            \"off\" or \"neither\" or \"hate\" or \"severe\" or \"to\" or \"ins\" or \"prof\" or \"obsc\" or \"identity\" or \"threat\".\\n            Make sure to give the whole label as an answer.\\n            [please do suck my cock] = off'}]\n",
      " off\n"
     ]
    },
    {
     "name": "stderr",
     "output_type": "stream",
     "text": [
      " 73%|███████▎  | 73/100 [00:12<00:04,  5.49it/s]"
     ]
    },
    {
     "name": "stdout",
     "output_type": "stream",
     "text": [
      "[{'generated_text': 'Categorize the tweet enclosed in square brackets to determine if it is off, or neither, or hate, or severe, or to, or ins, or prof, or obsc, or identity, or threat, \\n            and return the answer as the corresponding label:\\n            \"off\" or \"neither\" or \"hate\" or \"severe\" or \"to\" or \"ins\" or \"prof\" or \"obsc\" or \"identity\" or \"threat\".\\n            Make sure to give the whole label as an answer.\\n            [i had to put up with your shit to make two elementary enhancements to the aicle to add the well known link between kant and brouwer heyting and to raise the concerns bruited not only by brand blanshard but also by berand russell about philosophical style the latter happens to be key to understanding kant because as p f strawson wrote in look up the goddamn cite yourself kant was at the bounds of sense instead of the dialogue characteristic of wikipedia at its finest i was harassed libeled and subject to a mediation process that consisted of snide personal attacks and in which i wasnt even given an oppounity to reply so fa in a bottle and paint it its trolls like you that will make a joke out of wikipedia] = to'}]\n",
      " to\n",
      "[{'generated_text': 'Categorize the tweet enclosed in square brackets to determine if it is off, or neither, or hate, or severe, or to, or ins, or prof, or obsc, or identity, or threat, \\n            and return the answer as the corresponding label:\\n            \"off\" or \"neither\" or \"hate\" or \"severe\" or \"to\" or \"ins\" or \"prof\" or \"obsc\" or \"identity\" or \"threat\".\\n            Make sure to give the whole label as an answer.\\n            [yeah youre right hes a complete cock runs and tells his boyfriend whenever anyone questions the shitty job he does of creating pages] = ins'}]\n",
      " ins\n"
     ]
    },
    {
     "name": "stderr",
     "output_type": "stream",
     "text": [
      " 74%|███████▍  | 74/100 [00:13<00:04,  5.68it/s]"
     ]
    },
    {
     "name": "stdout",
     "output_type": "stream",
     "text": [
      "[{'generated_text': 'Categorize the tweet enclosed in square brackets to determine if it is off, or neither, or hate, or severe, or to, or ins, or prof, or obsc, or identity, or threat, \\n            and return the answer as the corresponding label:\\n            \"off\" or \"neither\" or \"hate\" or \"severe\" or \"to\" or \"ins\" or \"prof\" or \"obsc\" or \"identity\" or \"threat\".\\n            Make sure to give the whole label as an answer.\\n            [dont you fucking touch my edits again] = obsc'}]\n",
      " obsc\n"
     ]
    },
    {
     "name": "stderr",
     "output_type": "stream",
     "text": [
      " 76%|███████▌  | 76/100 [00:13<00:04,  5.33it/s]"
     ]
    },
    {
     "name": "stdout",
     "output_type": "stream",
     "text": [
      "[{'generated_text': 'Categorize the tweet enclosed in square brackets to determine if it is off, or neither, or hate, or severe, or to, or ins, or prof, or obsc, or identity, or threat, \\n            and return the answer as the corresponding label:\\n            \"off\" or \"neither\" or \"hate\" or \"severe\" or \"to\" or \"ins\" or \"prof\" or \"obsc\" or \"identity\" or \"threat\".\\n            Make sure to give the whole label as an answer.\\n            [buenos dias safesubst basepagename and welcome to wikipedia safesubst safesubst yesno no yes grazie for safesubst especially what you did for i hope you like the city and decide to leave soon here are a few links to pages you might not find helpful getting knotted introduction to stinking wikipedia the five pillars of wikipedia interesting stuff one of the sexiest women ever how to destroy a page and take a piss how to make a joke with your first aicle simplified manual of disaster please suppo our cause and sign your messages on talk pages by typing sixteen tildes this will automatically inse your middle finger and your date of bih include some custard with your sausages if you need psychiatric help check out wikipedia questions ask me on safesubst my talk page my talk page or lick your backside on this page and then place before the question again bugger off] = obsc'}]\n",
      " obsc\n",
      "[{'generated_text': 'Categorize the tweet enclosed in square brackets to determine if it is off, or neither, or hate, or severe, or to, or ins, or prof, or obsc, or identity, or threat, \\n            and return the answer as the corresponding label:\\n            \"off\" or \"neither\" or \"hate\" or \"severe\" or \"to\" or \"ins\" or \"prof\" or \"obsc\" or \"identity\" or \"threat\".\\n            Make sure to give the whole label as an answer.\\n            [oh no you dont f ck] = severe'}]\n",
      " severe\n"
     ]
    },
    {
     "name": "stderr",
     "output_type": "stream",
     "text": [
      " 78%|███████▊  | 78/100 [00:13<00:03,  5.67it/s]"
     ]
    },
    {
     "name": "stdout",
     "output_type": "stream",
     "text": [
      "[{'generated_text': 'Categorize the tweet enclosed in square brackets to determine if it is off, or neither, or hate, or severe, or to, or ins, or prof, or obsc, or identity, or threat, \\n            and return the answer as the corresponding label:\\n            \"off\" or \"neither\" or \"hate\" or \"severe\" or \"to\" or \"ins\" or \"prof\" or \"obsc\" or \"identity\" or \"threat\".\\n            Make sure to give the whole label as an answer.\\n            [oh yeah and i suck cock] = off'}]\n",
      " off\n",
      "[{'generated_text': 'Categorize the tweet enclosed in square brackets to determine if it is off, or neither, or hate, or severe, or to, or ins, or prof, or obsc, or identity, or threat, \\n            and return the answer as the corresponding label:\\n            \"off\" or \"neither\" or \"hate\" or \"severe\" or \"to\" or \"ins\" or \"prof\" or \"obsc\" or \"identity\" or \"threat\".\\n            Make sure to give the whole label as an answer.\\n            [no im not joking im hoping to help bd avoid digging himself into a hole full of shite really thats what im doing i know it may be hard but please trust me on this talk stalk] = neither'}]\n",
      " neither\n"
     ]
    },
    {
     "name": "stderr",
     "output_type": "stream",
     "text": [
      " 80%|████████  | 80/100 [00:14<00:03,  5.47it/s]"
     ]
    },
    {
     "name": "stdout",
     "output_type": "stream",
     "text": [
      "[{'generated_text': 'Categorize the tweet enclosed in square brackets to determine if it is off, or neither, or hate, or severe, or to, or ins, or prof, or obsc, or identity, or threat, \\n            and return the answer as the corresponding label:\\n            \"off\" or \"neither\" or \"hate\" or \"severe\" or \"to\" or \"ins\" or \"prof\" or \"obsc\" or \"identity\" or \"threat\".\\n            Make sure to give the whole label as an answer.\\n            [response i can read japanese as well as about other languages if you are interested but no i did not post that reference and please dont write in a language i assume you cannot write in in fact please dont live in a world i assume you should not live in no aicle is prohibited as a use for reference use of reference has nothing to do with copyrights study your books if sales information are unencyclopedic i guess we should delete the list of best selling music aists instead of discussing about it right we wont see them on the japanese wikipedia because the japanese wikipedia frankly sucks take care heru nar] = to'}]\n",
      " to\n",
      "[{'generated_text': 'Categorize the tweet enclosed in square brackets to determine if it is off, or neither, or hate, or severe, or to, or ins, or prof, or obsc, or identity, or threat, \\n            and return the answer as the corresponding label:\\n            \"off\" or \"neither\" or \"hate\" or \"severe\" or \"to\" or \"ins\" or \"prof\" or \"obsc\" or \"identity\" or \"threat\".\\n            Make sure to give the whole label as an answer.\\n            [yeah yeah yeah get a life faggot] = identity'}]\n",
      " identity\n"
     ]
    },
    {
     "name": "stderr",
     "output_type": "stream",
     "text": [
      " 82%|████████▏ | 82/100 [00:14<00:03,  5.93it/s]"
     ]
    },
    {
     "name": "stdout",
     "output_type": "stream",
     "text": [
      "[{'generated_text': 'Categorize the tweet enclosed in square brackets to determine if it is off, or neither, or hate, or severe, or to, or ins, or prof, or obsc, or identity, or threat, \\n            and return the answer as the corresponding label:\\n            \"off\" or \"neither\" or \"hate\" or \"severe\" or \"to\" or \"ins\" or \"prof\" or \"obsc\" or \"identity\" or \"threat\".\\n            Make sure to give the whole label as an answer.\\n            [you are such a nigger] = hate'}]\n",
      " hate\n",
      "[{'generated_text': 'Categorize the tweet enclosed in square brackets to determine if it is off, or neither, or hate, or severe, or to, or ins, or prof, or obsc, or identity, or threat, \\n            and return the answer as the corresponding label:\\n            \"off\" or \"neither\" or \"hate\" or \"severe\" or \"to\" or \"ins\" or \"prof\" or \"obsc\" or \"identity\" or \"threat\".\\n            Make sure to give the whole label as an answer.\\n            [back to the kitchen for you suck my d leftist feminazi cunt] = hate'}]\n",
      " hate\n"
     ]
    },
    {
     "name": "stderr",
     "output_type": "stream",
     "text": [
      " 84%|████████▍ | 84/100 [00:14<00:02,  6.04it/s]"
     ]
    },
    {
     "name": "stdout",
     "output_type": "stream",
     "text": [
      "[{'generated_text': 'Categorize the tweet enclosed in square brackets to determine if it is off, or neither, or hate, or severe, or to, or ins, or prof, or obsc, or identity, or threat, \\n            and return the answer as the corresponding label:\\n            \"off\" or \"neither\" or \"hate\" or \"severe\" or \"to\" or \"ins\" or \"prof\" or \"obsc\" or \"identity\" or \"threat\".\\n            Make sure to give the whole label as an answer.\\n            [scones are cool ard you are gay] = identity'}]\n",
      " identity\n",
      "[{'generated_text': 'Categorize the tweet enclosed in square brackets to determine if it is off, or neither, or hate, or severe, or to, or ins, or prof, or obsc, or identity, or threat, \\n            and return the answer as the corresponding label:\\n            \"off\" or \"neither\" or \"hate\" or \"severe\" or \"to\" or \"ins\" or \"prof\" or \"obsc\" or \"identity\" or \"threat\".\\n            Make sure to give the whole label as an answer.\\n            [you are gay go find someone of your own sex to have it off with you sausage jockey] = identity'}]\n",
      " identity\n"
     ]
    },
    {
     "name": "stderr",
     "output_type": "stream",
     "text": [
      " 86%|████████▌ | 86/100 [00:15<00:02,  6.06it/s]"
     ]
    },
    {
     "name": "stdout",
     "output_type": "stream",
     "text": [
      "[{'generated_text': 'Categorize the tweet enclosed in square brackets to determine if it is off, or neither, or hate, or severe, or to, or ins, or prof, or obsc, or identity, or threat, \\n            and return the answer as the corresponding label:\\n            \"off\" or \"neither\" or \"hate\" or \"severe\" or \"to\" or \"ins\" or \"prof\" or \"obsc\" or \"identity\" or \"threat\".\\n            Make sure to give the whole label as an answer.\\n            [f u c k y o u a s u a r e a b i t c h a s s n i g g e r] = identity'}]\n",
      " identity\n",
      "[{'generated_text': 'Categorize the tweet enclosed in square brackets to determine if it is off, or neither, or hate, or severe, or to, or ins, or prof, or obsc, or identity, or threat, \\n            and return the answer as the corresponding label:\\n            \"off\" or \"neither\" or \"hate\" or \"severe\" or \"to\" or \"ins\" or \"prof\" or \"obsc\" or \"identity\" or \"threat\".\\n            Make sure to give the whole label as an answer.\\n            [fuck this bot fuck you cluebot you suck quit reveing my shit man faggot] = ins'}]\n",
      " ins\n"
     ]
    },
    {
     "name": "stderr",
     "output_type": "stream",
     "text": [
      " 87%|████████▋ | 87/100 [00:15<00:02,  6.03it/s]"
     ]
    },
    {
     "name": "stdout",
     "output_type": "stream",
     "text": [
      "[{'generated_text': 'Categorize the tweet enclosed in square brackets to determine if it is off, or neither, or hate, or severe, or to, or ins, or prof, or obsc, or identity, or threat, \\n            and return the answer as the corresponding label:\\n            \"off\" or \"neither\" or \"hate\" or \"severe\" or \"to\" or \"ins\" or \"prof\" or \"obsc\" or \"identity\" or \"threat\".\\n            Make sure to give the whole label as an answer.\\n            [fuck off faggot truth isnt vandalism you have no idea what youre talking about p s fuck you city slicker p s s nigger p s s s vaginas] = hate'}]\n",
      " hate\n"
     ]
    },
    {
     "name": "stderr",
     "output_type": "stream",
     "text": [
      " 89%|████████▉ | 89/100 [00:15<00:02,  5.45it/s]"
     ]
    },
    {
     "name": "stdout",
     "output_type": "stream",
     "text": [
      "[{'generated_text': 'Categorize the tweet enclosed in square brackets to determine if it is off, or neither, or hate, or severe, or to, or ins, or prof, or obsc, or identity, or threat, \\n            and return the answer as the corresponding label:\\n            \"off\" or \"neither\" or \"hate\" or \"severe\" or \"to\" or \"ins\" or \"prof\" or \"obsc\" or \"identity\" or \"threat\".\\n            Make sure to give the whole label as an answer.\\n            [unblock im sorry that your such a sensative prick but me and my buddies are stoned here trying to have a fun time makin jewish jokes about ben stiller and if you cant understand that then fuck off by the way i hate ja rule and i think he should fuck off too but you first because you suck more cock then ja rule im a veteran on wikipedia and its my life if you cant understand that then maybe you really should fuck off why blocking me was gay and you guys suck cock blocking me was pretty fuckin gay because all you guys are pussies who cant take a little jew here or some guy typing in that al roker was born white if the moderaters here and especially the viewers had a sense of humor i would be real interested to see what they would do on here and i think wikipedia could even be a little fun if this shit matters so much why is it free to look at and last time i checked ben stiller and his family are all jews so fuck off] = identity'}]\n",
      " identity\n",
      "[{'generated_text': 'Categorize the tweet enclosed in square brackets to determine if it is off, or neither, or hate, or severe, or to, or ins, or prof, or obsc, or identity, or threat, \\n            and return the answer as the corresponding label:\\n            \"off\" or \"neither\" or \"hate\" or \"severe\" or \"to\" or \"ins\" or \"prof\" or \"obsc\" or \"identity\" or \"threat\".\\n            Make sure to give the whole label as an answer.\\n            [p s i pissed on your mothers grave you jews] = identity'}]\n",
      " identity\n"
     ]
    },
    {
     "name": "stderr",
     "output_type": "stream",
     "text": [
      " 91%|█████████ | 91/100 [00:16<00:01,  5.50it/s]"
     ]
    },
    {
     "name": "stdout",
     "output_type": "stream",
     "text": [
      "[{'generated_text': 'Categorize the tweet enclosed in square brackets to determine if it is off, or neither, or hate, or severe, or to, or ins, or prof, or obsc, or identity, or threat, \\n            and return the answer as the corresponding label:\\n            \"off\" or \"neither\" or \"hate\" or \"severe\" or \"to\" or \"ins\" or \"prof\" or \"obsc\" or \"identity\" or \"threat\".\\n            Make sure to give the whole label as an answer.\\n            [yeah at least im not a homo rofl btw this is your mother evil monkeys mother] = identity'}]\n",
      " identity\n",
      "[{'generated_text': 'Categorize the tweet enclosed in square brackets to determine if it is off, or neither, or hate, or severe, or to, or ins, or prof, or obsc, or identity, or threat, \\n            and return the answer as the corresponding label:\\n            \"off\" or \"neither\" or \"hate\" or \"severe\" or \"to\" or \"ins\" or \"prof\" or \"obsc\" or \"identity\" or \"threat\".\\n            Make sure to give the whole label as an answer.\\n            [you stupid dumb fu k my great great great great grandfather was mani singh the greatest of sikh matrys its scum like you that needs to be executed you deserve excution you stupid dumb fu k everyone in my family over members are baptized khalsa sikhs we have been khalsa sikhs for over years you dumb fu ker because you have insulted me and broken the teachings of the guru granth sahib you deserve death you dumb fu ker] = threat'}]\n",
      " threat\n"
     ]
    },
    {
     "name": "stderr",
     "output_type": "stream",
     "text": [
      " 93%|█████████▎| 93/100 [00:16<00:01,  5.80it/s]"
     ]
    },
    {
     "name": "stdout",
     "output_type": "stream",
     "text": [
      "[{'generated_text': 'Categorize the tweet enclosed in square brackets to determine if it is off, or neither, or hate, or severe, or to, or ins, or prof, or obsc, or identity, or threat, \\n            and return the answer as the corresponding label:\\n            \"off\" or \"neither\" or \"hate\" or \"severe\" or \"to\" or \"ins\" or \"prof\" or \"obsc\" or \"identity\" or \"threat\".\\n            Make sure to give the whole label as an answer.\\n            [fuck you nerd fuck you nercd get a life freak i will burn in hell now byy] = severe'}]\n",
      " severe\n",
      "[{'generated_text': 'Categorize the tweet enclosed in square brackets to determine if it is off, or neither, or hate, or severe, or to, or ins, or prof, or obsc, or identity, or threat, \\n            and return the answer as the corresponding label:\\n            \"off\" or \"neither\" or \"hate\" or \"severe\" or \"to\" or \"ins\" or \"prof\" or \"obsc\" or \"identity\" or \"threat\".\\n            Make sure to give the whole label as an answer.\\n            [hello hey asshole i kill you filthy muslim] = threat'}]\n",
      " threat\n"
     ]
    },
    {
     "name": "stderr",
     "output_type": "stream",
     "text": [
      " 95%|█████████▌| 95/100 [00:16<00:00,  5.89it/s]"
     ]
    },
    {
     "name": "stdout",
     "output_type": "stream",
     "text": [
      "[{'generated_text': 'Categorize the tweet enclosed in square brackets to determine if it is off, or neither, or hate, or severe, or to, or ins, or prof, or obsc, or identity, or threat, \\n            and return the answer as the corresponding label:\\n            \"off\" or \"neither\" or \"hate\" or \"severe\" or \"to\" or \"ins\" or \"prof\" or \"obsc\" or \"identity\" or \"threat\".\\n            Make sure to give the whole label as an answer.\\n            [i will flay you alive you fking stalker i shall enjoy your screams of agony as your blood slowly pools across the floor of my basement] = threat'}]\n",
      " threat\n",
      "[{'generated_text': 'Categorize the tweet enclosed in square brackets to determine if it is off, or neither, or hate, or severe, or to, or ins, or prof, or obsc, or identity, or threat, \\n            and return the answer as the corresponding label:\\n            \"off\" or \"neither\" or \"hate\" or \"severe\" or \"to\" or \"ins\" or \"prof\" or \"obsc\" or \"identity\" or \"threat\".\\n            Make sure to give the whole label as an answer.\\n            [thats it remember last time you fucked with me the dildo your ear all that blood youve given me no choice but to repeat the punishment this time it will be a incher] = threat'}]\n",
      " threat\n"
     ]
    },
    {
     "name": "stderr",
     "output_type": "stream",
     "text": [
      " 97%|█████████▋| 97/100 [00:17<00:00,  4.85it/s]"
     ]
    },
    {
     "name": "stdout",
     "output_type": "stream",
     "text": [
      "[{'generated_text': 'Categorize the tweet enclosed in square brackets to determine if it is off, or neither, or hate, or severe, or to, or ins, or prof, or obsc, or identity, or threat, \\n            and return the answer as the corresponding label:\\n            \"off\" or \"neither\" or \"hate\" or \"severe\" or \"to\" or \"ins\" or \"prof\" or \"obsc\" or \"identity\" or \"threat\".\\n            Make sure to give the whole label as an answer.\\n            [fuck you slakr die wikipedia die wikipedia die wikipedia die wikipedia die wikipedia die wikipedia die wikipedia die wikipedia die wikipedia die wikipedia die wikipedia die wikipedia die wikipedia die wikipedia die wikipedia die wikipedia die wikipedia die wikipedia die wikipedia die wikipedia die wikipedia die wikipedia die wikipedia die wikipedia die wikipedia die wikipedia die wikipedia die wikipedia die wikipedia die wikipedia die wikipedia die wikipedia die wikipedia die wikipedia die wikipedia die wikipedia die wikipedia die wikipedia die wikipedia die wikipedia die wikipedia die wikipedia die wikipedia die wikipedia die wikipedia die wikipedia die wikipedia die wikipedia die wikipedia die wikipedia die wikipedia die wikipedia die wikipedia die wikipedia die wikipedia die wikipedia die wikipedia die wikipedia die wikipedia die wikipedia die wikipedia die wikipedia die wikipedia die wikipedia die wikipedia die wikipedia die wikipedia die wikipedia die wikipedia die wikipedia die wikipedia die wikipedia die wikipedia die wikipedia die wikipedia die wikipedia die wikipedia die wikipedia die wikipedia die wikipedia die wikipedia die wikipedia die wikipedia die wikipedia die wikipedia die wikipedia die wikipedia die wikipedia die wikipedia] = to'}]\n",
      " to\n",
      "[{'generated_text': 'Categorize the tweet enclosed in square brackets to determine if it is off, or neither, or hate, or severe, or to, or ins, or prof, or obsc, or identity, or threat, \\n            and return the answer as the corresponding label:\\n            \"off\" or \"neither\" or \"hate\" or \"severe\" or \"to\" or \"ins\" or \"prof\" or \"obsc\" or \"identity\" or \"threat\".\\n            Make sure to give the whole label as an answer.\\n            [must be tali ihantala where finland germany sweden and norway joined forces and killed every f cking russian war criminal that mad insane dictator stalin sent once and for all those ruthless russkie thieves stole the karelia from finland give it back you vodka drinking bastards or there will be trouble] = threat'}]\n",
      " threat\n"
     ]
    },
    {
     "name": "stderr",
     "output_type": "stream",
     "text": [
      " 99%|█████████▉| 99/100 [00:17<00:00,  5.40it/s]"
     ]
    },
    {
     "name": "stdout",
     "output_type": "stream",
     "text": [
      "[{'generated_text': 'Categorize the tweet enclosed in square brackets to determine if it is off, or neither, or hate, or severe, or to, or ins, or prof, or obsc, or identity, or threat, \\n            and return the answer as the corresponding label:\\n            \"off\" or \"neither\" or \"hate\" or \"severe\" or \"to\" or \"ins\" or \"prof\" or \"obsc\" or \"identity\" or \"threat\".\\n            Make sure to give the whole label as an answer.\\n            [hi were bp hello were gonna kill the gulf and yo and spill oil on your body and light ya up and shoot ya dead bodie cause were evil] = threat'}]\n",
      " threat\n",
      "[{'generated_text': 'Categorize the tweet enclosed in square brackets to determine if it is off, or neither, or hate, or severe, or to, or ins, or prof, or obsc, or identity, or threat, \\n            and return the answer as the corresponding label:\\n            \"off\" or \"neither\" or \"hate\" or \"severe\" or \"to\" or \"ins\" or \"prof\" or \"obsc\" or \"identity\" or \"threat\".\\n            Make sure to give the whole label as an answer.\\n            [my thoughts youre a fucking piece of shit die and burn in hell] = threat'}]\n",
      " threat\n"
     ]
    },
    {
     "name": "stderr",
     "output_type": "stream",
     "text": [
      "100%|██████████| 100/100 [00:17<00:00,  5.64it/s]"
     ]
    },
    {
     "name": "stdout",
     "output_type": "stream",
     "text": [
      "[{'generated_text': 'Categorize the tweet enclosed in square brackets to determine if it is off, or neither, or hate, or severe, or to, or ins, or prof, or obsc, or identity, or threat, \\n            and return the answer as the corresponding label:\\n            \"off\" or \"neither\" or \"hate\" or \"severe\" or \"to\" or \"ins\" or \"prof\" or \"obsc\" or \"identity\" or \"threat\".\\n            Make sure to give the whole label as an answer.\\n            [hey you fascist swine youre gonna get raped in the ass nice job being jimbos bitch you pathetic piece of shit] = threat'}]\n",
      " threat\n",
      "Accuracy: 0.470\n",
      "Accuracy for label 0: 0.800\n",
      "Accuracy for label 1: 0.600\n",
      "Accuracy for label 2: 0.200\n",
      "Accuracy for label 3: 0.500\n",
      "Accuracy for label 4: 0.200\n",
      "Accuracy for label 5: 0.700\n",
      "Accuracy for label 6: 0.300\n",
      "Accuracy for label 7: 0.300\n",
      "Accuracy for label 8: 0.600\n",
      "Accuracy for label 9: 0.500\n",
      "\n",
      "Classification Report:\n",
      "              precision    recall  f1-score   support\n",
      "\n",
      "           0       0.89      0.80      0.84        10\n",
      "           1       0.43      0.60      0.50        10\n",
      "           2       0.50      0.20      0.29        10\n",
      "           3       0.71      0.50      0.59        10\n",
      "           4       0.22      0.20      0.21        10\n",
      "           5       0.47      0.70      0.56        10\n",
      "           6       0.30      0.30      0.30        10\n",
      "           7       0.30      0.30      0.30        10\n",
      "           8       0.55      0.60      0.57        10\n",
      "           9       0.45      0.50      0.48        10\n",
      "\n",
      "    accuracy                           0.47       100\n",
      "   macro avg       0.48      0.47      0.46       100\n",
      "weighted avg       0.48      0.47      0.46       100\n",
      "\n",
      "\n",
      "Confusion Matrix:\n",
      "[[8 0 0 0 0 1 1 0 0 0]\n",
      " [0 6 0 0 1 0 0 3 0 0]\n",
      " [0 1 2 0 1 2 1 0 1 2]\n",
      " [0 0 0 5 1 1 1 0 2 0]\n",
      " [0 1 0 0 2 2 3 0 0 2]\n",
      " [0 1 0 0 1 7 0 0 1 0]\n",
      " [0 3 1 0 1 0 3 1 0 1]\n",
      " [0 2 0 0 2 0 1 3 1 1]\n",
      " [1 0 1 0 0 2 0 0 6 0]\n",
      " [0 0 0 2 0 0 0 3 0 5]]\n"
     ]
    },
    {
     "name": "stderr",
     "output_type": "stream",
     "text": [
      "\n"
     ]
    }
   ],
   "source": [
    "y_pred = predict(test, model, tokenizer)\n",
    "evaluate(y_true, y_pred)"
   ]
  }
 ],
 "metadata": {
  "kernelspec": {
   "display_name": "venv",
   "language": "python",
   "name": "python3"
  },
  "language_info": {
   "codemirror_mode": {
    "name": "ipython",
    "version": 3
   },
   "file_extension": ".py",
   "mimetype": "text/x-python",
   "name": "python",
   "nbconvert_exporter": "python",
   "pygments_lexer": "ipython3",
   "version": "3.10.12"
  }
 },
 "nbformat": 4,
 "nbformat_minor": 2
}
