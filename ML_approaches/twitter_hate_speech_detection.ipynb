{
 "cells": [
  {
   "cell_type": "markdown",
   "id": "64bcba37",
   "metadata": {
    "_cell_guid": "b1076dfc-b9ad-4769-8c92-a6c4dae69d19",
    "_uuid": "8f2839f25d086af736a60e9eeb907d3b93b6e0e5",
    "papermill": {
     "duration": 0.027785,
     "end_time": "2023-04-11T19:17:55.811456",
     "exception": false,
     "start_time": "2023-04-11T19:17:55.783671",
     "status": "completed"
    },
    "tags": []
   },
   "source": [
    "# **Twitter Hate Speech Detection**"
   ]
  },
  {
   "cell_type": "markdown",
   "id": "413dedf8",
   "metadata": {
    "papermill": {
     "duration": 0.027708,
     "end_time": "2023-04-11T19:17:55.866130",
     "exception": false,
     "start_time": "2023-04-11T19:17:55.838422",
     "status": "completed"
    },
    "tags": []
   },
   "source": [
    "# Importing Libraries"
   ]
  },
  {
   "cell_type": "code",
   "execution_count": 3,
   "id": "d929d409",
   "metadata": {
    "execution": {
     "iopub.execute_input": "2023-04-11T19:18:09.030214Z",
     "iopub.status.busy": "2023-04-11T19:18:09.029742Z",
     "iopub.status.idle": "2023-04-11T19:18:13.456401Z",
     "shell.execute_reply": "2023-04-11T19:18:13.455296Z"
    },
    "papermill": {
     "duration": 4.45786,
     "end_time": "2023-04-11T19:18:13.459181",
     "exception": false,
     "start_time": "2023-04-11T19:18:09.001321",
     "status": "completed"
    },
    "tags": []
   },
   "outputs": [],
   "source": [
    "# Import necessary libraries\n",
    "import pandas as pd\n",
    "from sklearn.utils import resample\n",
    "import matplotlib.pyplot as plt\n",
    "import seaborn as sns\n",
    "import numpy as np\n",
    "import re\n",
    "import pickle\n",
    "import time\n",
    "\n",
    "from sklearn.feature_extraction.text import TfidfVectorizer, TfidfTransformer, CountVectorizer\n",
    "from sklearn.model_selection import train_test_split\n",
    "from sklearn.metrics import confusion_matrix, precision_score, recall_score, f1_score, accuracy_score, roc_auc_score, roc_curve, precision_recall_curve\n",
    "from sklearn import metrics\n",
    "from sklearn.compose import ColumnTransformer\n",
    "from sklearn.preprocessing import OneHotEncoder\n",
    "from sklearn.naive_bayes import GaussianNB\n",
    "from sklearn.tree import DecisionTreeClassifier\n",
    "from sklearn.neighbors import KNeighborsClassifier\n",
    "from sklearn.linear_model import LogisticRegression\n",
    "from sklearn.ensemble import RandomForestClassifier\n",
    "from sklearn import svm\n",
    "from lazypredict.Supervised import LazyClassifier, LazyRegressor\n",
    "\n",
    "# Suppress warnings\n",
    "import warnings \n",
    "warnings.filterwarnings('ignore')"
   ]
  },
  {
   "cell_type": "markdown",
   "id": "79563128",
   "metadata": {},
   "source": [
    "## Dataset 1"
   ]
  },
  {
   "cell_type": "code",
   "execution_count": 4,
   "id": "6b56c3d1",
   "metadata": {},
   "outputs": [
    {
     "name": "stdout",
     "output_type": "stream",
     "text": [
      "Training Set 1 Columns and Shape: Index(['id', 'label', 'tweet'], dtype='object') (31962, 3)\n",
      "Test Set 1 Columns and Shape: Index(['id', 'tweet'], dtype='object') (17197, 2)\n",
      "Train Set 1 -----\n",
      "id       0\n",
      "label    0\n",
      "tweet    0\n",
      "dtype: int64\n",
      "Test Set 1 -----\n",
      "id       0\n",
      "tweet    0\n",
      "dtype: int64\n"
     ]
    },
    {
     "data": {
      "text/html": [
       "<div>\n",
       "<style scoped>\n",
       "    .dataframe tbody tr th:only-of-type {\n",
       "        vertical-align: middle;\n",
       "    }\n",
       "\n",
       "    .dataframe tbody tr th {\n",
       "        vertical-align: top;\n",
       "    }\n",
       "\n",
       "    .dataframe thead th {\n",
       "        text-align: right;\n",
       "    }\n",
       "</style>\n",
       "<table border=\"1\" class=\"dataframe\">\n",
       "  <thead>\n",
       "    <tr style=\"text-align: right;\">\n",
       "      <th></th>\n",
       "      <th>id</th>\n",
       "      <th>label</th>\n",
       "      <th>tweet</th>\n",
       "    </tr>\n",
       "  </thead>\n",
       "  <tbody>\n",
       "    <tr>\n",
       "      <th>0</th>\n",
       "      <td>1</td>\n",
       "      <td>0</td>\n",
       "      <td>@user when a father is dysfunctional and is s...</td>\n",
       "    </tr>\n",
       "    <tr>\n",
       "      <th>1</th>\n",
       "      <td>2</td>\n",
       "      <td>0</td>\n",
       "      <td>@user @user thanks for #lyft credit i can't us...</td>\n",
       "    </tr>\n",
       "    <tr>\n",
       "      <th>2</th>\n",
       "      <td>3</td>\n",
       "      <td>0</td>\n",
       "      <td>bihday your majesty</td>\n",
       "    </tr>\n",
       "    <tr>\n",
       "      <th>3</th>\n",
       "      <td>4</td>\n",
       "      <td>0</td>\n",
       "      <td>#model   i love u take with u all the time in ...</td>\n",
       "    </tr>\n",
       "    <tr>\n",
       "      <th>4</th>\n",
       "      <td>5</td>\n",
       "      <td>0</td>\n",
       "      <td>factsguide: society now    #motivation</td>\n",
       "    </tr>\n",
       "  </tbody>\n",
       "</table>\n",
       "</div>"
      ],
      "text/plain": [
       "   id  label                                              tweet\n",
       "0   1      0   @user when a father is dysfunctional and is s...\n",
       "1   2      0  @user @user thanks for #lyft credit i can't us...\n",
       "2   3      0                                bihday your majesty\n",
       "3   4      0  #model   i love u take with u all the time in ...\n",
       "4   5      0             factsguide: society now    #motivation"
      ]
     },
     "execution_count": 4,
     "metadata": {},
     "output_type": "execute_result"
    }
   ],
   "source": [
    "# Reading the first training dataset\n",
    "train1 = pd.read_csv(\"/data/ARENAS_Automatic_Extremist_Analysis/ARENAS_Automatic_Extremist_Analysis/Data/Hate_speech_data/train_E6oV3lV.csv\")\n",
    "print(\"Training Set 1 Columns and Shape:\", train1.columns, train1.shape)\n",
    "\n",
    "# Reading the first test dataset\n",
    "test1 = pd.read_csv('/data/ARENAS_Automatic_Extremist_Analysis/ARENAS_Automatic_Extremist_Analysis/Data/Hate_speech_data/test_tweets_anuFYb8.csv')\n",
    "print(\"Test Set 1 Columns and Shape:\", test1.columns, test1.shape)\n",
    "\n",
    "print('Train Set 1 -----')\n",
    "print(train1.isnull().sum())\n",
    "print('Test Set 1 -----')\n",
    "print(test1.isnull().sum())\n",
    "train1.head()\n",
    "\n"
   ]
  },
  {
   "cell_type": "markdown",
   "id": "43c4d386",
   "metadata": {},
   "source": [
    "## Dataset 2"
   ]
  },
  {
   "cell_type": "code",
   "execution_count": 5,
   "id": "5606d158",
   "metadata": {},
   "outputs": [
    {
     "name": "stdout",
     "output_type": "stream",
     "text": [
      "\n",
      "Before modifying column names:\n",
      " Index(['index', 'oh_label', 'Text'], dtype='object')\n",
      "\n",
      "After modifying column names:\n",
      " Index(['id', 'label', 'tweet'], dtype='object')\n",
      "Training Set 2 Columns and Shape: Index(['id', 'label', 'tweet'], dtype='object') (111780, 3)\n",
      "Test Set 2 Columns and Shape: Index(['id', 'tweet'], dtype='object') (47906, 2)\n",
      "Train Set 2 -----\n",
      "id       0\n",
      "label    0\n",
      "tweet    0\n",
      "dtype: int64\n",
      "Test Set 2 -----\n",
      "id       0\n",
      "tweet    0\n",
      "dtype: int64\n"
     ]
    },
    {
     "data": {
      "text/html": [
       "<div>\n",
       "<style scoped>\n",
       "    .dataframe tbody tr th:only-of-type {\n",
       "        vertical-align: middle;\n",
       "    }\n",
       "\n",
       "    .dataframe tbody tr th {\n",
       "        vertical-align: top;\n",
       "    }\n",
       "\n",
       "    .dataframe thead th {\n",
       "        text-align: right;\n",
       "    }\n",
       "</style>\n",
       "<table border=\"1\" class=\"dataframe\">\n",
       "  <thead>\n",
       "    <tr style=\"text-align: right;\">\n",
       "      <th></th>\n",
       "      <th>id</th>\n",
       "      <th>label</th>\n",
       "      <th>tweet</th>\n",
       "    </tr>\n",
       "  </thead>\n",
       "  <tbody>\n",
       "    <tr>\n",
       "      <th>69140</th>\n",
       "      <td>69140</td>\n",
       "      <td>0</td>\n",
       "      <td>, 30 July 2008 (UTC) *: *double-checks your us...</td>\n",
       "    </tr>\n",
       "    <tr>\n",
       "      <th>157499</th>\n",
       "      <td>157499</td>\n",
       "      <td>0</td>\n",
       "      <td>born 31march 1995   Yes</td>\n",
       "    </tr>\n",
       "    <tr>\n",
       "      <th>83922</th>\n",
       "      <td>83922</td>\n",
       "      <td>0</td>\n",
       "      <td>dated prod|concern = confirmed sockpuppet] of ...</td>\n",
       "    </tr>\n",
       "    <tr>\n",
       "      <th>30953</th>\n",
       "      <td>30953</td>\n",
       "      <td>0</td>\n",
       "      <td>Where is that documented?  It's certainly not...</td>\n",
       "    </tr>\n",
       "    <tr>\n",
       "      <th>150734</th>\n",
       "      <td>150734</td>\n",
       "      <td>0</td>\n",
       "      <td>`:Perfectly fine - we'll appreciate your contr...</td>\n",
       "    </tr>\n",
       "  </tbody>\n",
       "</table>\n",
       "</div>"
      ],
      "text/plain": [
       "            id  label                                              tweet\n",
       "69140    69140      0  , 30 July 2008 (UTC) *: *double-checks your us...\n",
       "157499  157499      0                        born 31march 1995   Yes    \n",
       "83922    83922      0  dated prod|concern = confirmed sockpuppet] of ...\n",
       "30953    30953      0   Where is that documented?  It's certainly not...\n",
       "150734  150734      0  `:Perfectly fine - we'll appreciate your contr..."
      ]
     },
     "execution_count": 5,
     "metadata": {},
     "output_type": "execute_result"
    }
   ],
   "source": [
    "# Reading the second dataset\n",
    "df = pd.read_csv('/data/ARENAS_Automatic_Extremist_Analysis/ARENAS_Automatic_Extremist_Analysis/Data/Hate_speech_data/toxicity_parsed_dataset.csv')\n",
    "df.head()\n",
    "\n",
    "# Selecting relevant columns from the second dataset\n",
    "df = df[['index', 'oh_label', 'Text']]\n",
    "df.head()\n",
    "\n",
    "# Renaming columns for consistency\n",
    "print(\"\\nBefore modifying column names:\\n\", df.columns)\n",
    "df.rename(columns={'index': 'id', 'oh_label': 'label', 'Text': 'tweet'}, inplace=True)\n",
    "print(\"\\nAfter modifying column names:\\n\", df.columns)\n",
    "\n",
    "# Splitting the second dataset into training and testing subsets\n",
    "train2, test2 = train_test_split(df, test_size=0.3, random_state=10, shuffle=True)\n",
    "\n",
    "# Selecting relevant columns for the training and testing subsets\n",
    "train2 = train2[['id', 'label', 'tweet']]\n",
    "test2 = test2[['id', 'tweet']]\n",
    "\n",
    "print(\"Training Set 2 Columns and Shape:\", train2.columns, train2.shape)\n",
    "print(\"Test Set 2 Columns and Shape:\", test2.columns, test2.shape)\n",
    "print('Train Set 2 -----')\n",
    "print(train2.isnull().sum())\n",
    "print('Test Set 2 -----')\n",
    "print(test2.isnull().sum())\n",
    "train2.head()"
   ]
  },
  {
   "cell_type": "markdown",
   "id": "bdd84f90",
   "metadata": {},
   "source": [
    "## Merging datasets"
   ]
  },
  {
   "cell_type": "code",
   "execution_count": 4,
   "id": "f712d74e",
   "metadata": {},
   "outputs": [
    {
     "name": "stdout",
     "output_type": "stream",
     "text": [
      "Combined Training Set Shape: (143742, 3)\n",
      "Combined Test Set Shape: (65103, 2)\n"
     ]
    }
   ],
   "source": [
    "# Merging the two training datasets\n",
    "train = pd.concat([train1, train2], ignore_index=True)\n",
    "print(\"Combined Training Set Shape:\", train.shape)\n",
    "train['label'].value_counts()\n",
    "\n",
    "# Merging the two test datasets\n",
    "test = pd.concat([test1, test2], ignore_index=True)\n",
    "print(\"Combined Test Set Shape:\", test.shape)\n"
   ]
  },
  {
   "cell_type": "markdown",
   "id": "9d77f017",
   "metadata": {},
   "source": [
    "## Data Analysis and Cleaning"
   ]
  },
  {
   "cell_type": "code",
   "execution_count": 5,
   "id": "0436ef79",
   "metadata": {},
   "outputs": [
    {
     "name": "stdout",
     "output_type": "stream",
     "text": [
      "label\n",
      "1    130760\n",
      "0    130760\n",
      "Name: count, dtype: int64\n"
     ]
    }
   ],
   "source": [
    "# Define a function to clean text data\n",
    "def clean_text(df, text_field):\n",
    "    # Convert text to lowercase\n",
    "    df[text_field] = df[text_field].str.lower()\n",
    "    # Remove special characters, URLs, and other patterns\n",
    "    df[text_field] = df[text_field].apply(lambda elem: re.sub(r\"(@[A-Za-z0-9]+)|([^0-9A-Za-z \\t])|(\\w+:\\/\\/\\S+)|^rt|http.+?\", \"\", elem))\n",
    "    return df\n",
    "\n",
    "# Clean the text in the 'tweet' column of the test and train dataframes\n",
    "test_clean = clean_text(test, \"tweet\")\n",
    "train_clean = clean_text(train, \"tweet\")\n",
    "\n",
    "# Separate the majority and minority classes in the training data\n",
    "train_majority = train_clean[train_clean.label == 0]\n",
    "train_minority = train_clean[train_clean.label == 1]\n",
    "\n",
    "# Upsample the minority class to balance the dataset\n",
    "train_minority_upsampled = resample(train_minority,\n",
    "                                    replace=True,\n",
    "                                    n_samples=len(train_majority),\n",
    "                                    random_state=123)\n",
    "\n",
    "# Combine the upsampled minority class with the majority class\n",
    "train_upsampled = pd.concat([train_minority_upsampled, train_majority])\n",
    "\n",
    "# Display the class distribution in the upsampled dataset\n",
    "print(train_upsampled['label'].value_counts())\n",
    "\n",
    "# Extract the label and tweet columns from the upsampled dataset\n",
    "dt_transformed = train_upsampled[['label', 'tweet']]\n",
    "y = dt_transformed.iloc[:, :-1].values\n",
    "\n",
    "# Apply one-hot encoding to the 'label' column\n",
    "ct = ColumnTransformer(transformers=[('encoder', OneHotEncoder(), [0])], remainder='passthrough')\n",
    "y = np.array(ct.fit_transform(y))\n",
    "\n",
    "# Convert the one-hot encoded labels into a DataFrame\n",
    "y_df = pd.DataFrame(y)\n",
    "\n",
    "# Extract the one-hot encoded label for the 'hate' class \n",
    "y_hate = np.array(y_df[0])\n",
    "\n",
    "# Apply Count Vectorization to the 'tweet' column to create a feature matrix\n",
    "cv = CountVectorizer(max_features=2000)\n",
    "x = cv.fit_transform(train_upsampled['tweet']).toarray()\n",
    "\n",
    "# Now 'y_hate' contains the labels and 'x' contains the corresponding text features\n"
   ]
  },
  {
   "cell_type": "markdown",
   "id": "c7800538",
   "metadata": {},
   "source": [
    "## Train & test splitting the data"
   ]
  },
  {
   "cell_type": "code",
   "execution_count": 6,
   "id": "6e54f9e5",
   "metadata": {},
   "outputs": [],
   "source": [
    "x_train, x_test, y_train, y_test = train_test_split(x, y_hate, test_size = 0.30, random_state = 1)"
   ]
  },
  {
   "cell_type": "markdown",
   "id": "24bfaf5f",
   "metadata": {},
   "source": [
    "# **Testing With Different Models**\n",
    "## Gaussian Naive Bayes, Decision Tree, K Nearest Neighbors, Random Forest, SVM"
   ]
  },
  {
   "cell_type": "markdown",
   "id": "0a99d76d",
   "metadata": {},
   "source": [
    "## Naive Bayes"
   ]
  },
  {
   "cell_type": "code",
   "execution_count": 7,
   "id": "74fa0bb8",
   "metadata": {},
   "outputs": [
    {
     "name": "stdout",
     "output_type": "stream",
     "text": [
      "Training time of Naive Bayes: 6.624955 seconds\n"
     ]
    }
   ],
   "source": [
    "# Create a Gaussian Naive Bayes classifier\n",
    "classifier_np = GaussianNB()\n",
    "\n",
    "# Start a timer to measure the training time\n",
    "start_time = time.time()\n",
    "\n",
    "# Train the Naive Bayes classifier using the training data\n",
    "classifier_np.fit(x_train, y_train)\n",
    "\n",
    "# Stop the timer and calculate the training time\n",
    "end_time = time.time()\n",
    "training_time = end_time - start_time\n",
    "\n",
    "# Print the training time\n",
    "print(f\"Training time of Naive Bayes: {training_time:.6f} seconds\")\n",
    "\n",
    "# Save the trained Naive Bayes classifier to a file\n",
    "filename = 'twitter_with_two_dataset_model_GaussianNB.sav'\n",
    "with open(filename, 'wb') as model_file:\n",
    "    pickle.dump(classifier_np, model_file)\n"
   ]
  },
  {
   "cell_type": "markdown",
   "id": "94cfe558",
   "metadata": {},
   "source": [
    "## Decision Tree"
   ]
  },
  {
   "cell_type": "code",
   "execution_count": 8,
   "id": "0dd72086",
   "metadata": {},
   "outputs": [
    {
     "name": "stdout",
     "output_type": "stream",
     "text": [
      "Training time of Decision Tree: 177.622541 seconds\n"
     ]
    }
   ],
   "source": [
    "# Create a Decision Tree classifier with the specified criteria\n",
    "classifier_dt = DecisionTreeClassifier(criterion='entropy', random_state=0)\n",
    "\n",
    "# Start a timer to measure the training time\n",
    "start_time = time.time()\n",
    "\n",
    "# Train the Decision Tree classifier using the training data\n",
    "classifier_dt.fit(x_train, y_train)\n",
    "\n",
    "# Stop the timer and calculate the training time\n",
    "end_time = time.time()\n",
    "training_time = end_time - start_time\n",
    "\n",
    "# Print the training time\n",
    "print(f\"Training time of Decision Tree: {training_time:.6f} seconds\")\n",
    "\n",
    "# Save the trained Decision Tree classifier to a file\n",
    "filename = 'twitter_with_two_dataset_model_Decision_Tree.sav'\n",
    "with open(filename, 'wb') as model_file:\n",
    "    pickle.dump(classifier_dt, model_file)"
   ]
  },
  {
   "cell_type": "markdown",
   "id": "35736db3",
   "metadata": {},
   "source": [
    "## K-Nearest Neighbors"
   ]
  },
  {
   "cell_type": "code",
   "execution_count": 9,
   "id": "3c44c630",
   "metadata": {},
   "outputs": [
    {
     "name": "stdout",
     "output_type": "stream",
     "text": [
      "Training time of KNN: 0.011830 seconds\n"
     ]
    }
   ],
   "source": [
    "# Create a KNN classifier with the specified parameters\n",
    "classifier_knn = KNeighborsClassifier(n_neighbors=5, metric='minkowski', p=2)\n",
    "\n",
    "# Start a timer to measure the training time\n",
    "start_time = time.time()\n",
    "\n",
    "# Train the KNN classifier using the training data\n",
    "classifier_knn.fit(x_train, y_train)\n",
    "\n",
    "# Stop the timer and calculate the training time\n",
    "end_time = time.time()\n",
    "training_time = end_time - start_time\n",
    "\n",
    "# Print the training time\n",
    "print(f\"Training time of KNN: {training_time:.6f} seconds\")\n",
    "\n",
    "# Save the trained KNN classifier to a file\n",
    "filename = 'twitter_with_two_dataset_model_KNN.sav'\n",
    "with open(filename, 'wb') as model_file:\n",
    "    pickle.dump(classifier_knn, model_file)"
   ]
  },
  {
   "cell_type": "markdown",
   "id": "3141e57d",
   "metadata": {},
   "source": [
    "## Logistic Regression"
   ]
  },
  {
   "cell_type": "code",
   "execution_count": 10,
   "id": "9a041824",
   "metadata": {},
   "outputs": [
    {
     "name": "stdout",
     "output_type": "stream",
     "text": [
      "Training time of Logistic Regression: 40.494036 seconds\n"
     ]
    }
   ],
   "source": [
    "# Create a Logistic Regression classifier with default parameters\n",
    "classifier_lr = LogisticRegression(random_state=0)\n",
    "\n",
    "# Start a timer to measure the training time\n",
    "start_time = time.time()\n",
    "\n",
    "# Train the Logistic Regression classifier using the training data\n",
    "classifier_lr.fit(x_train, y_train)\n",
    "\n",
    "# Stop the timer and calculate the training time\n",
    "end_time = time.time()\n",
    "training_time = end_time - start_time\n",
    "\n",
    "# Print the training time\n",
    "print(f\"Training time of Logistic Regression: {training_time:.6f} seconds\")\n",
    "\n",
    "# Save the trained Logistic Regression classifier to a file\n",
    "filename = 'twitter_with_two_dataset_model_Logistic_Regression.sav'\n",
    "with open(filename, 'wb') as model_file:\n",
    "    pickle.dump(classifier_lr, model_file)"
   ]
  },
  {
   "cell_type": "markdown",
   "id": "6799da74",
   "metadata": {},
   "source": [
    "## Random Forest"
   ]
  },
  {
   "cell_type": "code",
   "execution_count": 11,
   "metadata": {},
   "outputs": [
    {
     "name": "stdout",
     "output_type": "stream",
     "text": [
      "Training time of Random Forest: 51.582636 seconds\n"
     ]
    }
   ],
   "source": [
    "# Create a Random Forest classifier with the specified parameters\n",
    "classifier_rf = RandomForestClassifier(n_estimators=10, criterion='entropy', random_state=0)\n",
    "\n",
    "# Start a timer to measure the training time\n",
    "start_time = time.time()\n",
    "\n",
    "# Train the Random Forest classifier using the training data\n",
    "classifier_rf.fit(x_train, y_train)\n",
    "\n",
    "# Stop the timer and calculate the training time\n",
    "end_time = time.time()\n",
    "training_time = end_time - start_time\n",
    "\n",
    "# Print the training time\n",
    "print(f\"Training time of Random Forest: {training_time:.6f} seconds\")\n",
    "\n",
    "# Save the trained Random Forest classifier to a file\n",
    "filename = 'twitter_with_two_dataset_model_Random_Forest.sav'\n",
    "with open(filename, 'wb') as model_file:\n",
    "    pickle.dump(classifier_rf, model_file)"
   ]
  },
  {
   "cell_type": "markdown",
   "id": "3f14b0f6",
   "metadata": {},
   "source": [
    "## SVM "
   ]
  },
  {
   "cell_type": "code",
   "execution_count": null,
   "id": "03573317",
   "metadata": {},
   "outputs": [],
   "source": [
    "\"\"\"# Create an instance of the SVM classifier with a linear kernel\n",
    "classifier_svm = svm.SVC(kernel='linear')\n",
    "\n",
    "# Start a timer to measure the training time\n",
    "start_time = time.time()\n",
    "\n",
    "# Train the SVM classifier using the training data\n",
    "classifier_svm.fit(x_train, y_train)\n",
    "\n",
    "# Stop the timer and calculate the training time\n",
    "end_time = time.time()\n",
    "training_time = end_time - start_time\n",
    "\n",
    "# Print the training time\n",
    "print(f\"Training time of SVM: {training_time:.6f} seconds\")\n",
    "\n",
    "# Save the trained SVM classifier to a file\n",
    "filename = 'twitter_with_two_dataset_model_SVM.sav'\n",
    "with open(filename, 'wb') as model_file:\n",
    "    pickle.dump(classifier_svm, model_file)\"\"\""
   ]
  },
  {
   "cell_type": "code",
   "execution_count": null,
   "id": "fd16e863",
   "metadata": {},
   "outputs": [],
   "source": [
    "\"\"\"\n",
    "# short version\n",
    "# Define the fraction of data you want to keep (e.g., 10%)\n",
    "fraction_to_keep = 0.1\n",
    "\n",
    "# Determine the number of samples to keep\n",
    "num_samples_to_keep = int(len(x_train) * fraction_to_keep)\n",
    "\n",
    "# Randomly select a subset of data\n",
    "indices = np.random.choice(len(x_train), num_samples_to_keep, replace=False)\n",
    "x_train_subset = x_train[indices]\n",
    "y_train_subset = y_train[indices]\n",
    "\n",
    "# Create an instance of the StandardScaler\n",
    "scaler = StandardScaler()\n",
    "\n",
    "# Fit and transform the scaler on the subset of training data\n",
    "x_train_scaled = scaler.fit_transform(x_train_subset)\n",
    "\n",
    "# Create an instance of the SVM classifier with a linear kernel\n",
    "classifier_svm = svm.SVC(kernel='linear')\n",
    "\n",
    "# Start a timer to measure the training time\n",
    "start_time = time.time()\n",
    "\n",
    "# Fit the SVM classifier on the scaled subset of data\n",
    "classifier_svm.fit(x_train_scaled, y_train_subset)\n",
    "\n",
    "# Stop the timer and calculate the training time\n",
    "end_time = time.time()\n",
    "training_time = end_time - start_time\n",
    "\n",
    "# Print the training time\n",
    "print(f\"Training time of SVM: {training_time:.6f} seconds\")\n",
    "\n",
    "# Save the trained SVM classifier to a file\n",
    "filename = 'twitter_with_two_dataset_model_SVM.sav'\n",
    "with open(filename, 'wb') as model_file:\n",
    "    pickle.dump(classifier_svm, model_file)\"\"\""
   ]
  },
  {
   "cell_type": "markdown",
   "id": "5dd1fed3",
   "metadata": {
    "papermill": {
     "duration": 0.045282,
     "end_time": "2023-04-11T19:24:51.111918",
     "exception": false,
     "start_time": "2023-04-11T19:24:51.066636",
     "status": "completed"
    },
    "tags": []
   },
   "source": [
    "# Confusion Matrix for Different Models"
   ]
  },
  {
   "cell_type": "markdown",
   "id": "4c6a2b3b",
   "metadata": {
    "papermill": {
     "duration": 0.04633,
     "end_time": "2023-04-11T19:24:51.204106",
     "exception": false,
     "start_time": "2023-04-11T19:24:51.157776",
     "status": "completed"
    },
    "tags": []
   },
   "source": [
    "## Naive Bayes"
   ]
  },
  {
   "cell_type": "code",
   "execution_count": 12,
   "id": "91249a65",
   "metadata": {},
   "outputs": [
    {
     "name": "stdout",
     "output_type": "stream",
     "text": [
      "Confusion Matrix for Naive Bayes:\n",
      "[[18011 21485]\n",
      " [  675 38285]]\n"
     ]
    },
    {
     "data": {
      "image/png": "[encoded data removed]",
      "text/plain": [
       "<Figure size 640x480 with 2 Axes>"
      ]
     },
     "metadata": {},
     "output_type": "display_data"
    },
    {
     "name": "stdout",
     "output_type": "stream",
     "text": [
      "ROC-AUC for Naive Bayes: 0.7255\n"
     ]
    }
   ],
   "source": [
    "# Naive Bayes\n",
    "# Make predictions using the Naive Bayes classifier\n",
    "y_pred_np = classifier_np.predict(x_test)\n",
    "\n",
    "# Calculate and print the confusion matrix\n",
    "cm = confusion_matrix(y_test, y_pred_np)\n",
    "print(\"Confusion Matrix for Naive Bayes:\")\n",
    "print(cm)\n",
    "\n",
    "# Display the confusion matrix\n",
    "cm_display = metrics.ConfusionMatrixDisplay(\n",
    "    confusion_matrix=confusion_matrix(y_test, y_pred_np, labels=[1, 0]),\n",
    "    display_labels=[True, False]\n",
    ")\n",
    "cm_display.plot()\n",
    "plt.show()\n",
    "\n",
    "# Calculate ROC-AUC for Naive Bayes\n",
    "yhat_np = classifier_np.predict_proba(x_test)\n",
    "yhat_np = yhat_np[:, 1]\n",
    "fpr_np, tpr_np, _ = metrics.roc_curve(y_test, yhat_np)\n",
    "auc_np = round(metrics.roc_auc_score(y_test, yhat_np), 4)\n",
    "print(f'ROC-AUC for Naive Bayes: {auc_np}')\n"
   ]
  },
  {
   "cell_type": "markdown",
   "id": "d15eb2ca",
   "metadata": {
    "papermill": {
     "duration": 0.045266,
     "end_time": "2023-04-11T19:24:57.215714",
     "exception": false,
     "start_time": "2023-04-11T19:24:57.170448",
     "status": "completed"
    },
    "tags": []
   },
   "source": [
    "## Decision Tree"
   ]
  },
  {
   "cell_type": "code",
   "execution_count": 14,
   "id": "ee5c75f1",
   "metadata": {},
   "outputs": [
    {
     "name": "stdout",
     "output_type": "stream",
     "text": [
      "Confusion Matrix for Decision Tree:\n",
      "[[39296   200]\n",
      " [ 2767 36193]]\n"
     ]
    },
    {
     "data": {
      "image/png": "[encoded data removed]",
      "text/plain": [
       "<Figure size 640x480 with 2 Axes>"
      ]
     },
     "metadata": {},
     "output_type": "display_data"
    },
    {
     "name": "stdout",
     "output_type": "stream",
     "text": [
      "ROC-AUC for Decision Tree: 0.9688\n"
     ]
    }
   ],
   "source": [
    "# Decision Tree\n",
    "# Make predictions using the Decision Tree classifier\n",
    "y_pred_dt = classifier_dt.predict(x_test)\n",
    "\n",
    "# Calculate and print the confusion matrix\n",
    "cm = confusion_matrix(y_test, y_pred_dt)\n",
    "print(\"Confusion Matrix for Decision Tree:\")\n",
    "print(cm)\n",
    "\n",
    "# Display the confusion matrix\n",
    "cm_display = metrics.ConfusionMatrixDisplay(\n",
    "    confusion_matrix=confusion_matrix(y_test, y_pred_dt, labels=[1, 0]),\n",
    "    display_labels=[True, False]\n",
    ")\n",
    "cm_display.plot()\n",
    "plt.show()\n",
    "\n",
    "# Calculate ROC-AUC for Decision Tree\n",
    "yhat_dt = classifier_dt.predict_proba(x_test)\n",
    "yhat_dt = yhat_dt[:, 1]\n",
    "fpr_dt, tpr_dt, _ = metrics.roc_curve(y_test, yhat_dt)\n",
    "auc_dt = round(metrics.roc_auc_score(y_test, yhat_dt), 4)\n",
    "print(f'ROC-AUC for Decision Tree: {auc_dt}')\n"
   ]
  },
  {
   "cell_type": "markdown",
   "id": "52a79837",
   "metadata": {
    "papermill": {
     "duration": 0.054068,
     "end_time": "2023-04-11T19:24:59.287321",
     "exception": false,
     "start_time": "2023-04-11T19:24:59.233253",
     "status": "completed"
    },
    "tags": []
   },
   "source": [
    "## K-Nearest Neighbors"
   ]
  },
  {
   "cell_type": "code",
   "execution_count": 15,
   "id": "d41e8670",
   "metadata": {},
   "outputs": [
    {
     "name": "stdout",
     "output_type": "stream",
     "text": [
      "Confusion Matrix for KNN:\n",
      "[[38910   586]\n",
      " [ 7470 31490]]\n"
     ]
    },
    {
     "data": {
      "image/png": "[encoded data removed]",
      "text/plain": [
       "<Figure size 640x480 with 2 Axes>"
      ]
     },
     "metadata": {},
     "output_type": "display_data"
    },
    {
     "name": "stdout",
     "output_type": "stream",
     "text": [
      "ROC-AUC for KNN: 0.9655\n"
     ]
    }
   ],
   "source": [
    "# K-Nearest Neighbors (KNN)\n",
    "# Make predictions using the KNN classifier\n",
    "y_pred_knn = classifier_knn.predict(x_test)\n",
    "\n",
    "# Calculate and print the confusion matrix\n",
    "cm = confusion_matrix(y_test, y_pred_knn)\n",
    "print(\"Confusion Matrix for KNN:\")\n",
    "print(cm)\n",
    "\n",
    "# Display the confusion matrix\n",
    "cm_display = metrics.ConfusionMatrixDisplay(\n",
    "    confusion_matrix=confusion_matrix(y_test, y_pred_knn, labels=[1, 0]),\n",
    "    display_labels=[True, False]\n",
    ")\n",
    "cm_display.plot()\n",
    "plt.show()\n",
    "\n",
    "# Calculate ROC-AUC for KNN\n",
    "yhat_knn = classifier_knn.predict_proba(x_test)\n",
    "yhat_knn = yhat_knn[:, 1]\n",
    "fpr_knn, tpr_knn, _ = metrics.roc_curve(y_test, yhat_knn)\n",
    "auc_knn = round(metrics.roc_auc_score(y_test, yhat_knn), 4)\n",
    "print(f'ROC-AUC for KNN: {auc_knn}')\n"
   ]
  },
  {
   "cell_type": "markdown",
   "id": "5437cdf4",
   "metadata": {
    "papermill": {
     "duration": 0.046834,
     "end_time": "2023-04-11T20:09:33.977797",
     "exception": false,
     "start_time": "2023-04-11T20:09:33.930963",
     "status": "completed"
    },
    "tags": []
   },
   "source": [
    "## Logistic Regression"
   ]
  },
  {
   "cell_type": "code",
   "execution_count": 16,
   "id": "3f99b5c4",
   "metadata": {},
   "outputs": [
    {
     "name": "stdout",
     "output_type": "stream",
     "text": [
      "Confusion Matrix for Logistic Regression:\n",
      "[[33402  6094]\n",
      " [ 3524 35436]]\n"
     ]
    },
    {
     "data": {
      "image/png": "[encoded data removed]",
      "text/plain": [
       "<Figure size 640x480 with 2 Axes>"
      ]
     },
     "metadata": {},
     "output_type": "display_data"
    },
    {
     "name": "stdout",
     "output_type": "stream",
     "text": [
      "ROC-AUC for Logistic Regression: 0.9508\n"
     ]
    }
   ],
   "source": [
    "# Logistic Regression\n",
    "# Make predictions using the Logistic Regression classifier\n",
    "y_pred_lr = classifier_lr.predict(x_test)\n",
    "\n",
    "# Calculate and print the confusion matrix\n",
    "cm = confusion_matrix(y_test, y_pred_lr)\n",
    "print(\"Confusion Matrix for Logistic Regression:\")\n",
    "print(cm)\n",
    "\n",
    "# Display the confusion matrix\n",
    "cm_display = metrics.ConfusionMatrixDisplay(\n",
    "    confusion_matrix=confusion_matrix(y_test, y_pred_lr, labels=[1, 0]),\n",
    "    display_labels=[True, False]\n",
    ")\n",
    "cm_display.plot()\n",
    "plt.show()\n",
    "\n",
    "# Calculate ROC-AUC for Logistic Regression\n",
    "yhat_lr = classifier_lr.predict_proba(x_test)\n",
    "yhat_lr = yhat_lr[:, 1]\n",
    "fpr_lr, tpr_lr, _ = metrics.roc_curve(y_test, yhat_lr)\n",
    "auc_lr = round(metrics.roc_auc_score(y_test, yhat_lr), 4)\n",
    "print(f'ROC-AUC for Logistic Regression: {auc_lr}')\n"
   ]
  },
  {
   "cell_type": "markdown",
   "id": "ed51a9b7",
   "metadata": {
    "papermill": {
     "duration": 0.04823,
     "end_time": "2023-04-11T20:09:36.038193",
     "exception": false,
     "start_time": "2023-04-11T20:09:35.989963",
     "status": "completed"
    },
    "tags": []
   },
   "source": [
    "## Random Forest"
   ]
  },
  {
   "cell_type": "code",
   "execution_count": 17,
   "id": "57290812",
   "metadata": {},
   "outputs": [
    {
     "name": "stdout",
     "output_type": "stream",
     "text": [
      "Confusion Matrix for Random Forest:\n",
      "[[39306   190]\n",
      " [ 1246 37714]]\n"
     ]
    },
    {
     "data": {
      "image/png": "[encoded data removed]",
      "text/plain": [
       "<Figure size 640x480 with 2 Axes>"
      ]
     },
     "metadata": {},
     "output_type": "display_data"
    },
    {
     "name": "stdout",
     "output_type": "stream",
     "text": [
      "ROC-AUC for Random Forest: 0.9987\n"
     ]
    }
   ],
   "source": [
    "# Random Forest\n",
    "# Make predictions using the Random Forest classifier\n",
    "y_pred_rf = classifier_rf.predict(x_test)\n",
    "\n",
    "# Calculate and print the confusion matrix\n",
    "cm = confusion_matrix(y_test, y_pred_rf)\n",
    "print(\"Confusion Matrix for Random Forest:\")\n",
    "print(cm)\n",
    "\n",
    "# Display the confusion matrix\n",
    "cm_display = metrics.ConfusionMatrixDisplay(\n",
    "    confusion_matrix=confusion_matrix(y_test, y_pred_rf, labels=[1, 0]),\n",
    "    display_labels=[True, False]\n",
    ")\n",
    "cm_display.plot()\n",
    "plt.show()\n",
    "\n",
    "# Calculate ROC-AUC for Random Forest\n",
    "yhat_rf = classifier_rf.predict_proba(x_test)\n",
    "yhat_rf = yhat_rf[:, 1]\n",
    "fpr_rf, tpr_rf, _ = metrics.roc_curve(y_test, yhat_rf)\n",
    "auc_rf = round(metrics.roc_auc_score(y_test, yhat_rf), 4)\n",
    "print(f'ROC-AUC for Random Forest: {auc_rf}')\n"
   ]
  },
  {
   "cell_type": "markdown",
   "id": "43a48dff",
   "metadata": {
    "papermill": {
     "duration": 0.054395,
     "end_time": "2023-04-11T20:09:39.210630",
     "exception": false,
     "start_time": "2023-04-11T20:09:39.156235",
     "status": "completed"
    },
    "tags": []
   },
   "source": [
    "## Support Vector Machine"
   ]
  },
  {
   "cell_type": "code",
   "execution_count": 20,
   "id": "2ecc7690",
   "metadata": {
    "execution": {
     "iopub.execute_input": "2023-04-11T20:09:39.311428Z",
     "iopub.status.busy": "2023-04-11T20:09:39.310670Z",
     "iopub.status.idle": "2023-04-11T20:09:39.317075Z",
     "shell.execute_reply": "2023-04-11T20:09:39.316221Z"
    },
    "papermill": {
     "duration": 0.060234,
     "end_time": "2023-04-11T20:09:39.319425",
     "exception": false,
     "start_time": "2023-04-11T20:09:39.259191",
     "status": "completed"
    },
    "tags": []
   },
   "outputs": [
    {
     "name": "stdout",
     "output_type": "stream",
     "text": [
      "[[33272  6224]\n",
      " [ 5617 33343]]\n"
     ]
    },
    {
     "data": {
      "image/png": "[encoded data removed]",
      "text/plain": [
       "<Figure size 640x480 with 2 Axes>"
      ]
     },
     "metadata": {},
     "output_type": "display_data"
    }
   ],
   "source": [
    "\"\"\"\n",
    "# Optionally, transform your test data using the same scaler\n",
    "x_test_scaled = scaler.transform(x_test)\n",
    "\n",
    "# Make predictions on the scaled test data\n",
    "y_pred_svm = classifier_svm.predict(x_test_scaled)\n",
    "\n",
    "# Calculate and print the confusion matrix\n",
    "cm = confusion_matrix(y_test, y_pred_svm)\n",
    "print(\"Confusion Matrix for SVM:\")\n",
    "print(cm)\n",
    "\n",
    "# Display the confusion matrix\n",
    "cm_display = metrics.ConfusionMatrixDisplay(\n",
    "    confusion_matrix=confusion_matrix(y_test, y_pred_svm, labels=[1, 0]),\n",
    "    display_labels=[True, False]\n",
    ")\n",
    "cm_display.plot()\n",
    "plt.show()\n",
    "\n",
    "# Calculate ROC-AUC for SVM\n",
    "yhat_svm = classifier_svm.decision_function(x_test_scaled)\n",
    "fpr_svm, tpr_svm, _ = metrics.roc_curve(y_test, yhat_svm)\n",
    "auc_svm = round(metrics.roc_auc_score(y_test, yhat_svm), 4)\n",
    "print(f'ROC-AUC for SVM: {auc_svm}')\"\"\"\n"
   ]
  },
  {
   "cell_type": "markdown",
   "id": "7906a0c9",
   "metadata": {
    "papermill": {
     "duration": 0.049289,
     "end_time": "2023-04-11T20:09:39.524203",
     "exception": false,
     "start_time": "2023-04-11T20:09:39.474914",
     "status": "completed"
    },
    "tags": []
   },
   "source": [
    "# Generating the Accuracy & F1 Score"
   ]
  },
  {
   "cell_type": "code",
   "execution_count": 18,
   "id": "aa62de0d",
   "metadata": {
    "execution": {
     "iopub.execute_input": "2023-04-11T20:09:39.625314Z",
     "iopub.status.busy": "2023-04-11T20:09:39.624395Z",
     "iopub.status.idle": "2023-04-11T20:09:39.928847Z",
     "shell.execute_reply": "2023-04-11T20:09:39.927460Z"
    },
    "papermill": {
     "duration": 0.358046,
     "end_time": "2023-04-11T20:09:39.931436",
     "exception": false,
     "start_time": "2023-04-11T20:09:39.573390",
     "status": "completed"
    },
    "tags": []
   },
   "outputs": [
    {
     "name": "stdout",
     "output_type": "stream",
     "text": [
      "----------------------------------------\n",
      "Random Forest Accuracy:  0.9816967472213725\n",
      "F1 score:  0.9813176519567026\n",
      "----------------------------------------\n",
      "\n",
      "----------------------------------------\n",
      "K-Nearest Neighbors Accuracy:  0.8973182420719894\n",
      "F1 score:  0.8865927135536911\n",
      "----------------------------------------\n",
      "\n",
      "----------------------------------------\n",
      "Logistic Regression Accuracy:  0.8774089935760171\n",
      "F1 score:  0.8805068952664927\n",
      "----------------------------------------\n",
      "\n",
      "----------------------------------------\n",
      "Decision Tree Accuracy:  0.962182624655858\n",
      "F1 score:  0.9606253234774992\n",
      "----------------------------------------\n",
      "\n",
      "----------------------------------------\n",
      "Naive Bayes Accuracy:  0.7175486897114306\n",
      "F1 score:  0.7755494783753671\n",
      "----------------------------------------\n",
      "\n"
     ]
    }
   ],
   "source": [
    "rf_score = accuracy_score(y_test, y_pred_rf)\n",
    "knn_score = accuracy_score(y_test, y_pred_knn)\n",
    "lr_score = accuracy_score(y_test, y_pred_lr)\n",
    "dt_score = accuracy_score(y_test, y_pred_dt)\n",
    "np_score = accuracy_score(y_test, y_pred_np)\n",
    "\n",
    "print ('--' * 20)\n",
    "print('Random Forest Accuracy: ', str(rf_score))\n",
    "print('F1 score: ', f1_score(y_test, y_pred_rf, labels = [1,0]))\n",
    "print ('--' * 20)\n",
    "print ('')\n",
    "print ('--' * 20)\n",
    "print('K-Nearest Neighbors Accuracy: ', str(knn_score))\n",
    "print('F1 score: ', f1_score(y_test, y_pred_knn, labels = [1,0]))\n",
    "print ('--' * 20)\n",
    "print ('')\n",
    "\n",
    "print ('--' * 20)\n",
    "print('Logistic Regression Accuracy: ',str(lr_score))\n",
    "print('F1 score: ', f1_score(y_test, y_pred_lr, labels = [1,0]))\n",
    "print ('--' * 20)\n",
    "print ('')\n",
    "print ('--' * 20)\n",
    "print('Decision Tree Accuracy: ', str(dt_score))\n",
    "print('F1 score: ', f1_score(y_test, y_pred_dt, labels = [1,0]))\n",
    "print ('--' * 20)\n",
    "print ('')\n",
    "print ('--' * 20)\n",
    "print('Naive Bayes Accuracy: ', str(np_score))\n",
    "print('F1 score: ', f1_score(y_test, y_pred_np, labels = [1,0]))\n",
    "print ('--' * 20)\n",
    "print ('')"
   ]
  },
  {
   "cell_type": "code",
   "execution_count": 22,
   "id": "2759b0f0",
   "metadata": {},
   "outputs": [
    {
     "name": "stdout",
     "output_type": "stream",
     "text": [
      "----------------------------------------\n",
      "Support Vector Machine Accuracy:  0.8490746405628633\n",
      "F1 score:  0.8492110993670967\n",
      "----------------------------------------\n",
      "\n"
     ]
    }
   ],
   "source": [
    "\"\"\"svm_score = accuracy_score(y_test, y_pred_svm)\n",
    "print ('--' * 20)\n",
    "print('Support Vector Machine Accuracy: ', str(svm_score))\n",
    "print('F1 score: ', f1_score(y_test, y_pred_svm, labels = [1,0]))\n",
    "print ('--' * 20)\n",
    "print ('')\"\"\""
   ]
  }
 ],
 "metadata": {
  "interpreter": {
   "hash": "9390704837abc4b932238deb63d8c51a207e21ee5e112978f85afdd1d568c2ba"
  },
  "kernelspec": {
   "display_name": "Python 3.8.10 ('venv')",
   "language": "python",
   "name": "python3"
  },
  "language_info": {
   "codemirror_mode": {
    "name": "ipython",
    "version": 3
   },
   "file_extension": ".py",
   "mimetype": "text/x-python",
   "name": "python",
   "nbconvert_exporter": "python",
   "pygments_lexer": "ipython3",
   "version": "3.10.12"
  },
  "papermill": {
   "default_parameters": {},
   "duration": 4444.694807,
   "end_time": "2023-04-11T20:31:49.316959",
   "environment_variables": {},
   "exception": null,
   "input_path": "__notebook__.ipynb",
   "output_path": "__notebook__.ipynb",
   "parameters": {},
   "start_time": "2023-04-11T19:17:44.622152",
   "version": "2.4.0"
  }
 },
 "nbformat": 4,
 "nbformat_minor": 5
}
